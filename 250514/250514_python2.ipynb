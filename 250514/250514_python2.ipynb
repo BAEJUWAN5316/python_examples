{
  "nbformat": 4,
  "nbformat_minor": 0,
  "metadata": {
    "colab": {
      "provenance": [],
      "authorship_tag": "ABX9TyPEK4Vb5QYVsOqCNkkvv6eQ",
      "include_colab_link": true
    },
    "kernelspec": {
      "name": "python3",
      "display_name": "Python 3"
    },
    "language_info": {
      "name": "python"
    }
  },
  "cells": [
    {
      "cell_type": "markdown",
      "metadata": {
        "id": "view-in-github",
        "colab_type": "text"
      },
      "source": [
        "<a href=\"https://colab.research.google.com/github/BAEJUWAN5316/python_examples/blob/master/250514/250514_python2.ipynb\" target=\"_parent\"><img src=\"https://colab.research.google.com/assets/colab-badge.svg\" alt=\"Open In Colab\"/></a>"
      ]
    },
    {
      "cell_type": "markdown",
      "source": [],
      "metadata": {
        "id": "RFwg8KT7FVuA"
      }
    },
    {
      "cell_type": "markdown",
      "source": [
        "* colab에 좋은 점 : 시각화가 잘 되어 있고, 설치가 필요 없고, 학습을 빠르게 할 수 있다.\n",
        "\n",
        "* .py에 좋은점 : 실무에서는 colab으로 개발하는 것이 아닙니다! .py로 만들어서 개발해야 합니다!"
      ],
      "metadata": {
        "id": "fAphkeBNZT79"
      }
    },
    {
      "cell_type": "markdown",
      "source": [
        "# 250512 시작\n",
        "\n",
        "```\n",
        "여기는 코드로 표현\n",
        "```\n",
        "# colab\n",
        "\n",
        "- google id만 있으면 ram을 12G, disk를 100G나 되는 원격 컴퓨터를 무료로 준다!\n",
        "- 여기에는 Python 환경이 모두 설정이 되어 있어서 별도의 설정이 필요 없다!\n",
        "- google drive가 자동 연동되어서 별도로 다운로드 해서 저장할 필요가 없다!\n",
        "\n",
        "- Ctrl + Enter : 현재 셀 실행\n",
        "- Alt + Enter : 현재 셀 실행 + 아래 셀 하나 **만들기**"
      ],
      "metadata": {
        "id": "j9xLosi0FW9L"
      }
    },
    {
      "cell_type": "markdown",
      "source": [
        "# range"
      ],
      "metadata": {
        "id": "a52LINaiQa5m"
      }
    },
    {
      "cell_type": "code",
      "source": [
        "I = [10, 20, 30, 40]\n",
        "I # 이렇게 마지막 라인에 한하여 print를 안해도 출력이 됩니다.\n"
      ],
      "metadata": {
        "colab": {
          "base_uri": "https://localhost:8080/"
        },
        "id": "12Tyu4CFFVeX",
        "outputId": "79d2347d-ef26-433a-9ce4-25e89221d8f1"
      },
      "execution_count": null,
      "outputs": [
        {
          "output_type": "execute_result",
          "data": {
            "text/plain": [
              "[10, 20, 30, 40]"
            ]
          },
          "metadata": {},
          "execution_count": 4
        }
      ]
    },
    {
      "cell_type": "code",
      "source": [
        "range(0, 10)\n",
        "#[0, 1, 2, 3, 4, 5, 6, 7, 8, 9] 아니 왜 이렇게 안 나오지?"
      ],
      "metadata": {
        "colab": {
          "base_uri": "https://localhost:8080/"
        },
        "id": "KqXkS73RJ_zv",
        "outputId": "03c19189-7ed5-443f-b6e9-4fbf2a5d7057"
      },
      "execution_count": null,
      "outputs": [
        {
          "output_type": "execute_result",
          "data": {
            "text/plain": [
              "range(0, 10)"
            ]
          },
          "metadata": {},
          "execution_count": 5
        }
      ]
    },
    {
      "cell_type": "code",
      "source": [
        "# range()는 python2.x 에서는 list였습니다!"
      ],
      "metadata": {
        "id": "COXjwWLrKmw9"
      },
      "execution_count": null,
      "outputs": []
    },
    {
      "cell_type": "code",
      "source": [
        "type(range(0,10)) # 왜 range라는 타입일까요?"
      ],
      "metadata": {
        "colab": {
          "base_uri": "https://localhost:8080/"
        },
        "id": "92ZaKrnwLFAg",
        "outputId": "8aeb3b32-4698-471f-df20-7c501ae920dc"
      },
      "execution_count": null,
      "outputs": [
        {
          "output_type": "execute_result",
          "data": {
            "text/plain": [
              "range"
            ]
          },
          "metadata": {},
          "execution_count": 8
        }
      ]
    },
    {
      "cell_type": "code",
      "source": [
        "# 파이썬은 속도를 올리기 위한 작업을 매 버전마다 해왔습니다\n",
        "# 그래서 최종 목표는 c의 속도를 따라잡는 것입니다.\n",
        "# range(10000000000000000) 이렇게 데이터를 생각한다고 생각해보세요.\n",
        "# 0 ~ 10000000000000000의 숫자를 모두 메모리에 올려야 합니다.\n",
        "# xrange()라는 것을 만들어서 이를 해결했습니다.\n",
        "# xrange는 숫자를 생성하지 않고 start, stop, step 값으로 호출을 할 때 하나씩 생성을 하는 방식을 신설\n",
        "# xrange가 3.xx버전으로 오면서 range가 된 것입니다."
      ],
      "metadata": {
        "id": "KsDyTRSfKApt"
      },
      "execution_count": null,
      "outputs": []
    },
    {
      "cell_type": "code",
      "source": [
        "while True:\n",
        "    data1 = input(\"숫자를 넣어주세요 : \")\n",
        "    if data1 == \"1\":\n",
        "        print(\"히호\")\n",
        "    elif data1 == \"5\":\n",
        "        break\n",
        "    else:\n",
        "        print(\"오히호\")"
      ],
      "metadata": {
        "colab": {
          "base_uri": "https://localhost:8080/"
        },
        "id": "p7YV9QtcKAsN",
        "outputId": "8041e8bd-2ab7-416a-8720-c8124b2c709f"
      },
      "execution_count": null,
      "outputs": [
        {
          "name": "stdout",
          "output_type": "stream",
          "text": [
            "숫자를 넣어주세요 : 1\n",
            "히호\n",
            "숫자를 넣어주세요 : 2\n",
            "오히호\n",
            "숫자를 넣어주세요 : 3\n",
            "오히호\n",
            "숫자를 넣어주세요 : 5\n"
          ]
        }
      ]
    },
    {
      "cell_type": "code",
      "source": [
        "# range()의 인덱싱\n",
        "range(0,100)[3]"
      ],
      "metadata": {
        "colab": {
          "base_uri": "https://localhost:8080/"
        },
        "id": "S6doIe7SLf_u",
        "outputId": "6836bfe1-b209-493c-e305-bf1fc779f830"
      },
      "execution_count": null,
      "outputs": [
        {
          "output_type": "execute_result",
          "data": {
            "text/plain": [
              "3"
            ]
          },
          "metadata": {},
          "execution_count": 17
        }
      ]
    },
    {
      "cell_type": "code",
      "source": [
        "# range()의 슬라이싱\n",
        "range(100)[1:10]"
      ],
      "metadata": {
        "colab": {
          "base_uri": "https://localhost:8080/"
        },
        "id": "NOONoQl5LgG2",
        "outputId": "5f66b925-81c1-4fd2-c41a-dfb28128a0c4"
      },
      "execution_count": null,
      "outputs": [
        {
          "output_type": "execute_result",
          "data": {
            "text/plain": [
              "range(1, 10)"
            ]
          },
          "metadata": {},
          "execution_count": 18
        }
      ]
    },
    {
      "cell_type": "code",
      "source": [
        "# range의 step 음수 값\n",
        "list(range(100,9,-10))  # 100~9로 범위를 잡아야 마지막 10이 나온다"
      ],
      "metadata": {
        "colab": {
          "base_uri": "https://localhost:8080/"
        },
        "id": "5B6StNcqLgJO",
        "outputId": "3eb4b650-b3ad-47f3-afaf-dfbc02ff45ff"
      },
      "execution_count": null,
      "outputs": [
        {
          "output_type": "execute_result",
          "data": {
            "text/plain": [
              "[100, 90, 80, 70, 60, 50, 40, 30, 20, 10]"
            ]
          },
          "metadata": {},
          "execution_count": 21
        }
      ]
    },
    {
      "cell_type": "markdown",
      "source": [
        "# function"
      ],
      "metadata": {
        "id": "GMHPDqtrQkB3"
      }
    },
    {
      "cell_type": "code",
      "source": [
        "# funtion 이라는 것이 왜 필요했을까?\n",
        "# 첫번째 이유\n",
        "\n",
        "def hello():\n",
        "    x = 10 # 이 코드가 반복되니 이 코드의 이름을 hello라고 하고, 이 코드 자리에 hello를 놓자!\n",
        "    y = 20\n",
        "    print(x + y)\n",
        "\n",
        "hello()\n",
        "a = 10\n",
        "hello()\n",
        "b = 20\n",
        "hello()\n",
        "a + b\n",
        "hello()\n",
        "a - b\n",
        "hello()\n",
        "# >> 코드가 줄어들었다!\n"
      ],
      "metadata": {
        "colab": {
          "base_uri": "https://localhost:8080/"
        },
        "id": "3Dc7LUiC5I7o",
        "outputId": "6eaea3dc-ca22-40a4-e004-ccf67746a348"
      },
      "execution_count": null,
      "outputs": [
        {
          "output_type": "stream",
          "name": "stdout",
          "text": [
            "30\n",
            "30\n",
            "30\n",
            "30\n",
            "30\n"
          ]
        }
      ]
    },
    {
      "cell_type": "code",
      "source": [
        "# 두 번째 이유\n",
        "# 수만줄의 코드도 아래와 같이 함수로 쌓여있으면 '구조를 파악하기 쉽습니다.'\n",
        "\n",
        "땅파기()\n",
        "땅다지기()\n",
        "상하수도설치()\n",
        "벽돌쌓기()\n",
        "지붕올리기()\n",
        "내부인테리어()\n",
        "\n"
      ],
      "metadata": {
        "colab": {
          "base_uri": "https://localhost:8080/",
          "height": 221
        },
        "id": "ixNAMbvi6C1S",
        "outputId": "6841f253-0b14-44df-8e86-3163182f9515"
      },
      "execution_count": null,
      "outputs": [
        {
          "output_type": "error",
          "ename": "NameError",
          "evalue": "name '땅파기' is not defined",
          "traceback": [
            "\u001b[0;31m---------------------------------------------------------------------------\u001b[0m",
            "\u001b[0;31mNameError\u001b[0m                                 Traceback (most recent call last)",
            "\u001b[0;32m<ipython-input-74-c46ba8caa499>\u001b[0m in \u001b[0;36m<cell line: 0>\u001b[0;34m()\u001b[0m\n\u001b[1;32m      2\u001b[0m \u001b[0;31m# 수만줄의 코드도 아래와 같이 함수로 쌓여있으면 '구조를 파악하기 쉽습니다.'\u001b[0m\u001b[0;34m\u001b[0m\u001b[0;34m\u001b[0m\u001b[0m\n\u001b[1;32m      3\u001b[0m \u001b[0;34m\u001b[0m\u001b[0m\n\u001b[0;32m----> 4\u001b[0;31m \u001b[0m땅파기\u001b[0m\u001b[0;34m(\u001b[0m\u001b[0;34m)\u001b[0m\u001b[0;34m\u001b[0m\u001b[0;34m\u001b[0m\u001b[0m\n\u001b[0m\u001b[1;32m      5\u001b[0m \u001b[0m땅다지기\u001b[0m\u001b[0;34m(\u001b[0m\u001b[0;34m)\u001b[0m\u001b[0;34m\u001b[0m\u001b[0;34m\u001b[0m\u001b[0m\n\u001b[1;32m      6\u001b[0m \u001b[0m상하수도설치\u001b[0m\u001b[0;34m(\u001b[0m\u001b[0;34m)\u001b[0m\u001b[0;34m\u001b[0m\u001b[0;34m\u001b[0m\u001b[0m\n",
            "\u001b[0;31mNameError\u001b[0m: name '땅파기' is not defined"
          ]
        }
      ]
    },
    {
      "cell_type": "code",
      "source": [
        "# 세 번째 이유\n",
        "# 알지 않아도 되는 코드를 들여다 보지 않을 수 있어요.\n",
        "# 추상화 > 내부 구현을 숨기고 필요한 기능만 외부에 노출하는 것!\n",
        "# 여러분이 자동차를 운전할 때 자동차 페달을 밟는다 해서\n",
        "# 엔진을 뜯어볼 필요가 있나요?\n",
        "\n",
        "땅파기()\n",
        "땅다지기()\n",
        "상하수도설치()\n",
        "벽돌쌓기() # 내 과업은 벽돌 쌓기를 수정하는 것입니다.\n",
        "지붕올리기()\n",
        "내부인테리어()\n"
      ],
      "metadata": {
        "id": "LfoMY-YK6YHO"
      },
      "execution_count": null,
      "outputs": []
    },
    {
      "cell_type": "markdown",
      "source": [],
      "metadata": {
        "id": "7HDYPlE667gY"
      }
    },
    {
      "cell_type": "code",
      "source": [
        "def hello():\n",
        "    x = 10\n",
        "    y = 20\n",
        "    return x + y"
      ],
      "metadata": {
        "id": "4fJvW6jHLgLH"
      },
      "execution_count": null,
      "outputs": []
    },
    {
      "cell_type": "code",
      "source": [
        "# 파라미터와 아규먼트\n",
        "\n",
        "def xysum(x, y):  # 함수를 정의하는 부분 > 파라미터\n",
        "    return x + y\n",
        "\n",
        "xysum(10, 20) # 함수를 호출하는 부분 > 아규먼트"
      ],
      "metadata": {
        "colab": {
          "base_uri": "https://localhost:8080/"
        },
        "id": "ej6N4Ih57rx7",
        "outputId": "ddfa01e5-fe78-4c86-e5f7-137ddb912418"
      },
      "execution_count": null,
      "outputs": [
        {
          "output_type": "execute_result",
          "data": {
            "text/plain": [
              "30"
            ]
          },
          "metadata": {},
          "execution_count": 178
        }
      ]
    },
    {
      "cell_type": "code",
      "source": [
        "#파선아실(파라미터는 선언할 때, 아규먼트는 실행할 때)\n",
        "\n",
        "def xysum(x, y):  # 함수를 정의하는 부분\n",
        "    return x + y\n",
        "\n",
        "xysum(10, 20) # 함수를 호출하는 부분\n",
        "# 10과 20은 아규먼트!\n",
        "# x와 y는 변수가 아니라 파라미터 라고 해야한다!!\n",
        "# return은 호출한 곳에 값을 리턴해주는 것!"
      ],
      "metadata": {
        "colab": {
          "base_uri": "https://localhost:8080/"
        },
        "id": "d83WeeGF8WGp",
        "outputId": "f8b677ad-69bf-4023-a1fe-c7b80a900d39"
      },
      "execution_count": null,
      "outputs": [
        {
          "output_type": "execute_result",
          "data": {
            "text/plain": [
              "30"
            ]
          },
          "metadata": {},
          "execution_count": 77
        }
      ]
    },
    {
      "cell_type": "code",
      "source": [
        "def xysum(x, y):\n",
        "    return x + y # 나를 호출한 곳에 그대로 이 값을 넣어주세요\n",
        "\n",
        "result = xysum(10, 20) + xysum(30, 40) + xysum(50, 60)\n",
        "result\n",
        "\n",
        "# 프린트와 리턴은 다르다!!"
      ],
      "metadata": {
        "colab": {
          "base_uri": "https://localhost:8080/"
        },
        "id": "OFKQWC8A8-rg",
        "outputId": "568b8d69-bd4a-424e-b7dc-0b19b434ad96"
      },
      "execution_count": null,
      "outputs": [
        {
          "output_type": "execute_result",
          "data": {
            "text/plain": [
              "210"
            ]
          },
          "metadata": {},
          "execution_count": 79
        }
      ]
    },
    {
      "cell_type": "code",
      "source": [
        "def a(x, y):\n",
        "    z = x + y\n",
        "    return None\n",
        "\n",
        "print(a(10, 20))"
      ],
      "metadata": {
        "colab": {
          "base_uri": "https://localhost:8080/"
        },
        "id": "0U9AYvTd9rJy",
        "outputId": "6565bd11-e2fd-4c5b-b367-e537a749b7ef"
      },
      "execution_count": null,
      "outputs": [
        {
          "output_type": "stream",
          "name": "stdout",
          "text": [
            "None\n"
          ]
        }
      ]
    },
    {
      "cell_type": "code",
      "source": [
        "print(print(print('hello')))"
      ],
      "metadata": {
        "colab": {
          "base_uri": "https://localhost:8080/"
        },
        "id": "wHW7ZNH1-AZG",
        "outputId": "339fedd4-c1fd-4a0c-cbd1-e321d1b2bc6c"
      },
      "execution_count": null,
      "outputs": [
        {
          "output_type": "stream",
          "name": "stdout",
          "text": [
            "hello\n",
            "None\n",
            "None\n"
          ]
        }
      ]
    },
    {
      "cell_type": "code",
      "source": [
        "# 파라미터가 있는 함수\n",
        "def hello(a):\n",
        "    return a\n",
        "\n",
        "\n",
        "# 파라미터가 없는 함수\n",
        "def hello():\n",
        "    return 'hello world'\n"
      ],
      "metadata": {
        "id": "Icje9UXk_Dnd"
      },
      "execution_count": null,
      "outputs": []
    },
    {
      "cell_type": "code",
      "source": [
        "# 리턴값이 있는 함수\n",
        "def add(a, b):\n",
        "    return a + b\n",
        "\n",
        "\n",
        "# 리턴값이 없는 함수\n",
        "def add(a, b):\n",
        "    print(a + b)"
      ],
      "metadata": {
        "id": "TF0FaD-X_Ha3"
      },
      "execution_count": null,
      "outputs": []
    },
    {
      "cell_type": "code",
      "source": [
        "# 문제1 : 주식 그래프를 그리려고 한다. 주식 그래프는 2x + 15와 같은 형식으로 그려지고\n",
        "# x는 10이라구 주어졌을 때 y값이 얼마인지 구하는 함수를 만드세요\n",
        "\n",
        "def solution(x):\n",
        "    return 2*x + 15\n",
        "\n",
        "solution(10)"
      ],
      "metadata": {
        "colab": {
          "base_uri": "https://localhost:8080/"
        },
        "id": "JW_PeZC7_w-I",
        "outputId": "492ff5fc-51f1-4284-96cb-1619e39ae20b"
      },
      "execution_count": null,
      "outputs": [
        {
          "output_type": "execute_result",
          "data": {
            "text/plain": [
              "35"
            ]
          },
          "metadata": {},
          "execution_count": 98
        }
      ]
    },
    {
      "cell_type": "code",
      "source": [
        "# 문제2 : [10, 20, 30] + [1, 2, 3]이라고 했을 때 이 두 행렬의 요소별로 더하는 함수를 만드세요.\n",
        "\n",
        "\n",
        "def solution(a,b):\n",
        "    d = []\n",
        "    for num in range(len(a)):\n",
        "        c = a[num] + b[num]\n",
        "        d.append(c)\n",
        "    return print(d)\n",
        "\n",
        "solution([10, 20, 30], [1, 2, 3])\n",
        "\n",
        "# enumerate  > 두 함수에 값과 인덱스를 넣어준다!\n",
        "#for i , v in enumerate(a) >>> i에는 순회할 인덱스의 인덱스 위치를, v에는 순회할 인덱스의 값을!"
      ],
      "metadata": {
        "colab": {
          "base_uri": "https://localhost:8080/"
        },
        "id": "QmNGHe5BANVN",
        "outputId": "2fce5dc0-249a-46b6-c956-55236589aab9"
      },
      "execution_count": null,
      "outputs": [
        {
          "output_type": "stream",
          "name": "stdout",
          "text": [
            "[11, 22, 33]\n"
          ]
        }
      ]
    },
    {
      "cell_type": "code",
      "source": [
        "# 문제 2번 풀이\n",
        "# 관습적으로 안 쓰는 코드는 변수\"_\" 에 할당한다!\n",
        "\n",
        "# 문제2: [10, 20, 30] + [1, 2, 3]이라고 했을 때 이 두 행렬을 요소별로 더하는 함수를 만드세요.\n",
        "\n",
        "def solution(a, b):\n",
        "    for i, v in enumerate(a):\n",
        "        a[i] = v + b[i]\n",
        "    return a\n",
        "\n",
        "solution([10, 20, 30], [1, 2, 3])\n"
      ],
      "metadata": {
        "colab": {
          "base_uri": "https://localhost:8080/"
        },
        "id": "kPfgTHJJMiHN",
        "outputId": "b36822b3-34d5-404f-f6ab-0633b2df52ff"
      },
      "execution_count": null,
      "outputs": [
        {
          "output_type": "execute_result",
          "data": {
            "text/plain": [
              "[11, 22, 33]"
            ]
          },
          "metadata": {},
          "execution_count": 143
        }
      ]
    },
    {
      "cell_type": "code",
      "source": [
        "# 문제 2번의 우아한 풀이??\n",
        "# 우아한 풀이라는 건 고차함수를 여러개 사용하는 것!\n",
        "\n",
        "def solution(a, b):\n",
        "    return list(map(sum,(zip([10,20,30], [1,2,3]))))\n",
        "\n",
        "solution([10, 20, 30], [1, 2, 3])\n",
        "\n",
        "# 뭐 지금 알 필요는 없다.."
      ],
      "metadata": {
        "colab": {
          "base_uri": "https://localhost:8080/"
        },
        "id": "sbXjOCQlNh07",
        "outputId": "ff79a7bb-1eee-436b-cb0d-0bcb3270f819"
      },
      "execution_count": null,
      "outputs": [
        {
          "output_type": "execute_result",
          "data": {
            "text/plain": [
              "[11, 22, 33]"
            ]
          },
          "metadata": {},
          "execution_count": 144
        }
      ]
    },
    {
      "cell_type": "code",
      "source": [
        "# 문제3: 행렬(리스트의 리스트)의 모든 요소에 특정 숫자를 곱하는 함수를 만드세요.\n",
        "# 예: [1, 2, 3, 4] * 2 = [2, 4, 6, 8]\n",
        "\n",
        "\n",
        "def solution(matrix, multiplier):\n",
        "    list1 = []\n",
        "\n",
        "    for num1 in matrix:\n",
        "        num2 = num1 * multiplier\n",
        "        list1.append(num2)\n",
        "    return list1\n",
        "\n",
        "solution([1, 2, 3, 4], 2)"
      ],
      "metadata": {
        "colab": {
          "base_uri": "https://localhost:8080/"
        },
        "id": "NothTJQTCOuU",
        "outputId": "c7e3fb19-ca62-4c90-c72d-c6452e1e607a"
      },
      "execution_count": null,
      "outputs": [
        {
          "output_type": "execute_result",
          "data": {
            "text/plain": [
              "[2, 4, 6, 8]"
            ]
          },
          "metadata": {},
          "execution_count": 145
        }
      ]
    },
    {
      "cell_type": "code",
      "source": [
        "# 문제3 고급풀이\n",
        "\n",
        "def solution(matrix, multiplier):\n",
        "    return [num1 * multiplier for num1 in matrix]\n",
        "    # 리스트 컴프레션 이라고 append처럼 순회하며 리스트를 만들 때 쓰면 좋다!\n",
        "    # 근데 가독성은 안 좋아지므로 2중 이상은 쓰지 않도록 주의\n",
        "\n",
        "solution([1, 2, 3, 4], 2)\n"
      ],
      "metadata": {
        "colab": {
          "base_uri": "https://localhost:8080/"
        },
        "id": "KYblOLA2OtSz",
        "outputId": "9bbb9ad6-1f5b-4073-937d-7c12a6293975"
      },
      "execution_count": null,
      "outputs": [
        {
          "output_type": "execute_result",
          "data": {
            "text/plain": [
              "[2, 4, 6, 8]"
            ]
          },
          "metadata": {},
          "execution_count": 147
        }
      ]
    },
    {
      "cell_type": "code",
      "source": [
        "# 리스트 컴플레이션\n",
        "[i for i in range(1, 10, 2)]\n",
        "\n",
        "# 파이썬에서는 읽기 좋은 코드에 가치를 높게 평가합니다!"
      ],
      "metadata": {
        "colab": {
          "base_uri": "https://localhost:8080/"
        },
        "id": "GHnCG9G8Pgya",
        "outputId": "34548142-a772-4b93-ddb6-b856c4734968"
      },
      "execution_count": null,
      "outputs": [
        {
          "output_type": "execute_result",
          "data": {
            "text/plain": [
              "[1, 3, 5, 7, 9]"
            ]
          },
          "metadata": {},
          "execution_count": 148
        }
      ]
    },
    {
      "cell_type": "code",
      "source": [
        "# 문제4\n",
        "'''\n",
        "https://school.programmers.co.kr/learn/courses/30/lessons/181928\n",
        "프로그래머스라는 카카오 코딩테스트 보는 사이트다!\n",
        "'''\n",
        "\n",
        "def solution(num_list):\n",
        "    list1 = []\n",
        "    list2 = []\n",
        "\n",
        "    for a in num_list:\n",
        "        if a %2 == 0:\n",
        "            a = str(a)\n",
        "            a.append(list1)\n",
        "        elif a%2 != 0:\n",
        "            a = str(a)\n",
        "            a.append(list2)\n",
        "\n",
        "    join1 = \"\".join(list1)\n",
        "    join2 = \"\".join(list2)\n",
        "    join1 = int(join1)\n",
        "    join2 = int(join2)\n",
        "    return join1 + join2\n",
        "\n",
        "\n",
        "solution([3, 4, 5, 2, 1])\n"
      ],
      "metadata": {
        "colab": {
          "base_uri": "https://localhost:8080/",
          "height": 110
        },
        "id": "Xukg-tz6HWQZ",
        "outputId": "0af1f20b-928e-4e02-fd03-9970b711feb3"
      },
      "execution_count": null,
      "outputs": [
        {
          "output_type": "error",
          "ename": "SyntaxError",
          "evalue": "invalid syntax (<ipython-input-149-8c02df84b084>, line 2)",
          "traceback": [
            "\u001b[0;36m  File \u001b[0;32m\"<ipython-input-149-8c02df84b084>\"\u001b[0;36m, line \u001b[0;32m2\u001b[0m\n\u001b[0;31m    https://school.programmers.co.kr/learn/courses/30/lessons/181928\u001b[0m\n\u001b[0m          ^\u001b[0m\n\u001b[0;31mSyntaxError\u001b[0m\u001b[0;31m:\u001b[0m invalid syntax\n"
          ]
        }
      ]
    },
    {
      "cell_type": "code",
      "source": [
        "#문제 4 풀이\n",
        "\n",
        "def solution(num_list):\n",
        "    짝수 = ''\n",
        "    홀수 = ''\n",
        "    for i in num_list:\n",
        "        if i % 2 == 0:\n",
        "            짝수 += str(i)\n",
        "        else:\n",
        "            홀수 += str(i)\n",
        "    answer = int(짝수) + int(홀수)\n",
        "    return answer\n",
        "\n",
        "solution([3, 4, 5, 2, 1])"
      ],
      "metadata": {
        "colab": {
          "base_uri": "https://localhost:8080/"
        },
        "id": "C6raUzmvT3V2",
        "outputId": "05b35082-3ba4-49f9-f93b-7e31f1fd9335"
      },
      "execution_count": null,
      "outputs": [
        {
          "output_type": "execute_result",
          "data": {
            "text/plain": [
              "393"
            ]
          },
          "metadata": {},
          "execution_count": 154
        }
      ]
    },
    {
      "cell_type": "code",
      "source": [
        "# 파라미터에 기본값이 정해져 있는 경우!\n",
        "\n",
        "def add(x = 10, y = 20):\n",
        "    return x + y\n",
        "\n",
        "add()"
      ],
      "metadata": {
        "colab": {
          "base_uri": "https://localhost:8080/"
        },
        "id": "sag6O_4pUiuP",
        "outputId": "ee20d21a-a01a-4b0a-d7d2-6513e60f5937"
      },
      "execution_count": null,
      "outputs": [
        {
          "output_type": "execute_result",
          "data": {
            "text/plain": [
              "30"
            ]
          },
          "metadata": {},
          "execution_count": 155
        }
      ]
    },
    {
      "cell_type": "code",
      "source": [
        "# 지역변수 전역변수\n",
        "\n",
        "x = 10\n",
        "\n",
        "def hello():\n",
        "    print(x) # 밖에 있는 변수는 읽을 수는 있다!\n",
        "\n",
        "hello()"
      ],
      "metadata": {
        "colab": {
          "base_uri": "https://localhost:8080/"
        },
        "id": "RbKC84mtVtkg",
        "outputId": "a7ecde9b-a9ce-424a-b106-8b98a79293be"
      },
      "execution_count": null,
      "outputs": [
        {
          "output_type": "execute_result",
          "data": {
            "text/plain": [
              "30"
            ]
          },
          "metadata": {},
          "execution_count": 159
        }
      ]
    },
    {
      "cell_type": "code",
      "source": [
        "x = 10\n",
        "\n",
        "def hello():\n",
        "    x += 1 # 밖에 있는 변수를 수정할 수는 없다!\n",
        "\n",
        "hello()\n",
        "# 에러!"
      ],
      "metadata": {
        "colab": {
          "base_uri": "https://localhost:8080/",
          "height": 331
        },
        "id": "cfdH8swhWd1Y",
        "outputId": "4797e230-c9f1-4dd2-964a-277270fca63f"
      },
      "execution_count": null,
      "outputs": [
        {
          "output_type": "error",
          "ename": "UnboundLocalError",
          "evalue": "cannot access local variable 'x' where it is not associated with a value",
          "traceback": [
            "\u001b[0;31m---------------------------------------------------------------------------\u001b[0m",
            "\u001b[0;31mUnboundLocalError\u001b[0m                         Traceback (most recent call last)",
            "\u001b[0;32m<ipython-input-162-f67c13c4249f>\u001b[0m in \u001b[0;36m<cell line: 0>\u001b[0;34m()\u001b[0m\n\u001b[1;32m      4\u001b[0m     \u001b[0mx\u001b[0m \u001b[0;34m+=\u001b[0m \u001b[0;36m1\u001b[0m \u001b[0;31m# 밖에 있는 변수를 수정할 수는 없다!\u001b[0m\u001b[0;34m\u001b[0m\u001b[0;34m\u001b[0m\u001b[0m\n\u001b[1;32m      5\u001b[0m \u001b[0;34m\u001b[0m\u001b[0m\n\u001b[0;32m----> 6\u001b[0;31m \u001b[0mhello\u001b[0m\u001b[0;34m(\u001b[0m\u001b[0;34m)\u001b[0m\u001b[0;34m\u001b[0m\u001b[0;34m\u001b[0m\u001b[0m\n\u001b[0m\u001b[1;32m      7\u001b[0m \u001b[0;31m# 에러!\u001b[0m\u001b[0;34m\u001b[0m\u001b[0;34m\u001b[0m\u001b[0m\n",
            "\u001b[0;32m<ipython-input-162-f67c13c4249f>\u001b[0m in \u001b[0;36mhello\u001b[0;34m()\u001b[0m\n\u001b[1;32m      2\u001b[0m \u001b[0;34m\u001b[0m\u001b[0m\n\u001b[1;32m      3\u001b[0m \u001b[0;32mdef\u001b[0m \u001b[0mhello\u001b[0m\u001b[0;34m(\u001b[0m\u001b[0;34m)\u001b[0m\u001b[0;34m:\u001b[0m\u001b[0;34m\u001b[0m\u001b[0;34m\u001b[0m\u001b[0m\n\u001b[0;32m----> 4\u001b[0;31m     \u001b[0mx\u001b[0m \u001b[0;34m+=\u001b[0m \u001b[0;36m1\u001b[0m \u001b[0;31m# 밖에 있는 변수를 수정할 수는 없다!\u001b[0m\u001b[0;34m\u001b[0m\u001b[0;34m\u001b[0m\u001b[0m\n\u001b[0m\u001b[1;32m      5\u001b[0m \u001b[0;34m\u001b[0m\u001b[0m\n\u001b[1;32m      6\u001b[0m \u001b[0mhello\u001b[0m\u001b[0;34m(\u001b[0m\u001b[0;34m)\u001b[0m\u001b[0;34m\u001b[0m\u001b[0;34m\u001b[0m\u001b[0m\n",
            "\u001b[0;31mUnboundLocalError\u001b[0m: cannot access local variable 'x' where it is not associated with a value"
          ]
        }
      ]
    },
    {
      "cell_type": "code",
      "source": [
        "x = 10 # 전역변수라고 한다\n",
        "\n",
        "def hello():\n",
        "    x = 100 # 지역변수라고 하고 이 안에서 선언하는 건 가능!! 근데 전역변수와는 다른 함수라고 친다!\n",
        "\n",
        "# return을 안 쓰면 None이 반환! 그리고 None이 반환되고 나면 지역변수는 사라진다 휘발성!\n",
        "\n",
        "hello()\n",
        "print(x)"
      ],
      "metadata": {
        "colab": {
          "base_uri": "https://localhost:8080/"
        },
        "id": "bWP2jvJeWsh9",
        "outputId": "5e377a97-fe40-4892-dd93-8ff6ecee0ad2"
      },
      "execution_count": null,
      "outputs": [
        {
          "output_type": "stream",
          "name": "stdout",
          "text": [
            "10\n"
          ]
        }
      ]
    },
    {
      "cell_type": "code",
      "source": [
        "x = 10\n",
        "\n",
        "def hello(input_x):\n",
        "    input_x += 10\n",
        "    return input_x\n",
        "\n",
        "x = hello(x) # 초급자의 마음 : 이건 복잡하잖아?\n",
        "print(x)"
      ],
      "metadata": {
        "colab": {
          "base_uri": "https://localhost:8080/"
        },
        "id": "lzZqqnw-XhMY",
        "outputId": "73ed0ff2-4ef1-47bd-87aa-e615986b16f8"
      },
      "execution_count": null,
      "outputs": [
        {
          "output_type": "stream",
          "name": "stdout",
          "text": [
            "20\n"
          ]
        }
      ]
    },
    {
      "cell_type": "code",
      "source": [
        "# 초급자의 마음\n",
        "# >> 이건 아주 짧은 코드에서는 맞는 이야기지만\n",
        "# 실무에서는 깨끗한 코드, 구조화 되어있는 코드, 견고한 코드 등이 필요하므로 위로 사용!\n",
        "\n",
        "x = 10\n",
        "x += 10\n",
        "\n",
        "print(x)"
      ],
      "metadata": {
        "id": "y3O1q2YFXvbp"
      },
      "execution_count": null,
      "outputs": []
    },
    {
      "cell_type": "code",
      "source": [
        "# hello라는 것은 무엇일까?\n",
        "# print라는 것은 무엇일까?\n",
        "\n",
        "# hello든 print든 변수입니다! 함수의 이름은 변수입니다."
      ],
      "metadata": {
        "id": "cJt3UQIFQsWp"
      },
      "execution_count": null,
      "outputs": []
    },
    {
      "cell_type": "code",
      "source": [
        "# 대부분 아래 코드는 안 좋은 사례로 꼽힙니다.\n",
        "\n",
        "x = 10\n",
        "\n",
        "def hello():\n",
        "    global x # global을 쓰면 지역변수를 전역변수 처럼 쓸 수 있는데 그럼 지금 만든 보호장치를 없애버리는것!\n",
        "    x += 100\n",
        "\n",
        "hello()\n",
        "print(x)\n",
        "\n",
        "# 이건 아주 중대하게 전역변수를 바꿔야 할 때!"
      ],
      "metadata": {
        "colab": {
          "base_uri": "https://localhost:8080/"
        },
        "id": "uzPW8gMqYILj",
        "outputId": "788ba62b-e844-4afb-a9cd-878f9f36cf8d"
      },
      "execution_count": null,
      "outputs": [
        {
          "output_type": "stream",
          "name": "stdout",
          "text": [
            "110\n"
          ]
        }
      ]
    },
    {
      "cell_type": "code",
      "source": [
        "# locals()\n",
        "# globals()"
      ],
      "metadata": {
        "id": "aBC5g_M7YyKc"
      },
      "execution_count": null,
      "outputs": []
    },
    {
      "cell_type": "code",
      "source": [
        "def add(a, b):\n",
        "    z = a + b\n",
        "    print(locals())\n",
        "    return z\n",
        "\n",
        "add(10, 20)"
      ],
      "metadata": {
        "colab": {
          "base_uri": "https://localhost:8080/"
        },
        "id": "JIsWq5mQY8N9",
        "outputId": "ccae5764-ff3b-4c22-e6b1-a85229bed01a"
      },
      "execution_count": null,
      "outputs": [
        {
          "output_type": "stream",
          "name": "stdout",
          "text": [
            "{'a': 10, 'b': 20, 'z': 30}\n"
          ]
        },
        {
          "output_type": "execute_result",
          "data": {
            "text/plain": [
              "30"
            ]
          },
          "metadata": {},
          "execution_count": 176
        }
      ]
    },
    {
      "cell_type": "code",
      "source": [
        "a = print\n",
        "a(\"hello world\")"
      ],
      "metadata": {
        "colab": {
          "base_uri": "https://localhost:8080/"
        },
        "id": "PE42TMHgQPAp",
        "outputId": "ba67ad57-ef45-4e06-e599-62fc9baa5e99"
      },
      "execution_count": null,
      "outputs": [
        {
          "output_type": "stream",
          "name": "stdout",
          "text": [
            "hello world\n"
          ]
        }
      ]
    },
    {
      "cell_type": "code",
      "source": [
        "l = [a, a, a, a, a, a]\n",
        "l[0]('hello')"
      ],
      "metadata": {
        "colab": {
          "base_uri": "https://localhost:8080/"
        },
        "id": "rRPw-CeTQPDY",
        "outputId": "3ab433fe-730a-406c-992c-00ae29c15aab"
      },
      "execution_count": null,
      "outputs": [
        {
          "output_type": "stream",
          "name": "stdout",
          "text": [
            "hello\n"
          ]
        }
      ]
    },
    {
      "cell_type": "markdown",
      "source": [
        "# 변수"
      ],
      "metadata": {
        "id": "iG6VYyWSRziT"
      }
    },
    {
      "cell_type": "code",
      "source": [
        "a = 10\n",
        "b = a\n",
        "c = b\n",
        "\n",
        "c\n",
        "\n",
        "# 화살표는?\n",
        "# 1번 : c -> b -> a -> 10\n",
        "\n",
        "# 2번 : 근데 이게 정답\n",
        "# a -> 10\n",
        "# b -> 10\n",
        "# c -> 10"
      ],
      "metadata": {
        "colab": {
          "base_uri": "https://localhost:8080/"
        },
        "id": "CbJdlLqWQPFp",
        "outputId": "246af5a8-966c-48a8-af49-a803cf714a59"
      },
      "execution_count": null,
      "outputs": [
        {
          "output_type": "execute_result",
          "data": {
            "text/plain": [
              "10"
            ]
          },
          "metadata": {},
          "execution_count": 25
        }
      ]
    },
    {
      "cell_type": "code",
      "source": [
        "a = 10\n",
        "b = a\n",
        "c = b\n",
        "\n",
        "c"
      ],
      "metadata": {
        "colab": {
          "base_uri": "https://localhost:8080/"
        },
        "id": "HQ-ZvI82Rygz",
        "outputId": "0d484de5-214e-4374-c7df-ac4a6a296790"
      },
      "execution_count": null,
      "outputs": [
        {
          "output_type": "execute_result",
          "data": {
            "text/plain": [
              "10"
            ]
          },
          "metadata": {},
          "execution_count": 32
        }
      ]
    },
    {
      "cell_type": "code",
      "source": [
        "b = 100\n",
        "c = b\n",
        "c"
      ],
      "metadata": {
        "colab": {
          "base_uri": "https://localhost:8080/"
        },
        "id": "lvRwMlaBQPHx",
        "outputId": "d0c81ef5-3de6-413e-a523-08525de907f0"
      },
      "execution_count": null,
      "outputs": [
        {
          "output_type": "execute_result",
          "data": {
            "text/plain": [
              "100"
            ]
          },
          "metadata": {},
          "execution_count": 31
        }
      ]
    },
    {
      "cell_type": "markdown",
      "source": [
        "# type, dir, id\n",
        "\n",
        "- type은 앞으로도 자주 사용됩니다 왜냐하면\n",
        "우리가 앞으로 사용할 데이터 자료형은 기본 자료형이 아닌 경우가 많기 때문이에요.\n",
        "\n",
        "- dir은 여러분이 해당 자료형에 있는 속성들을 파악하기 좋습니다.\n",
        "\n",
        "- id는 해당 자료형이 무엇을 가리키고 있는지 확인하기 좋습니다."
      ],
      "metadata": {
        "id": "rnRfZpUBT_kY"
      }
    },
    {
      "cell_type": "code",
      "source": [
        "l = [10, 20, 30, 40]\n",
        "print(type(l)) #print와 print를 안하는 것은 왜 차이가 있죠?"
      ],
      "metadata": {
        "colab": {
          "base_uri": "https://localhost:8080/"
        },
        "id": "XSJvW0-QTg00",
        "outputId": "4da4edc7-30f5-4975-f189-7048c10afce5"
      },
      "execution_count": null,
      "outputs": [
        {
          "output_type": "stream",
          "name": "stdout",
          "text": [
            "<class 'list'>\n"
          ]
        }
      ]
    },
    {
      "cell_type": "code",
      "source": [
        "print(type(hello))"
      ],
      "metadata": {
        "colab": {
          "base_uri": "https://localhost:8080/"
        },
        "id": "9InDOYhmUHiJ",
        "outputId": "47c0e828-d70e-48db-e2f7-dadfac51a667"
      },
      "execution_count": null,
      "outputs": [
        {
          "output_type": "stream",
          "name": "stdout",
          "text": [
            "<class 'function'>\n"
          ]
        }
      ]
    },
    {
      "cell_type": "code",
      "source": [
        "a = 10\n",
        "print(type(a))"
      ],
      "metadata": {
        "colab": {
          "base_uri": "https://localhost:8080/"
        },
        "id": "NIND1OY2UHpD",
        "outputId": "a1dad420-8673-4d35-bb9c-4154a7b76fea"
      },
      "execution_count": null,
      "outputs": [
        {
          "output_type": "stream",
          "name": "stdout",
          "text": [
            "<class 'int'>\n"
          ]
        }
      ]
    },
    {
      "cell_type": "code",
      "source": [
        "print(a)"
      ],
      "metadata": {
        "colab": {
          "base_uri": "https://localhost:8080/"
        },
        "id": "0KemI5bLUHrq",
        "outputId": "85b9182a-186c-4a1a-dbb2-b298fb905161"
      },
      "execution_count": null,
      "outputs": [
        {
          "output_type": "stream",
          "name": "stdout",
          "text": [
            "10\n"
          ]
        }
      ]
    },
    {
      "cell_type": "code",
      "source": [
        "# 타입 확인이 이만큼 중요하다\n",
        "# 예 1) 눈으로 10으로 보인다고 해서 int형이라고 생각하지 마세요.\n",
        "import numpy as np\n",
        "\n",
        "data = np.array(10)\n",
        "print(data)\n",
        "print(type(data))"
      ],
      "metadata": {
        "colab": {
          "base_uri": "https://localhost:8080/"
        },
        "id": "xtyYVGIvQPJw",
        "outputId": "6911c91c-c0b7-4445-be3b-dd1cf508d0b6"
      },
      "execution_count": null,
      "outputs": [
        {
          "output_type": "stream",
          "name": "stdout",
          "text": [
            "10\n",
            "<class 'numpy.ndarray'>\n"
          ]
        }
      ]
    },
    {
      "cell_type": "code",
      "source": [
        "# 예 2) 타입을 확인해야 하는 이유는 아래와 같아요. 기본 연산이 다르기 때문이죠.\n",
        "print([1, 2, 3] + [4, 5, 6])\n",
        "print(np.array([1, 2, 3]) + np.array([4, 5, 6]))"
      ],
      "metadata": {
        "colab": {
          "base_uri": "https://localhost:8080/"
        },
        "id": "IOlhivYQQPMQ",
        "outputId": "168dbaf9-27b2-4b32-a77c-dda265ed1f5f"
      },
      "execution_count": null,
      "outputs": [
        {
          "output_type": "stream",
          "name": "stdout",
          "text": [
            "[1, 2, 3, 4, 5, 6]\n",
            "[5 7 9]\n"
          ]
        }
      ]
    },
    {
      "cell_type": "code",
      "source": [
        "l = [1, 2, 3, 4]\n",
        "dir(l) # 메서드 + 멤버\n",
        "\n",
        "# 이게 왜 중요할까? 코딩하다가 메서드 까먹을까봐??"
      ],
      "metadata": {
        "colab": {
          "base_uri": "https://localhost:8080/"
        },
        "id": "xRjGfqO2WgKN",
        "outputId": "c430eb39-7c49-4b45-b1f7-38323921360d"
      },
      "execution_count": null,
      "outputs": [
        {
          "output_type": "execute_result",
          "data": {
            "text/plain": [
              "['__add__',\n",
              " '__class__',\n",
              " '__class_getitem__',\n",
              " '__contains__',\n",
              " '__delattr__',\n",
              " '__delitem__',\n",
              " '__dir__',\n",
              " '__doc__',\n",
              " '__eq__',\n",
              " '__format__',\n",
              " '__ge__',\n",
              " '__getattribute__',\n",
              " '__getitem__',\n",
              " '__getstate__',\n",
              " '__gt__',\n",
              " '__hash__',\n",
              " '__iadd__',\n",
              " '__imul__',\n",
              " '__init__',\n",
              " '__init_subclass__',\n",
              " '__iter__',\n",
              " '__le__',\n",
              " '__len__',\n",
              " '__lt__',\n",
              " '__mul__',\n",
              " '__ne__',\n",
              " '__new__',\n",
              " '__reduce__',\n",
              " '__reduce_ex__',\n",
              " '__repr__',\n",
              " '__reversed__',\n",
              " '__rmul__',\n",
              " '__setattr__',\n",
              " '__setitem__',\n",
              " '__sizeof__',\n",
              " '__str__',\n",
              " '__subclasshook__',\n",
              " 'append',\n",
              " 'clear',\n",
              " 'copy',\n",
              " 'count',\n",
              " 'extend',\n",
              " 'index',\n",
              " 'insert',\n",
              " 'pop',\n",
              " 'remove',\n",
              " 'reverse',\n",
              " 'sort']"
            ]
          },
          "metadata": {},
          "execution_count": 46
        }
      ]
    },
    {
      "cell_type": "code",
      "source": [
        "# 이 빌트인 펑션이 왜 중요하냐면, 앞으로 여러분들이 만날 자료형들은\n",
        "# 새롭게 만나는 자료형들입니다.\n",
        "# 예를 들어, 아래 타입을 한 번 살펴보도록 하겠습니다.\n",
        "\n",
        "\n",
        "# dir을 하면 사용 가능한 메소드가 나온다!\n",
        "# >> dir을 하는 건 이런 연산이 가능한 자료형이겠구나! 하고 짐작이 가능하기 때문!\n",
        "# 원하는 메소드를 찾을 수도 있다!\n",
        "\n",
        "import numpy as np\n",
        "\n",
        "data = np. array([[10, 20, 30], [40, 50, 60]])\n",
        "dir(data)\n",
        "\n",
        "# 아래 목록만 봐도 어떤 자료형인지 짐작할 수 있고\n",
        "# 원하는 메서드를 바로 발견할 수도 있습니다.\n",
        "\n",
        "print(data.T)\n"
      ],
      "metadata": {
        "colab": {
          "base_uri": "https://localhost:8080/"
        },
        "id": "SbBGh1N_WgMt",
        "outputId": "be06ac07-4c74-40ff-98c9-583a127c1da8"
      },
      "execution_count": null,
      "outputs": [
        {
          "output_type": "stream",
          "name": "stdout",
          "text": [
            "[[10 40]\n",
            " [20 50]\n",
            " [30 60]]\n"
          ]
        }
      ]
    },
    {
      "cell_type": "code",
      "source": [
        "# id\n",
        "\n",
        "a = 10\n",
        "b = a\n",
        "c = b\n",
        "\n",
        "# 화살표는 어떻게 그렸죠?\n",
        "id(a), id(b), id(c)\n",
        "\n",
        "# id는 해당 변수가 가리키고 있는 최종 목적지"
      ],
      "metadata": {
        "colab": {
          "base_uri": "https://localhost:8080/"
        },
        "id": "V7TYnWf5dFw5",
        "outputId": "78a75557-eaa5-41f7-d1ae-dab9d4998465"
      },
      "execution_count": null,
      "outputs": [
        {
          "output_type": "execute_result",
          "data": {
            "text/plain": [
              "(10751144, 10751144, 10751144)"
            ]
          },
          "metadata": {},
          "execution_count": 53
        }
      ]
    },
    {
      "cell_type": "code",
      "source": [
        "a = 10\n",
        "b = 10\n",
        "\n",
        "id(a), id(b)\n",
        "# 다른 언어에서는 이 값이 다릅니다. 그럼 파이썬에서는 같은가? 아니요\n",
        "# 아니? 아래 같게 나왔는데요?\n",
        "# >>> 파이썬에서 메모리를 줄이기 위해 자주 쓸만한 값은 하나의 id로 나오게 한다!(-5 ~ 256 만 같은 값.)"
      ],
      "metadata": {
        "colab": {
          "base_uri": "https://localhost:8080/"
        },
        "id": "yaV3ZAgpdF_J",
        "outputId": "79407bef-4500-4857-95dd-c62f41bae5b9"
      },
      "execution_count": null,
      "outputs": [
        {
          "output_type": "execute_result",
          "data": {
            "text/plain": [
              "(10751144, 10751144)"
            ]
          },
          "metadata": {},
          "execution_count": 56
        }
      ]
    },
    {
      "cell_type": "code",
      "source": [
        "a = 10000\n",
        "b = 10000\n",
        "\n",
        "id(a), id(b)\n",
        "# 다르게 나왔네요?\n",
        "# 근데 이게 정상."
      ],
      "metadata": {
        "colab": {
          "base_uri": "https://localhost:8080/"
        },
        "id": "_gg8kMuPfBsc",
        "outputId": "ea7d6c19-090f-410a-ef5c-f5e9a98e3870"
      },
      "execution_count": null,
      "outputs": [
        {
          "output_type": "execute_result",
          "data": {
            "text/plain": [
              "(138931212929808, 138931212932848)"
            ]
          },
          "metadata": {},
          "execution_count": 57
        }
      ]
    },
    {
      "cell_type": "markdown",
      "source": [
        "# print와 print를 안 하는 것의 차이"
      ],
      "metadata": {
        "id": "gaquxLzOctak"
      }
    },
    {
      "cell_type": "code",
      "source": [
        "# 아직 class를 안 배웠지만, 이 차이를 위해 잠시 이 코드를 사용하겠습니다.\n",
        "\n",
        "class Customint:\n",
        "    def __repr__(self):\n",
        "        return \"hello\"\n",
        "\n",
        "    def __str__(self):\n",
        "        return \"hello world\""
      ],
      "metadata": {
        "id": "nvNCkPqyWgPF"
      },
      "execution_count": null,
      "outputs": []
    },
    {
      "cell_type": "code",
      "source": [
        "a = Customint()\n",
        "\n",
        "a"
      ],
      "metadata": {
        "colab": {
          "base_uri": "https://localhost:8080/"
        },
        "id": "HU4ZLsZbWgRG",
        "outputId": "4d24bd73-4b89-4b96-d9cc-353c67c278cb"
      },
      "execution_count": null,
      "outputs": [
        {
          "output_type": "execute_result",
          "data": {
            "text/plain": [
              "hello"
            ]
          },
          "metadata": {},
          "execution_count": 60
        }
      ]
    },
    {
      "cell_type": "code",
      "source": [
        "print(a)"
      ],
      "metadata": {
        "colab": {
          "base_uri": "https://localhost:8080/"
        },
        "id": "WhfAtnvhe8MV",
        "outputId": "b9a36d20-fe4f-40ac-ddb3-deaf251c2ba7"
      },
      "execution_count": null,
      "outputs": [
        {
          "output_type": "stream",
          "name": "stdout",
          "text": [
            "hello world\n"
          ]
        }
      ]
    },
    {
      "cell_type": "code",
      "source": [
        "# print -> 해당 인스턴스에 __str__ 호출\n",
        "# 그냥 출력 -> 해당 인스턴스에 repr 호출"
      ],
      "metadata": {
        "colab": {
          "base_uri": "https://localhost:8080/"
        },
        "id": "Uyl4TmYEe8Od",
        "outputId": "a237ce76-5793-490c-d0cd-0bbd5c15434e"
      },
      "execution_count": null,
      "outputs": [
        {
          "output_type": "execute_result",
          "data": {
            "text/plain": [
              "10"
            ]
          },
          "metadata": {},
          "execution_count": 62
        }
      ]
    },
    {
      "cell_type": "code",
      "source": [],
      "metadata": {
        "id": "uo6efaLUkw5C"
      },
      "execution_count": null,
      "outputs": []
    },
    {
      "cell_type": "code",
      "source": [
        "a = 10\n",
        "dir(a)\n",
        "# a.__repr__()  > 그냥 출력! 했을 때 실제 실행되는 함수\n",
        "# a.__str__()  > print로 출력!"
      ],
      "metadata": {
        "id": "kRKePJWae8Qd"
      },
      "execution_count": null,
      "outputs": []
    },
    {
      "cell_type": "markdown",
      "source": [
        "# python built-in functions\n",
        "* 링크 : https://docs.python.org/3/library/functions.html"
      ],
      "metadata": {
        "id": "VWZl_x78jv6u"
      }
    },
    {
      "cell_type": "code",
      "source": [
        "# 자주 사용하는 fucntions\n",
        "abs\n",
        "all\n",
        "any\n",
        "bin\n",
        "enumerate\n",
        "len\n",
        "format\n",
        "input\n",
        "range\n",
        "\n",
        "sorted\n",
        "reversed\n",
        "\n",
        "filter\n",
        "map\n",
        "zip\n",
        "\n",
        "# isinstance # class 파트에서 해드리겠습니다!\n",
        "# issubclass\n",
        "\n",
        "iter\n",
        "next\n",
        "\n",
        "locals\n",
        "globals\n",
        "\n",
        "max\n",
        "min\n",
        "sum\n"
      ],
      "metadata": {
        "id": "GGbnPS7De8UW"
      },
      "execution_count": null,
      "outputs": []
    },
    {
      "cell_type": "code",
      "source": [
        "format(100000000, ',')"
      ],
      "metadata": {
        "colab": {
          "base_uri": "https://localhost:8080/",
          "height": 35
        },
        "id": "3dlTl3ntlHyn",
        "outputId": "5ae20c43-231d-4a25-e5f1-3b4d7e65c18f"
      },
      "execution_count": null,
      "outputs": [
        {
          "output_type": "execute_result",
          "data": {
            "text/plain": [
              "'100,000,000'"
            ],
            "application/vnd.google.colaboratory.intrinsic+json": {
              "type": "string"
            }
          },
          "metadata": {},
          "execution_count": 63
        }
      ]
    },
    {
      "cell_type": "code",
      "source": [
        "# 자료형을 만드는 built-in functions\n",
        "# int\n",
        "# float\n",
        "# str\n",
        "# complex\n",
        "# list\n",
        "# tuple\n",
        "# dict\n",
        "# set"
      ],
      "metadata": {
        "id": "Oo-FwsGCWgTd"
      },
      "execution_count": null,
      "outputs": []
    },
    {
      "cell_type": "code",
      "source": [
        "abs(-10) # 절댓값으로 바꿔준다\n",
        "all([True, True, False]) # 안에 있는 값이 다 True여야 True 값을 반환\n",
        "any ([True, True, False]) # 하나라도 True면 True!\n",
        "bin(10) # 2진수로 바꿔줍니다. > 알고리즘 문제에서 아주 간혹 출제 됩니다. > 실무에서는 거의 안 씁니다\n",
        "# oct()\n",
        "# hex()\n",
        "\n",
        "# 뽑힌 2진수를 10진수로 다시 바꾸고 싶을 때 :\n",
        "# int('0b1010'[2:],2) > 슬라이싱으로 '0b'빼고 해주면 된다!"
      ],
      "metadata": {
        "id": "VDRBljozm8CV",
        "colab": {
          "base_uri": "https://localhost:8080/",
          "height": 110
        },
        "outputId": "189f9015-6454-4763-d471-387ac8df76dc"
      },
      "execution_count": null,
      "outputs": [
        {
          "output_type": "error",
          "ename": "SyntaxError",
          "evalue": "invalid syntax (<ipython-input-4-4ba637f29e2e>, line 9)",
          "traceback": [
            "\u001b[0;36m  File \u001b[0;32m\"<ipython-input-4-4ba637f29e2e>\"\u001b[0;36m, line \u001b[0;32m9\u001b[0m\n\u001b[0;31m    int('0b1010'[2:],2) > 슬라이싱으로 '0b'빼고 해주면 된다!\u001b[0m\n\u001b[0m                                 ^\u001b[0m\n\u001b[0;31mSyntaxError\u001b[0m\u001b[0;31m:\u001b[0m invalid syntax\n"
          ]
        }
      ]
    },
    {
      "cell_type": "code",
      "source": [
        "# 언패킹 > 괄호를 하나 벗겨내는 행동! > 별도의 함수가 있거나 한 건 아니고!\n",
        "\n",
        "a,b = [10,20]\n",
        "a"
      ],
      "metadata": {
        "colab": {
          "base_uri": "https://localhost:8080/"
        },
        "id": "iu1cJG1QYZUp",
        "outputId": "7e29465e-f627-4215-95fc-b0a889706211"
      },
      "execution_count": null,
      "outputs": [
        {
          "output_type": "execute_result",
          "data": {
            "text/plain": [
              "10"
            ]
          },
          "metadata": {},
          "execution_count": 5
        }
      ]
    },
    {
      "cell_type": "code",
      "source": [
        "# enumerate\n",
        "list(enumerate('hello'))\n",
        "list(enumerate('hello',100))\n",
        "for i,v in enumerate('hello'):      #보통 i, v 로 변수를 놓는데 i는 index, v는 value\n",
        "    print(i)\n",
        "\n",
        "# len > 길이 출력\n",
        "\n",
        "# format > 뒤의 문법에 따라 바꿔주는데 거의 ',' 이거만 쓴다!\n",
        "format(1000000, ',') #> 이거!\n",
        "\n",
        "\n",
        "# input # 주의할 점! 숫자를 입력해도 문자로 입력 받는다!\n",
        "\n",
        "\n",
        "# range\n",
        "# range(start,stop,step)\n",
        "# >> 여기서 나오는 값은 list타입이 아니라 range 타입이다!!"
      ],
      "metadata": {
        "colab": {
          "base_uri": "https://localhost:8080/",
          "height": 127
        },
        "id": "QbgqKhvImFYo",
        "outputId": "bef37959-2c50-404e-f879-556b8775fd69"
      },
      "execution_count": null,
      "outputs": [
        {
          "output_type": "stream",
          "name": "stdout",
          "text": [
            "0\n",
            "1\n",
            "2\n",
            "3\n",
            "4\n"
          ]
        },
        {
          "output_type": "execute_result",
          "data": {
            "text/plain": [
              "'1,000,000'"
            ],
            "application/vnd.google.colaboratory.intrinsic+json": {
              "type": "string"
            }
          },
          "metadata": {},
          "execution_count": 10
        }
      ]
    },
    {
      "cell_type": "code",
      "source": [
        "format(10, 'b') > 2진수로 바꿔준다"
      ],
      "metadata": {
        "colab": {
          "base_uri": "https://localhost:8080/",
          "height": 35
        },
        "id": "vE_8WR62Zpcm",
        "outputId": "7edfce58-e4d4-474b-d39d-3b6c5895e5e8"
      },
      "execution_count": null,
      "outputs": [
        {
          "output_type": "execute_result",
          "data": {
            "text/plain": [
              "'1010'"
            ],
            "application/vnd.google.colaboratory.intrinsic+json": {
              "type": "string"
            }
          },
          "metadata": {},
          "execution_count": 11
        }
      ]
    },
    {
      "cell_type": "markdown",
      "source": [],
      "metadata": {
        "id": "gGg_C9Uq6S9M"
      }
    },
    {
      "cell_type": "code",
      "source": [
        "#sorted 별표 5개!!\n",
        "#reversed\n",
        "\n",
        "s = [10, 20, 5, 4, 3, 8, 19, 3, 2]\n",
        "sorted(s) #오름차순\n",
        "sorted(s, reverse=True) #내림차순\n",
        "\n",
        "# 이게 왜 중요할까요?? #이런 정렬을 할 때가 많습니다.\n",
        "# 실무에서도 많고, 알고리즘 문제에서도 많아요.\n",
        "# 주간 판매량 순위 라던가..\n"
      ],
      "metadata": {
        "colab": {
          "base_uri": "https://localhost:8080/"
        },
        "id": "BMMKVFdsatGa",
        "outputId": "8c3890b0-7e9b-484f-ac23-02e96763e030"
      },
      "execution_count": null,
      "outputs": [
        {
          "output_type": "execute_result",
          "data": {
            "text/plain": [
              "[20, 19, 10, 8, 5, 4, 3, 3, 2]"
            ]
          },
          "metadata": {},
          "execution_count": 14
        }
      ]
    },
    {
      "cell_type": "code",
      "source": [
        "# 학년, 반, 번, 이름, 국어, 영어, 수학\n",
        "data = [\n",
        "    [1, 1, 5, '홍길동', 78, 54, 39],          # 3\n",
        "    [1, 1, 2, '김철수', 92, 88, 75],          # 3\n",
        "    [1, 2, 7, '이', 87, 91, 82],              # 1\n",
        "    [1, 2, 3, '박민수', 65, 72, 84],          # 3\n",
        "    [1, 1, 8, '정수진', 91, 85, 93],          # 3\n",
        "    [1, 3, 1, '강', 76, 79, 88],              # 1\n",
        "    [1, 2, 4, '윤서연미래별하', 89, 94, 90],  # 7\n",
        "    [1, 3, 6, '장현우', 82, 67, 71],          # 3\n",
        "    [1, 1, 10, '조', 95, 89, 97],             # 1\n",
        "    [1, 3, 9, '최준호빛나라', 73, 80, 76]     # 6\n",
        "]\n",
        "\n",
        "# 문제 1 이름의 글자수 대로 정렬해주세요.\n",
        "def f(x):\n",
        "    return len(x[3])\n",
        "\n",
        "sorted(data, key=f)\n",
        "\n"
      ],
      "metadata": {
        "colab": {
          "base_uri": "https://localhost:8080/"
        },
        "id": "gjHbKwzcbant",
        "outputId": "626de570-c888-4c72-f557-843738e57994"
      },
      "execution_count": null,
      "outputs": [
        {
          "output_type": "execute_result",
          "data": {
            "text/plain": [
              "[[1, 2, 7, '이', 87, 91, 82],\n",
              " [1, 3, 1, '강', 76, 79, 88],\n",
              " [1, 1, 10, '조', 95, 89, 97],\n",
              " [1, 1, 5, '홍길동', 78, 54, 39],\n",
              " [1, 1, 2, '김철수', 92, 88, 75],\n",
              " [1, 2, 3, '박민수', 65, 72, 84],\n",
              " [1, 1, 8, '정수진', 91, 85, 93],\n",
              " [1, 3, 6, '장현우', 82, 67, 71],\n",
              " [1, 3, 9, '최준호빛나라', 73, 80, 76],\n",
              " [1, 2, 4, '윤서연미래별하', 89, 94, 90]]"
            ]
          },
          "metadata": {},
          "execution_count": 15
        }
      ]
    },
    {
      "cell_type": "code",
      "source": [
        "# 학년, 반, 번, 이름, 국어, 영어, 수학\n",
        "data = [\n",
        "    [1, 1, 5, '홍길동', 78, 54, 39],          # 57\n",
        "    [1, 1, 2, '김철수', 92, 88, 75],          # 85\n",
        "    [1, 2, 7, '이', 87, 91, 82],              # 86.6\n",
        "    [1, 2, 3, '박민수', 65, 72, 84],          # 73.66\n",
        "    [1, 1, 8, '정수진', 91, 85, 93],          # 89.6\n",
        "    [1, 3, 1, '강', 76, 79, 88],              # 81\n",
        "    [1, 2, 4, '윤서연미래별하', 89, 94, 90],  # 91\n",
        "    [1, 3, 6, '장현우', 82, 67, 71],          # 73.33\n",
        "    [1, 1, 10, '조', 95, 89, 97],             # 93.6\n",
        "    [1, 3, 9, '최준호빛나라', 73, 80, 76]     # 76.33\n",
        "]\n",
        "\n",
        "# 문제 2 평균대로 정렬\n",
        "def f(x):\n",
        "    return (x[4]+x[5]+x[6])/3\n",
        "\n",
        "sorted(data, key=f, reverse=True)\n",
        "\n",
        "# 어 근데 어차피 정렬만 할 거면 진짜 평균 안 하고 그냥 합만 구해서 비교해도 되잖아!\n",
        "# 이런 생각을 잘 하자!!!"
      ],
      "metadata": {
        "colab": {
          "base_uri": "https://localhost:8080/"
        },
        "id": "mYz_qmVViJfq",
        "outputId": "6a3669d6-0c7c-44ec-d797-cc775363af2e"
      },
      "execution_count": null,
      "outputs": [
        {
          "output_type": "execute_result",
          "data": {
            "text/plain": [
              "[[1, 1, 10, '조', 95, 89, 97],\n",
              " [1, 2, 4, '윤서연미래별하', 89, 94, 90],\n",
              " [1, 1, 8, '정수진', 91, 85, 93],\n",
              " [1, 2, 7, '이', 87, 91, 82],\n",
              " [1, 1, 2, '김철수', 92, 88, 75],\n",
              " [1, 3, 1, '강', 76, 79, 88],\n",
              " [1, 3, 9, '최준호빛나라', 73, 80, 76],\n",
              " [1, 2, 3, '박민수', 65, 72, 84],\n",
              " [1, 3, 6, '장현우', 82, 67, 71],\n",
              " [1, 1, 5, '홍길동', 78, 54, 39]]"
            ]
          },
          "metadata": {},
          "execution_count": 21
        }
      ]
    },
    {
      "cell_type": "code",
      "source": [
        "# 학년, 반, 번, 이름, 국어, 영어, 수학\n",
        "data = [\n",
        "    [1, 1, 5, '홍길동', 78, 54, 39],          # 57\n",
        "    [1, 1, 2, '김철수', 92, 88, 75],          # 85\n",
        "    [1, 2, 7, '이', 87, 91, 82],              # 86.6\n",
        "    [1, 2, 3, '박민수', 65, 72, 84],          # 73.66\n",
        "    [1, 1, 8, '정수진', 91, 85, 93],          # 89.6\n",
        "    [1, 3, 1, '강', 76, 79, 88],              # 81\n",
        "    [1, 2, 4, '윤서연미래별하', 89, 94, 90],  # 91\n",
        "    [1, 3, 6, '장현우', 82, 67, 71],          # 73.33\n",
        "    [1, 1, 10, '조', 95, 89, 97],             # 93.6\n",
        "    [1, 3, 9, '최준호빛나라', 73, 80, 76]     # 76.33\n",
        "]\n",
        "\n",
        "# 문제 3 국어 점수와 수학 점수가 가장 점수차가 큰 순서대로 정렬해주세요\n",
        "def f(x):\n",
        "    return abs(x[4]-x[6])\n",
        "\n",
        "sorted(data, key=f, reverse=True)"
      ],
      "metadata": {
        "colab": {
          "base_uri": "https://localhost:8080/"
        },
        "id": "vslARVBzkmAq",
        "outputId": "b351db49-32e7-4281-c3be-2da116061fdc"
      },
      "execution_count": null,
      "outputs": [
        {
          "output_type": "execute_result",
          "data": {
            "text/plain": [
              "[[1, 1, 5, '홍길동', 78, 54, 39],\n",
              " [1, 2, 3, '박민수', 65, 72, 84],\n",
              " [1, 1, 2, '김철수', 92, 88, 75],\n",
              " [1, 3, 1, '강', 76, 79, 88],\n",
              " [1, 3, 6, '장현우', 82, 67, 71],\n",
              " [1, 2, 7, '이', 87, 91, 82],\n",
              " [1, 3, 9, '최준호빛나라', 73, 80, 76],\n",
              " [1, 1, 8, '정수진', 91, 85, 93],\n",
              " [1, 1, 10, '조', 95, 89, 97],\n",
              " [1, 2, 4, '윤서연미래별하', 89, 94, 90]]"
            ]
          },
          "metadata": {},
          "execution_count": 23
        }
      ]
    },
    {
      "cell_type": "code",
      "source": [
        "# sorted에서 자주 나오는 유형 2번째!\n",
        "# 정렬 기준이 나에게 없는 경우!\n",
        "\n",
        "\n",
        "data1 = [\n",
        "    'Moby Dick',              # 1851\n",
        "    'To Kill a Mockingbird',  # 1960\n",
        "    '1984'                    # 1949\n",
        "    ]\n",
        "data2 = {'Moby Dick': 1851, 'To Kill a Mockingbird': 1960, '1984': 1949}\n",
        "\n",
        "def f(x):\n",
        "    return data2[x]\n",
        "\n",
        "sorted(data1, key=f)"
      ],
      "metadata": {
        "colab": {
          "base_uri": "https://localhost:8080/"
        },
        "id": "iWP_fgKWpcbY",
        "outputId": "734f1192-4823-4def-b49f-cb5368d70cf1"
      },
      "execution_count": null,
      "outputs": [
        {
          "output_type": "execute_result",
          "data": {
            "text/plain": [
              "['Moby Dick', '1984', 'To Kill a Mockingbird']"
            ]
          },
          "metadata": {},
          "execution_count": 25
        }
      ]
    },
    {
      "cell_type": "code",
      "source": [
        "# 우편번호 정렬\n",
        "# 우편번호 오름차순 순서대로 주소를 정렬하는 코드\n",
        "\n",
        "data1 = ['A동',\n",
        "     'B동',\n",
        "     'C동']\n",
        "\n",
        "data2 = {'A동': 63007, 'B동': 63010, 'C동': 63002}\n",
        "\n",
        "# data1 = data[0]\n",
        "# data2 = data[1]\n",
        "# 이렇게 러프데이터를 나눠도 된다!\n",
        "\n",
        "def f(x):\n",
        "    return data2[x]\n",
        "\n",
        "sorted(data1, key=f)"
      ],
      "metadata": {
        "colab": {
          "base_uri": "https://localhost:8080/"
        },
        "id": "x5PymKEnrhhC",
        "outputId": "3a0610ee-ae3a-49eb-e3bd-942138656b5a"
      },
      "execution_count": null,
      "outputs": [
        {
          "output_type": "execute_result",
          "data": {
            "text/plain": [
              "['C동', 'A동', 'B동']"
            ]
          },
          "metadata": {},
          "execution_count": 30
        }
      ]
    },
    {
      "cell_type": "code",
      "source": [
        "list(reversed ([10, 20, 30])) # 뒤집어 주는 건데 type이 revers라서 list로 해줘야 출력이 된다!\n"
      ],
      "metadata": {
        "colab": {
          "base_uri": "https://localhost:8080/"
        },
        "id": "Djw3ExbWtss9",
        "outputId": "eb0bdac3-7296-4302-e335-9153e2994b4e"
      },
      "execution_count": null,
      "outputs": [
        {
          "output_type": "execute_result",
          "data": {
            "text/plain": [
              "[30, 20, 10]"
            ]
          },
          "metadata": {},
          "execution_count": 32
        }
      ]
    },
    {
      "cell_type": "code",
      "source": [
        "filter\n",
        "map\n",
        "zip\n",
        "\n",
        "# isinstance # class 파트에서 해드리겠습니다!\n",
        "# issubclass\n",
        "\n",
        "iter\n",
        "next\n",
        "\n",
        "locals\n",
        "globals\n",
        "\n",
        "max\n",
        "min\n",
        "sum"
      ],
      "metadata": {
        "colab": {
          "base_uri": "https://localhost:8080/"
        },
        "id": "vcaMQ_5nr7rk",
        "outputId": "68ad172b-8d5b-4a15-a51b-5e412b363ac0"
      },
      "execution_count": null,
      "outputs": [
        {
          "output_type": "execute_result",
          "data": {
            "text/plain": [
              "<function sum(iterable, /, start=0)>"
            ]
          },
          "metadata": {},
          "execution_count": 33
        }
      ]
    },
    {
      "cell_type": "code",
      "source": [
        "result = 0\n",
        "for i in range(1,11):\n",
        "    if i %2 == 0:\n",
        "        result += i\n",
        "\n",
        "result"
      ],
      "metadata": {
        "colab": {
          "base_uri": "https://localhost:8080/"
        },
        "id": "Nyru2WlIuktW",
        "outputId": "a532c18c-2b2d-4acf-e1c3-9e3a5df3f516"
      },
      "execution_count": null,
      "outputs": [
        {
          "output_type": "execute_result",
          "data": {
            "text/plain": [
              "30"
            ]
          },
          "metadata": {},
          "execution_count": 36
        }
      ]
    },
    {
      "cell_type": "code",
      "source": [
        "def f(x):\n",
        "    return x%2 == 0\n",
        "\n",
        "list(filter(f, range(1,11))) # filter(변수나함수,훑을 내용)"
      ],
      "metadata": {
        "colab": {
          "base_uri": "https://localhost:8080/"
        },
        "id": "HaaUV8Mmu8Hr",
        "outputId": "a48f28ef-8ad6-4869-dd17-67d9e2fa5dbf"
      },
      "execution_count": null,
      "outputs": [
        {
          "output_type": "execute_result",
          "data": {
            "text/plain": [
              "[2, 4, 6, 8, 10]"
            ]
          },
          "metadata": {},
          "execution_count": 39
        }
      ]
    },
    {
      "cell_type": "code",
      "source": [
        "def f(x):\n",
        "    return x%2 == 0\n",
        "\n",
        "sum(filter(f, range(1,11)))"
      ],
      "metadata": {
        "colab": {
          "base_uri": "https://localhost:8080/"
        },
        "id": "QQ5MXlZcvcpP",
        "outputId": "9c0540d7-852c-4afd-9a79-fe943b036d66"
      },
      "execution_count": null,
      "outputs": [
        {
          "output_type": "execute_result",
          "data": {
            "text/plain": [
              "30"
            ]
          },
          "metadata": {},
          "execution_count": 40
        }
      ]
    },
    {
      "cell_type": "code",
      "source": [
        "# 항공사, 편명, 좌석번호, 이름, 나이, 짐무게(kg), 마일리지\n",
        "\n",
        "data = [\n",
        "    ['대한항공', 'KE607', '12A', '김민준', 42, 23, 5280],\n",
        "    ['아시아나', 'OZ721', '8C', '이', 29, 18, 3450],\n",
        "    ['제주항공', '7C101', '15F', '박지민', 35, 15, 720],\n",
        "    ['진에어', 'LJ211', '4D', '최서우미래한별', 51, 27, 8900],\n",
        "    ['에어부산', 'BX213', '21B', '정', 24, 12, 1250],\n",
        "    ['티웨이', 'TW305', '19E', '강민석', 38, 20, 2760],\n",
        "    ['에어서울', 'RS808', '3C', '윤지현', 47, 16, 4320],\n",
        "    ['대한항공', 'KE123', '7F', '송', 33, 21, 6780],\n",
        "    ['아시아나', 'OZ562', '11D', '장하은별님달빛', 26, 19, 1890],\n",
        "    ['제주항공', '7C505', '17B', '황수진', 40, 14, 940]]\n",
        "\n",
        "def f(x):\n",
        "    return x[4] >= 0\n",
        "\n",
        "for i in filter(f, data):\n",
        "    print(i)"
      ],
      "metadata": {
        "colab": {
          "base_uri": "https://localhost:8080/"
        },
        "id": "erPhw4ZRvfqZ",
        "outputId": "0f15efdb-d6f5-4874-9610-cb5aa4403848"
      },
      "execution_count": null,
      "outputs": [
        {
          "output_type": "stream",
          "name": "stdout",
          "text": [
            "['대한항공', 'KE607', '12A', '김민준', 42, 23, 5280]\n",
            "['아시아나', 'OZ721', '8C', '이', 29, 18, 3450]\n",
            "['제주항공', '7C101', '15F', '박지민', 35, 15, 720]\n",
            "['진에어', 'LJ211', '4D', '최서우미래한별', 51, 27, 8900]\n",
            "['에어부산', 'BX213', '21B', '정', 24, 12, 1250]\n",
            "['티웨이', 'TW305', '19E', '강민석', 38, 20, 2760]\n",
            "['에어서울', 'RS808', '3C', '윤지현', 47, 16, 4320]\n",
            "['대한항공', 'KE123', '7F', '송', 33, 21, 6780]\n",
            "['아시아나', 'OZ562', '11D', '장하은별님달빛', 26, 19, 1890]\n",
            "['제주항공', '7C505', '17B', '황수진', 40, 14, 940]\n"
          ]
        }
      ]
    },
    {
      "cell_type": "code",
      "source": [
        "# list 변환하는 것은 하나씩 순회를 돌며 메모리에 적재하기 때문에\n",
        "# 효율이 나쁩니다.\n",
        "\n",
        "# map은 함수를 하나씩 실행하는 거!\n",
        "# map(함수, iterable)\n",
        "\n",
        "# filter은 return값이 True 인 걸 다 반환\n",
        "# map은 return 값을 모두 다 리스트로 반환\n",
        "\n",
        "def f(x):\n",
        "    return x**2\n",
        "\n",
        "list(map(f, [1, 2, 3, 4]))"
      ],
      "metadata": {
        "colab": {
          "base_uri": "https://localhost:8080/"
        },
        "id": "9Ipf4tQKF9iS",
        "outputId": "443fc59f-dddd-47ce-ff83-82cce41289f6"
      },
      "execution_count": null,
      "outputs": [
        {
          "output_type": "execute_result",
          "data": {
            "text/plain": [
              "[1, 4, 9, 16]"
            ]
          },
          "metadata": {},
          "execution_count": 49
        }
      ]
    },
    {
      "cell_type": "code",
      "source": [
        "# 항공사, 편명, 좌석번호, 이름, 나이, 짐무게(kg), 마일리지\n",
        "\n",
        "data = [\n",
        "    ['대한항공', 'KE607', '12A', '김민준', 42, 23, 5280],\n",
        "    ['아시아나', 'OZ721', '8C', '이', 29, 18, 3450],\n",
        "    ['제주항공', '7C101', '15F', '박지민', 35, 15, 720],\n",
        "    ['진에어', 'LJ211', '4D', '최서우미래한별', 51, 27, 8900],\n",
        "    ['에어부산', 'BX213', '21B', '정', 24, 12, 1250],\n",
        "    ['티웨이', 'TW305', '19E', '강민석', 38, 20, 2760],\n",
        "    ['에어서울', 'RS808', '3C', '윤지현', 47, 16, 4320],\n",
        "    ['대한항공', 'KE123', '7F', '송', 33, 21, 6780],\n",
        "    ['아시아나', 'OZ562', '11D', '장하은별님달빛', 26, 19, 1890],\n",
        "    ['제주항공', '7C505', '17B', '황수진', 40, 14, 940]]\n",
        "\n",
        "def f(x):\n",
        "    return x[4]\n",
        "\n",
        "list(map(f,data))"
      ],
      "metadata": {
        "colab": {
          "base_uri": "https://localhost:8080/"
        },
        "id": "lPHPewPNHm29",
        "outputId": "afb6338d-fcb6-4cb0-adf2-38b67503c596"
      },
      "execution_count": null,
      "outputs": [
        {
          "output_type": "execute_result",
          "data": {
            "text/plain": [
              "[42, 29, 35, 51, 24, 38, 47, 33, 26, 40]"
            ]
          },
          "metadata": {},
          "execution_count": 52
        }
      ]
    },
    {
      "cell_type": "code",
      "source": [
        "# map은 어떤 데이터를 '추출' 할 때 많이 사용합니다.\n",
        "# front-end는 입사문제로 map을 자주 출제합니다."
      ],
      "metadata": {
        "id": "TSGDvKQ3H5Zo"
      },
      "execution_count": null,
      "outputs": []
    },
    {
      "cell_type": "code",
      "source": [
        "# 항공사, 편명, 좌석번호, 이름, 나이, 짐무게(kg), 마일리지\n",
        "\n",
        "data = [\n",
        "    ['대한항공', 'KE607', '12A', '김민준', 42, 23, 5280],\n",
        "    ['아시아나', 'OZ721', '8C', '이', 29, 18, 3450],\n",
        "    ['제주항공', '7C101', '15F', '박지민', 35, 15, 720],\n",
        "    ['진에어', 'LJ211', '4D', '최서우미래한별', 51, 27, 8900],\n",
        "    ['에어부산', 'BX213', '21B', '정', 24, 12, 1250],\n",
        "    ['티웨이', 'TW305', '19E', '강민석', 38, 20, 2760],\n",
        "    ['에어서울', 'RS808', '3C', '윤지현', 47, 16, 4320],\n",
        "    ['대한항공', 'KE123', '7F', '송', 33, 21, 6780],\n",
        "    ['아시아나', 'OZ562', '11D', '장하은별님달빛', 26, 19, 1890],\n",
        "    ['제주항공', '7C505', '17B', '황수진', 40, 14, 940]\n",
        "]\n",
        "\n",
        "# 편명과 이름으로 된 새로운 리스트를 만들어 주세요.\n",
        "def f(x):\n",
        "    return [x[1], x[3]]\n",
        "\n",
        "list(map(f,data))"
      ],
      "metadata": {
        "colab": {
          "base_uri": "https://localhost:8080/"
        },
        "id": "GE9lfjwqI24s",
        "outputId": "c6b9a0c8-f147-4b22-f40b-b67c3e228a5b"
      },
      "execution_count": null,
      "outputs": [
        {
          "output_type": "execute_result",
          "data": {
            "text/plain": [
              "[['KE607', '김민준'],\n",
              " ['OZ721', '이'],\n",
              " ['7C101', '박지민'],\n",
              " ['LJ211', '최서우미래한별'],\n",
              " ['BX213', '정'],\n",
              " ['TW305', '강민석'],\n",
              " ['RS808', '윤지현'],\n",
              " ['KE123', '송'],\n",
              " ['OZ562', '장하은별님달빛'],\n",
              " ['7C505', '황수진']]"
            ]
          },
          "metadata": {},
          "execution_count": 59
        }
      ]
    },
    {
      "cell_type": "code",
      "source": [
        "\n",
        "# 문제: 30살 이상인 사람들의 나이 합을 구해주세요!\n",
        "# 30살 이상인 사람을 filter 해서 나이를 다 더한 다음 필더링 한 사람들의 합을 구해주면 되겠네?\n",
        "# 방법1: 나이만 map 해서 뽑고 filter로 30살 이상인 사람 추출해서 sum\n",
        "# 방법2: filter로 30살 이상인 사람 추출한 다음 map으로 나이만 뽑고 sum\n",
        "\n",
        "\n",
        "# 방법1\n",
        "# 일부러 f, ff 이런식으로 함수명을 작성하고 있는데\n",
        "# 실무에서는 실제 기능에 맞춰 함수명을 작성합니다.\n",
        "# 함수명을 작성하는 것부터가 큰 스트레스입니다.\n",
        "# ChatGPT로 많이 하기 때문에 요즘에는 스트레스까진 아닙니다.\n",
        "# def f(x):\n",
        "#     return x[4]\n",
        "\n",
        "# def ff(x):\n",
        "#     return x >= 30\n",
        "\n",
        "# sum(filter(ff, map(f, data)))\n",
        "\n",
        "# 방법2\n",
        "def f(x):\n",
        "    return x[4] >= 30\n",
        "\n",
        "def ff(x):\n",
        "    return x[4]\n",
        "\n",
        "sum(map(ff, filter(f, data)))"
      ],
      "metadata": {
        "colab": {
          "base_uri": "https://localhost:8080/"
        },
        "id": "r8yz95vWMl-t",
        "outputId": "dc1b481f-b5b4-4c61-e6b8-32d8a808fced"
      },
      "execution_count": null,
      "outputs": [
        {
          "output_type": "execute_result",
          "data": {
            "text/plain": [
              "286"
            ]
          },
          "metadata": {},
          "execution_count": 60
        }
      ]
    },
    {
      "cell_type": "code",
      "source": [
        "# 문제 1: 짐무게가 20kg 이상인 승객들의 마일리지 평균을 구해주세요!\n",
        "# 항공사, 편명, 좌석번호, 이름, 나이, 짐무게(kg), 마일리지\n",
        "data = [\n",
        "    ['대한항공', 'KE607', '12A', '김민준', 42, 23, 5280],\n",
        "    ['아시아나', 'OZ721', '8C', '이', 29, 18, 3450],\n",
        "    ['제주항공', '7C101', '15F', '박지민', 35, 15, 720],\n",
        "    ['진에어', 'LJ211', '4D', '최서우미래한별', 51, 27, 8900],\n",
        "    ['에어부산', 'BX213', '21B', '정', 24, 12, 1250],\n",
        "    ['티웨이', 'TW305', '19E', '강민석', 38, 20, 2760],\n",
        "    ['에어서울', 'RS808', '3C', '윤지현', 47, 16, 4320],\n",
        "    ['대한항공', 'KE123', '7F', '송', 33, 21, 6780],\n",
        "    ['아시아나', 'OZ562', '11D', '장하은별님달빛', 26, 19, 1890],\n",
        "    ['제주항공', '7C505', '17B', '황수진', 40, 14, 940]\n",
        "]\n",
        "\n",
        "# 방법1\n",
        "def f(x):\n",
        "    return x[-2] >= 20\n",
        "\n",
        "def ff(x):\n",
        "    return x[-1]\n",
        "\n",
        "filtering_data = list(map(ff, filter(f, data))) # list 변환했어? 메모리 효율이 안좋은데...\n",
        "sum(filtering_data) / len(filtering_data) # sum을 했어? 한 번 더 순회를 돌아야 하네...\n",
        "\n",
        "# 방법2\n",
        "def f(x):\n",
        "    return x[-2] >= 20\n",
        "\n",
        "def ff(x):\n",
        "    return x[-1]\n",
        "\n",
        "count = 0\n",
        "sum_result = 0\n",
        "for i in map(ff, filter(f, data)): # 2번 순회를 돌아야 하는 것을 1번만 순회돈 것입니다.\n",
        "    count += 1\n",
        "    sum_result += i\n",
        "\n",
        "sum_result / count\n",
        "\n",
        "# 문제 2: 아시아나 항공을 이용하는 40세 미만 승객들의 이름 길이 합을 구해주세요!\n",
        "def f(x):\n",
        "    return x[0] == '아시아나' and x[4] < 40\n",
        "\n",
        "def ff(x):\n",
        "    return x[3]\n",
        "\n",
        "len(''.join(map(ff, filter(f, data))))"
      ],
      "metadata": {
        "colab": {
          "base_uri": "https://localhost:8080/"
        },
        "id": "20ejDSNIPO5e",
        "outputId": "aba30938-e9b1-4892-8718-255431a75787"
      },
      "execution_count": null,
      "outputs": [
        {
          "output_type": "execute_result",
          "data": {
            "text/plain": [
              "8"
            ]
          },
          "metadata": {},
          "execution_count": 78
        }
      ]
    },
    {
      "cell_type": "code",
      "source": [
        "# zip\n",
        "\n",
        "a = [10,20,30]\n",
        "b = (100, 200, 300)\n",
        "c = 'hello world'\n",
        "\n",
        "list(zip(a, b, c))  #최솟값 기준으로 묶인다!"
      ],
      "metadata": {
        "colab": {
          "base_uri": "https://localhost:8080/"
        },
        "id": "vaAd3WX9VnoX",
        "outputId": "8a554737-34f6-461d-8c0c-9411e1d51bdf"
      },
      "execution_count": null,
      "outputs": [
        {
          "output_type": "execute_result",
          "data": {
            "text/plain": [
              "[(10, 100, 'h'), (20, 200, 'e'), (30, 300, 'l')]"
            ]
          },
          "metadata": {},
          "execution_count": 81
        }
      ]
    },
    {
      "cell_type": "code",
      "source": [
        "# zip\n",
        "\n",
        "a = [10,20,30]\n",
        "b = (100, 200, 300)\n",
        "c = 'hello world'\n",
        "\n",
        "s = (zip(a, b, c))\n",
        "\n",
        "for i in s:\n",
        "    print(i)\n",
        "\n",
        "for i in s:\n",
        "    print(i)\n",
        "\n",
        "# 결과값이 두 번 안 나온다!! 왜???\n",
        "# map, zip, filter 다 이렇다!\n",
        "\n",
        "# 변수에서 다시 순회를 돌 수 있도록 초기화를 해줘야 하는데\n",
        "# 초기화를 해주지 않는 함수입니다."
      ],
      "metadata": {
        "colab": {
          "base_uri": "https://localhost:8080/"
        },
        "id": "nGMNJD6wWHI7",
        "outputId": "883d77ad-dfd1-4425-e1a4-a36c790c0aab"
      },
      "execution_count": null,
      "outputs": [
        {
          "output_type": "stream",
          "name": "stdout",
          "text": [
            "(10, 100, 'h')\n",
            "(20, 200, 'e')\n",
            "(30, 300, 'l')\n"
          ]
        }
      ]
    },
    {
      "cell_type": "code",
      "source": [
        "iter\n",
        "next\n",
        "\n",
        "s = 'hello'\n",
        "\n",
        "ss = iter(s)\n",
        "\n",
        "print(next(ss))\n",
        "print(next(ss))\n",
        "print(next(ss))\n",
        "print(next(ss))\n",
        "print(next(ss))\n",
        "print(next(ss))\n",
        "\n",
        "\n",
        "# iter는 ()안에 있는 거를 반복 할 수 있는 객채로 만들어줘 라는 뜻 > 타입이 iter로 바뀜\n",
        "# next는 ()안에 있는 거를 를 순회하며 하나씩 출력하는 거"
      ],
      "metadata": {
        "colab": {
          "base_uri": "https://localhost:8080/"
        },
        "id": "S6KMzISFVxul",
        "outputId": "ca705c97-1d3b-4ad6-dd8b-c7197fb50209"
      },
      "execution_count": null,
      "outputs": [
        {
          "output_type": "stream",
          "name": "stdout",
          "text": [
            "<class 'str_ascii_iterator'>\n"
          ]
        }
      ]
    },
    {
      "cell_type": "markdown",
      "source": [
        "#반복문(while)"
      ],
      "metadata": {
        "id": "uGecFehw4cbt"
      }
    },
    {
      "cell_type": "code",
      "source": [
        "# 언제 for를 사용하고 언제 while을 사용하나요?\n",
        "# for는 객체를 순회할 때\n",
        "# while은 정해진 수만큼 순회를 하거나, 무한 반복을 할 때\n",
        "\n",
        "# 하지만 for도 무한반복을 할 수 있게 할 순 있다!\n",
        "# > 하지만! 안 하는게 좋다.."
      ],
      "metadata": {
        "id": "TA8ULeir4iKd"
      },
      "execution_count": null,
      "outputs": []
    },
    {
      "cell_type": "code",
      "source": [
        " # while은 조건이 True인 동안 무한반복!\n",
        " x = 0\n",
        "\n",
        " while x < 10:\n",
        "    print(x)  # 여기까지 하면 무한반복!\n",
        "    x += 1 #이러면 종료 가능!"
      ],
      "metadata": {
        "colab": {
          "base_uri": "https://localhost:8080/"
        },
        "id": "QIW6c6w0Z0Vp",
        "outputId": "cde16406-0a77-4426-cae6-f54abb426c97"
      },
      "execution_count": null,
      "outputs": [
        {
          "output_type": "stream",
          "name": "stdout",
          "text": [
            "0\n",
            "1\n",
            "2\n",
            "3\n",
            "4\n",
            "5\n",
            "6\n",
            "7\n",
            "8\n",
            "9\n"
          ]
        }
      ]
    },
    {
      "cell_type": "code",
      "source": [
        "'''\n",
        "num = 0\n",
        "for i in range(101):\n",
        "    if i%2 == 0:\n",
        "        num += i\n",
        "print(num)\n",
        "'''\n",
        "\n",
        "num = 0\n",
        "i = 0\n",
        "while True:\n",
        "    i += 1\n",
        "    if i%2 == 0:\n",
        "        num += i\n",
        "    if i == 100:\n",
        "        break\n",
        "print(num)\n",
        "# > 이건 좋지는 않다! if를 계속 순회해야 하니까!"
      ],
      "metadata": {
        "colab": {
          "base_uri": "https://localhost:8080/"
        },
        "id": "0kM__snFc0hH",
        "outputId": "be203e6c-5540-4d00-ca2f-d0c8977a391d"
      },
      "execution_count": null,
      "outputs": [
        {
          "output_type": "stream",
          "name": "stdout",
          "text": [
            "2550\n"
          ]
        }
      ]
    },
    {
      "cell_type": "code",
      "source": [
        "# 위의 코드보다 좋은 코드\n",
        "x = 0\n",
        "result = 0\n",
        "\n",
        "while x < 11:\n",
        "    result += x\n",
        "    x += 2 # 종료할 수 있는 연산\n",
        "\n",
        "result # 이건 if가 없으므로 좀 더 나은!"
      ],
      "metadata": {
        "colab": {
          "base_uri": "https://localhost:8080/"
        },
        "id": "JOvRr8emeb9h",
        "outputId": "c1f6786c-f044-4f0f-af86-7450d26c87c8"
      },
      "execution_count": null,
      "outputs": [
        {
          "output_type": "execute_result",
          "data": {
            "text/plain": [
              "30"
            ]
          },
          "metadata": {},
          "execution_count": 112
        }
      ]
    },
    {
      "cell_type": "code",
      "source": [
        "# 주의해야 할 점\n",
        "i = 2\n",
        "j = 1\n",
        "\n",
        "while i < 10:\n",
        "    while j < 10:\n",
        "        print(i, j, i*j)\n",
        "        j += 1\n",
        "    i += 1\n",
        "# j를 1로 리셋해주지 않아서 두 번째 while이 계속 fals상태로 지나가버린다!"
      ],
      "metadata": {
        "id": "Xx0SaYv2erp-",
        "colab": {
          "base_uri": "https://localhost:8080/"
        },
        "outputId": "1114c166-b67f-4778-c29f-1929ff10440a"
      },
      "execution_count": null,
      "outputs": [
        {
          "output_type": "stream",
          "name": "stdout",
          "text": [
            "2 1 2\n",
            "2 2 4\n",
            "2 3 6\n",
            "2 4 8\n",
            "2 5 10\n",
            "2 6 12\n",
            "2 7 14\n",
            "2 8 16\n",
            "2 9 18\n"
          ]
        }
      ]
    },
    {
      "cell_type": "code",
      "source": [
        "# import random\n",
        "\n",
        "# result = random.randint(1, 100)\n",
        "\n",
        "# while True:\n",
        "#     user_input = int(input('1부터 100까지 숫자를 입력하세요.'))\n",
        "#     if user_input > result:\n",
        "#         print('더 작은 숫자를 입력하세요.')\n",
        "#     elif user_input < result:\n",
        "#         print('더 큰 숫자를 입력하세요.')\n",
        "#     else:\n",
        "#         print('정답입니다!')\n",
        "#         break"
      ],
      "metadata": {
        "id": "bXW3XdvOZX_M"
      },
      "execution_count": null,
      "outputs": []
    },
    {
      "cell_type": "code",
      "source": [
        "# break, continue 는 while과 for에서 모두 쓸 수 있습니다.\n",
        "# break는 반복문을 중단하는 것이고\n",
        "# continue는 다음 반복문으로 넘어가는 것입니다.\n",
        "\n",
        "# for i in range(10):\n",
        "#     if i == 3:\n",
        "#         break\n",
        "#     print(i)\n",
        "\n",
        "for i in range(10):\n",
        "    if i == 3:\n",
        "        continue\n",
        "    print(i)"
      ],
      "metadata": {
        "id": "yqStR7DwZ_j1"
      },
      "execution_count": null,
      "outputs": []
    },
    {
      "cell_type": "code",
      "source": [],
      "metadata": {
        "id": "70Sp9KoqZ-1u"
      },
      "execution_count": null,
      "outputs": []
    },
    {
      "cell_type": "markdown",
      "source": [
        "#조건문(match)"
      ],
      "metadata": {
        "id": "RbJPHMga4fYe"
      }
    },
    {
      "cell_type": "code",
      "source": [
        "day = '토'\n",
        "\n",
        "match day:\n",
        "    case \"월\" | \"화\" | \"수\" | \"목\" | \"금\":\n",
        "        print(\"평일\")\n",
        "    case \"토\" | \"일\":\n",
        "        print(\"주말\")\n",
        "    case _:\n",
        "        print(\"올바른 요일을 입력하세요\")\n",
        "\n",
        "# 각 값을 따라서 간다!"
      ],
      "metadata": {
        "id": "IQvng1YfmFb_"
      },
      "execution_count": null,
      "outputs": []
    },
    {
      "cell_type": "code",
      "source": [
        "# 이전에는 어떻게 사용했는가?\n",
        "\n",
        "today = '토'\n",
        "\n",
        "day = {\n",
        "    '월': '평일',\n",
        "    '화': '평일',\n",
        "    '수': '평일',\n",
        "    '목': '평일',\n",
        "    '금': '평일',\n",
        "    '토': '주말',\n",
        "    '일': '주말',\n",
        "}\n",
        "\n",
        "day.get(today, '제대로 입력하세요!')\n",
        "\n",
        "# get이 좀 더 직관적이라 보기 좋다!"
      ],
      "metadata": {
        "id": "FLXsvwVxmFpn"
      },
      "execution_count": null,
      "outputs": []
    },
    {
      "cell_type": "markdown",
      "source": [
        "# 클래스(Class)\n",
        "###아주 중요!!!"
      ],
      "metadata": {
        "id": "ASajJcnAiToa"
      }
    },
    {
      "cell_type": "code",
      "source": [
        "# 클래스는 설계 도면!\n",
        "# 인스턴스는 생산품\n",
        "# 클래스 내의 변수 - 멤버 또는 애트리뷰트 라고 부른다\n",
        "# 클래스 내의 함수 - 메서드라고 부른다\n",
        "\n",
        "# 자동차!\n",
        "# 데이터(멤버, 애트리뷰트) # 클래스 내 변수로 선언됩니다. 이것을 멤버 또는 애트리뷰트라고 합니다.\n",
        "#   * 최대 속도\n",
        "#   * 최대 탑승객\n",
        "\n",
        "# 기능(메서드) # 클래스 내 함수로 선언됩니다. 이것을 메서드라고 합니다.\n",
        "#   * 출발\n",
        "#   * 정지"
      ],
      "metadata": {
        "id": "nQVg_BYKkJxC"
      },
      "execution_count": null,
      "outputs": []
    },
    {
      "cell_type": "code",
      "source": [
        "class Car:\n",
        "    max_spped = 300 # 멤버\n",
        "    max_people = 5\n",
        "\n",
        "    def start(self):    # 메서드\n",
        "        print('출발!')\n",
        "\n",
        "    def stop(self):\n",
        "        print('정지!')\n",
        "\n",
        "car1 = Car() #car1은 인스턴스 , Car()은 클래스\n",
        "car2 = Car()\n",
        "\n",
        "print(car1.max_spped)\n",
        "car1.start()\n",
        "\n",
        "# car1은 Car의 인스턴스입니다!\n",
        "value = 10\n",
        "# value는 int의 인스턴스입니다!\n",
        "value = 10.0\n",
        "# value는 float의 인스턴스입니다!\n",
        "value = [10, 20, 30]\n",
        "# value는 list의 인스턴스입니다!\n",
        "value = (10, 20, 30)\n",
        "# value는 tuple의 인스턴스입니다!\n"
      ],
      "metadata": {
        "colab": {
          "base_uri": "https://localhost:8080/"
        },
        "id": "Xgu-fsyUlJX5",
        "outputId": "96cb03e8-7425-4061-a47c-7412338233d1"
      },
      "execution_count": null,
      "outputs": [
        {
          "output_type": "stream",
          "name": "stdout",
          "text": [
            "300\n",
            "출발!\n"
          ]
        }
      ]
    },
    {
      "cell_type": "code",
      "source": [
        "ㅣ = [10, 20, 30]\n",
        "ㅣ.append(40)\n",
        "\n",
        "ㅣ"
      ],
      "metadata": {
        "colab": {
          "base_uri": "https://localhost:8080/"
        },
        "id": "Kp2-EI7qk10l",
        "outputId": "5560f8db-998d-4889-af52-07aa711d123c"
      },
      "execution_count": null,
      "outputs": [
        {
          "output_type": "execute_result",
          "data": {
            "text/plain": [
              "[10, 20, 30, 40]"
            ]
          },
          "metadata": {},
          "execution_count": 137
        }
      ]
    },
    {
      "cell_type": "code",
      "source": [
        "# list()\n",
        "# tree()\n",
        "# class는 뭔가 창의적으로 함수를 만들 수 있다!\n",
        "# list에서 값을 찾으려면 하나씩 순회를 해야하지만 더 빠르게 하는 방법을 만든다던가??\n",
        "# 결국 속도가 더 빨라진다 > 데이터가 많으면 많을 수록 더 좋은 이점!\n"
      ],
      "metadata": {
        "id": "WN2NKpibmPWs"
      },
      "execution_count": null,
      "outputs": []
    },
    {
      "cell_type": "code",
      "source": [],
      "metadata": {
        "id": "C6litv9PeZhk"
      },
      "execution_count": null,
      "outputs": []
    },
    {
      "cell_type": "markdown",
      "source": [
        "# 클래스 변수"
      ],
      "metadata": {
        "id": "91U8qY-NivPQ"
      }
    },
    {
      "cell_type": "code",
      "source": [
        "# 클래스 변수 - 설계 도면에 포함되어야 하는 것\n",
        "# 인스턴스 변수 - 생산품에 포함되어야 하는\n",
        "\n",
        "\n",
        "class Car:\n",
        "    # 클래스 변수의 위치\n",
        "    max_speed = 300\n",
        "    max_people = 5\n",
        "\n",
        "    def __init__(self,구매자):\n",
        "        # 인스턴스 변수 위치\n",
        "        # 'self.변수이름'의 형태\n",
        "        self.차구매자 = 구매자\n",
        "\n",
        "#클래스에서는 sefl 자리에 자동으로 modela가 들어간다!\n",
        "\n",
        "modela = Car(\"구매자1\")\n",
        "modelb = Car(\"구매자2\")\n",
        "\n",
        "modela.차구매자\n",
        "modelb.차구매자"
      ],
      "metadata": {
        "colab": {
          "base_uri": "https://localhost:8080/",
          "height": 35
        },
        "id": "vHaJSGlCeqzs",
        "outputId": "c6065150-4622-43df-f204-1e9261781ef7"
      },
      "execution_count": null,
      "outputs": [
        {
          "output_type": "execute_result",
          "data": {
            "text/plain": [
              "'구매자2'"
            ],
            "application/vnd.google.colaboratory.intrinsic+json": {
              "type": "string"
            }
          },
          "metadata": {},
          "execution_count": 16
        }
      ]
    },
    {
      "cell_type": "code",
      "source": [
        "print(Car.max_speed)\n",
        "print(modelb.max_people)"
      ],
      "metadata": {
        "colab": {
          "base_uri": "https://localhost:8080/",
          "height": 176
        },
        "id": "veczMMCehzdR",
        "outputId": "7f553a75-607f-4b60-c665-b3521ddc89a1"
      },
      "execution_count": null,
      "outputs": [
        {
          "output_type": "stream",
          "name": "stdout",
          "text": [
            "300\n"
          ]
        },
        {
          "output_type": "error",
          "ename": "NameError",
          "evalue": "name 'modelb' is not defined",
          "traceback": [
            "\u001b[0;31m---------------------------------------------------------------------------\u001b[0m",
            "\u001b[0;31mNameError\u001b[0m                                 Traceback (most recent call last)",
            "\u001b[0;32m<ipython-input-13-cf939e8872e9>\u001b[0m in \u001b[0;36m<cell line: 0>\u001b[0;34m()\u001b[0m\n\u001b[1;32m      1\u001b[0m \u001b[0mprint\u001b[0m\u001b[0;34m(\u001b[0m\u001b[0mCar\u001b[0m\u001b[0;34m.\u001b[0m\u001b[0mmax_speed\u001b[0m\u001b[0;34m)\u001b[0m\u001b[0;34m\u001b[0m\u001b[0;34m\u001b[0m\u001b[0m\n\u001b[0;32m----> 2\u001b[0;31m \u001b[0mprint\u001b[0m\u001b[0;34m(\u001b[0m\u001b[0mmodelb\u001b[0m\u001b[0;34m.\u001b[0m\u001b[0mmax_people\u001b[0m\u001b[0;34m)\u001b[0m\u001b[0;34m\u001b[0m\u001b[0;34m\u001b[0m\u001b[0m\n\u001b[0m",
            "\u001b[0;31mNameError\u001b[0m: name 'modelb' is not defined"
          ]
        }
      ]
    },
    {
      "cell_type": "code",
      "source": [
        "# self의 정체! - self는 해당 인스턴스를 얘기합니다.\n",
        "\n",
        "\n",
        "class Car:\n",
        "    # 클래스 변수의 위치\n",
        "    max_speed = 300\n",
        "    max_people = 5\n",
        "\n",
        "    def __init__(self,구매자):\n",
        "        # 인스턴스 변수 위치\n",
        "        # 'self.변수이름'의 형태\n",
        "        self.차구매자 = 구매자\n",
        "\n",
        "#클래스에서는 sefl 자리에 자동으로 modela가 들어간다!\n",
        "\n",
        "modela = Car(\"구매자1\")\n",
        "modelb = Car(\"구매자2\")\n",
        "\n",
        "\n",
        "#위의 self사용해서 하는 거랑 같은 뜻이다!\n",
        "modela.스마트키 = '키티스마트키'\n",
        "modela.스마트키"
      ],
      "metadata": {
        "colab": {
          "base_uri": "https://localhost:8080/",
          "height": 35
        },
        "id": "oJPYkhb8eo1B",
        "outputId": "bae6db38-0592-4343-c9cb-da6b9e22b6c1"
      },
      "execution_count": null,
      "outputs": [
        {
          "output_type": "execute_result",
          "data": {
            "text/plain": [
              "'키티스마트키'"
            ],
            "application/vnd.google.colaboratory.intrinsic+json": {
              "type": "string"
            }
          },
          "metadata": {},
          "execution_count": 22
        }
      ]
    },
    {
      "cell_type": "code",
      "source": [
        "# 클래스가 더 복잡하고 난해하죠?\n",
        "# 초급자의 마음 : 클래스가 더 복잡한데 왜 이렇게 하지??\n",
        "\n",
        "# 중급자의 마음: 예를 들어서 print로 출력을 했을 때 출력되는 길이가 너무 긴 경우가 있을 수 있어요\n",
        "# 데이터 안에 뭐가 많다면 수천자 프린트 될 수도 있다!\n",
        "\n",
        "# 항공사, 편명, 좌석번호, 이름, 나이, 짐무게(kg), 마일리지\n",
        "data = [\n",
        "    ['대한항공', 'KE607', '12A', '김민준', 42, 23, 5280],\n",
        "    ['아시아나', 'OZ721', '8C', '이', 29, 18, 3450],\n",
        "    ['제주항공', '7C101', '15F', '박지민', 35, 15, 720],\n",
        "    ['진에어', 'LJ211', '4D', '최서우미래한별', 51, 27, 8900],\n",
        "    ['에어부산', 'BX213', '21B', '정', 24, 12, 1250],\n",
        "    ['티웨이', 'TW305', '19E', '강민석', 38, 20, 2760],\n",
        "    ['에어서울', 'RS808', '3C', '윤지현', 47, 16, 4320],\n",
        "    ['대한항공', 'KE123', '7F', '송', 33, 21, 6780],\n",
        "    ['아시아나', 'OZ562', '11D', '장하은별님달빛', 26, 19, 1890],\n",
        "    ['제주항공', '7C505', '17B', '황수진', 40, 14, 940]\n",
        "]\n",
        "class Passenger: #클래스는 맨 앞글자 대문자로 적어주는게 약속!\n",
        "    def __init__(self, 항공사, 편명, 좌석번호, 이름, 나이, 짐무게, 마일리지):\n",
        "        self.항공사 = 항공사\n",
        "        self.편명 = 편명\n",
        "        self.좌석번호 = 좌석번호\n",
        "        self.이름 = 이름\n",
        "        self.나이 = 나이\n",
        "        self.짐무게 = 짐무게\n",
        "        self.마일리지 = 마일리지\n",
        "\n",
        "p1 = Passenger('대한항공', 'KE607', '12A', '김민준', 42, 23, 5280)\n",
        "p2 = Passenger('아시아나', 'OZ721', '8C', '이', 29, 18, 3450)\n",
        "p3 = Passenger('제주항공', '7C101', '15F', '박지민', 35, 15, 720)\n",
        "\n",
        "p1.이름"
      ],
      "metadata": {
        "colab": {
          "base_uri": "https://localhost:8080/",
          "height": 35
        },
        "id": "EXLmzj5ikj0V",
        "outputId": "504f4e12-aec6-4057-9dbd-2826bb5afb9b"
      },
      "execution_count": null,
      "outputs": [
        {
          "output_type": "execute_result",
          "data": {
            "text/plain": [
              "'김민준'"
            ],
            "application/vnd.google.colaboratory.intrinsic+json": {
              "type": "string"
            }
          },
          "metadata": {},
          "execution_count": 24
        }
      ]
    },
    {
      "cell_type": "code",
      "source": [
        "# 중급자의 마음: 예를 들어서 print로 출력을 했을 때 출력되는 길이가 너무 긴 경우가 있을 수 있어요\n",
        "# 1. 예를 들어 데이터 안에 뭐가 많다면 수천자 프린트 될 수도 있다!\n",
        "# 2. 예를 들어 data끼리 더해야 될 때가 있어요\n",
        "\n",
        "# 항공사, 편명, 좌석번호, 이름, 나이, 짐무게(kg), 마일리지\n",
        "data = [\n",
        "    ['대한항공', 'KE607', '12A', '김민준', 42, 23, 5280],\n",
        "    ['아시아나', 'OZ721', '8C', '이', 29, 18, 3450],\n",
        "    ['제주항공', '7C101', '15F', '박지민', 35, 15, 720],\n",
        "    ['진에어', 'LJ211', '4D', '최서우미래한별', 51, 27, 8900],\n",
        "    ['에어부산', 'BX213', '21B', '정', 24, 12, 1250],\n",
        "    ['티웨이', 'TW305', '19E', '강민석', 38, 20, 2760],\n",
        "    ['에어서울', 'RS808', '3C', '윤지현', 47, 16, 4320],\n",
        "    ['대한항공', 'KE123', '7F', '송', 33, 21, 6780],\n",
        "    ['아시아나', 'OZ562', '11D', '장하은별님달빛', 26, 19, 1890],\n",
        "    ['제주항공', '7C505', '17B', '황수진', 40, 14, 940]\n",
        "]\n",
        "class Passenger: #클래스는 맨 앞글자 대문자로 적어주는게 약속!\n",
        "    def __init__(self, 항공사, 편명, 좌석번호, 이름, 나이, 짐무게, 마일리지):\n",
        "        self.항공사 = 항공사\n",
        "        self.편명 = 편명\n",
        "        self.좌석번호 = 좌석번호\n",
        "        self.이름 = 이름\n",
        "        self.나이 = 나이\n",
        "        self.짐무게 = 짐무게\n",
        "        self.마일리지 = 마일리지\n",
        "\n",
        "p1 = Passenger('대한항공', 'KE607', '12A', '김민준', 42, 23, 5280)\n",
        "p2 = Passenger('아시아나', 'OZ721', '8C', '이', 29, 18, 3450)\n",
        "p3 = Passenger('제주항공', '7C101', '15F', '박지민', 35, 15, 720)\n",
        "\n",
        "p1.이름\n"
      ],
      "metadata": {
        "colab": {
          "base_uri": "https://localhost:8080/",
          "height": 35
        },
        "id": "V6AxQZiBnFOp",
        "outputId": "d85ace35-4638-4410-c4d4-26fda3802389"
      },
      "execution_count": null,
      "outputs": [
        {
          "output_type": "execute_result",
          "data": {
            "text/plain": [
              "'김민준'"
            ],
            "application/vnd.google.colaboratory.intrinsic+json": {
              "type": "string"
            }
          },
          "metadata": {},
          "execution_count": 25
        }
      ]
    },
    {
      "cell_type": "code",
      "source": [
        "# 중급자는 다음과 같이 해결해요\n",
        "\n",
        "# 항공사, 편명, 좌석번호, 이름, 나이, 짐무게(kg), 마일리지\n",
        "data = [\n",
        "    ['대한항공', 'KE607', '12A', '김민준', 42, 23, 5280],\n",
        "    ['아시아나', 'OZ721', '8C', '이', 29, 18, 3450],\n",
        "    ['제주항공', '7C101', '15F', '박지민', 35, 15, 720],\n",
        "    ['진에어', 'LJ211', '4D', '최서우미래한별', 51, 27, 8900],\n",
        "    ['에어부산', 'BX213', '21B', '정', 24, 12, 1250],\n",
        "    ['티웨이', 'TW305', '19E', '강민석', 38, 20, 2760],\n",
        "    ['에어서울', 'RS808', '3C', '윤지현', 47, 16, 4320],\n",
        "    ['대한항공', 'KE123', '7F', '송', 33, 21, 6780],\n",
        "    ['아시아나', 'OZ562', '11D', '장하은별님달빛', 26, 19, 1890],\n",
        "    ['제주항공', '7C505', '17B', '황수진', 40, 14, 940]\n",
        "]\n",
        "class Passenger: #클래스는 맨 앞글자 대문자로 적어주는게 약속!\n",
        "    def __init__(self, 항공사, 편명, 좌석번호, 이름, 나이, 짐무게, 마일리지):\n",
        "        self.항공사 = 항공사\n",
        "        self.편명 = 편명\n",
        "        self.좌석번호 = 좌석번호\n",
        "        self.이름 = 이름\n",
        "        self.나이 = 나이\n",
        "        self.짐무게 = 짐무게\n",
        "        self.마일리지 = 마일리지\n",
        "\n",
        "    def __str__(self):\n",
        "        return f'{self.이름}, {self.나이}'\n",
        "\n",
        "    def __add__(self, next):\n",
        "        return self.마일리지 + next.마일리지\n",
        "\n",
        "p1 = Passenger('대한항공', 'KE607', '12A', '김민준', 42, 23, 5280)\n",
        "p2 = Passenger('아시아나', 'OZ721', '8C', '이', 29, 18, 3450)\n",
        "p3 = Passenger('제주항공', '7C101', '15F', '박지민', 35, 15, 720)\n",
        "\n",
        "print(p1)\n",
        "p1+p2"
      ],
      "metadata": {
        "colab": {
          "base_uri": "https://localhost:8080/"
        },
        "id": "_W0BAcs6ngxa",
        "outputId": "21e7c360-aec1-4041-eb18-cc1c6a357242"
      },
      "execution_count": null,
      "outputs": [
        {
          "output_type": "stream",
          "name": "stdout",
          "text": [
            "김민준, 42\n"
          ]
        },
        {
          "output_type": "execute_result",
          "data": {
            "text/plain": [
              "8730"
            ]
          },
          "metadata": {},
          "execution_count": 29
        }
      ]
    },
    {
      "cell_type": "code",
      "source": [
        "class Car:\n",
        "    max_speed = 300\n",
        "    max_people = 5\n",
        "\n",
        "    def __init__(self,구매자): # 클래스가 인스턴스를 찍어낼 때 자동으로 실행\n",
        "        self.차구매자 = 구매자\n",
        "\n",
        "modela = Car(\"구매자1\") # Car.__init__(modela, '구매자1')\n",
        "modelb = Car(\"구매자2\")\n",
        "\n",
        "modela.차구매자"
      ],
      "metadata": {
        "colab": {
          "base_uri": "https://localhost:8080/",
          "height": 35
        },
        "id": "Nwxv_n70o0YP",
        "outputId": "55e025f1-c69a-4da4-b336-e970c009a643"
      },
      "execution_count": null,
      "outputs": [
        {
          "output_type": "execute_result",
          "data": {
            "text/plain": [
              "'구매자1'"
            ],
            "application/vnd.google.colaboratory.intrinsic+json": {
              "type": "string"
            }
          },
          "metadata": {},
          "execution_count": 131
        }
      ]
    },
    {
      "cell_type": "code",
      "source": [
        "\n",
        "# 클래스 변수\n",
        "# - 설계 도면에 포함되어야 하는 것,\n",
        "# - 클래스 바로 아래 선언합니다.\n",
        "# - 모든 인스턴스가 이 변수를 공유합니다.\n",
        "\n",
        "# 인스턴스 변수\n",
        "# - 생산품에 포함되어야 하는 것\n",
        "# - 보통 __init__ 아래 선언합니다.\n",
        "# - 인스턴스 고유의 영역입니다.\n",
        "\n",
        "class Car:\n",
        "    # 클래스 변수 위치\n",
        "    max_speed = 300\n",
        "    max_people = 5\n",
        "\n",
        "modelx = Car()\n"
      ],
      "metadata": {
        "id": "dlxkKyAov9qc"
      },
      "execution_count": null,
      "outputs": []
    },
    {
      "cell_type": "code",
      "source": [
        "class Dot:\n",
        "\n",
        "    def __init__(self, x, y):\n",
        "        self.x = x\n",
        "        self.y = y\n",
        "\n",
        "a = Dot(1, 1)\n",
        "b = Dot(2, 2)\n",
        "\n",
        "a + b # '+'기호는 Dot에 __add__를 실행합니다!"
      ],
      "metadata": {
        "colab": {
          "base_uri": "https://localhost:8080/",
          "height": 176
        },
        "id": "amukSmJ_vVui",
        "outputId": "d27d7b7a-e6b5-45ea-d798-1eb128b2d90a"
      },
      "execution_count": null,
      "outputs": [
        {
          "output_type": "error",
          "ename": "TypeError",
          "evalue": "unsupported operand type(s) for +: 'Dot' and 'Dot'",
          "traceback": [
            "\u001b[0;31m---------------------------------------------------------------------------\u001b[0m",
            "\u001b[0;31mTypeError\u001b[0m                                 Traceback (most recent call last)",
            "\u001b[0;32m<ipython-input-32-17ea18daeccd>\u001b[0m in \u001b[0;36m<cell line: 0>\u001b[0;34m()\u001b[0m\n\u001b[1;32m      8\u001b[0m \u001b[0mb\u001b[0m \u001b[0;34m=\u001b[0m \u001b[0mDot\u001b[0m\u001b[0;34m(\u001b[0m\u001b[0;36m2\u001b[0m\u001b[0;34m,\u001b[0m \u001b[0;36m2\u001b[0m\u001b[0;34m)\u001b[0m\u001b[0;34m\u001b[0m\u001b[0;34m\u001b[0m\u001b[0m\n\u001b[1;32m      9\u001b[0m \u001b[0;34m\u001b[0m\u001b[0m\n\u001b[0;32m---> 10\u001b[0;31m \u001b[0ma\u001b[0m \u001b[0;34m+\u001b[0m \u001b[0mb\u001b[0m \u001b[0;31m# '+'기호는 Dot에 __add__를 실행합니다!\u001b[0m\u001b[0;34m\u001b[0m\u001b[0;34m\u001b[0m\u001b[0m\n\u001b[0m",
            "\u001b[0;31mTypeError\u001b[0m: unsupported operand type(s) for +: 'Dot' and 'Dot'"
          ]
        }
      ]
    },
    {
      "cell_type": "code",
      "source": [
        "class Dot:\n",
        "\n",
        "    def __init__(self, x, y):\n",
        "        self.x = x\n",
        "        self.y = y\n",
        "\n",
        "    def __add__(self, next):\n",
        "        return [self.x + next.x, self.y + next.y]\n",
        "\n",
        "a = Dot(1, 1)\n",
        "b = Dot(2, 2)\n",
        "\n",
        "a + b # '+'기호는 a에 __add__를 실행합니다!"
      ],
      "metadata": {
        "colab": {
          "base_uri": "https://localhost:8080/"
        },
        "id": "Fg_4DrIJvrxO",
        "outputId": "1dc4228e-d839-443b-f16d-d89311af8582"
      },
      "execution_count": null,
      "outputs": [
        {
          "output_type": "execute_result",
          "data": {
            "text/plain": [
              "[3, 3]"
            ]
          },
          "metadata": {},
          "execution_count": 132
        }
      ]
    },
    {
      "cell_type": "code",
      "source": [
        "\n",
        "class Dot:\n",
        "\n",
        "    def __init__(self, x, y):\n",
        "        self.x = x\n",
        "        self.y = y\n",
        "\n",
        "    def __add__(self, next):\n",
        "        return [self.x + next.x, self.y + next.y]\n",
        "\n",
        "    def __mul__(self, next):\n",
        "        return [self.x * next.x , self.y * next.y]\n",
        "\n",
        "a = Dot(1, 1)\n",
        "b = Dot(2, 2)\n",
        "\n",
        "a + b # '+'기호는 a에 __add__를 실행합니다!\n",
        "a * b # '*'기호는 a에 __mul__를 실행합니다!\n"
      ],
      "metadata": {
        "id": "Sbi2mMOFw5OE"
      },
      "execution_count": null,
      "outputs": []
    },
    {
      "cell_type": "code",
      "source": [
        "a = 10 # a는 int라는 클래스의 인스턴스 입니다\n",
        "b = 10 # b는 int라는 클래스의 인스턴스 입니다\n",
        "\n",
        "a + b # a인스턴스의 __add__를 실행시킨 결과를 보여주세요!\n",
        "a * b # a인스턴스의 __mul__를 실행시킨 결과를 보여주세요!"
      ],
      "metadata": {
        "colab": {
          "base_uri": "https://localhost:8080/"
        },
        "id": "_ez-AUUJo0aa",
        "outputId": "72148ccc-ae17-4a18-994e-9ca0b34e0093"
      },
      "execution_count": null,
      "outputs": [
        {
          "output_type": "execute_result",
          "data": {
            "text/plain": [
              "100"
            ]
          },
          "metadata": {},
          "execution_count": 39
        }
      ]
    },
    {
      "cell_type": "code",
      "source": [
        "l ="
      ],
      "metadata": {
        "id": "0DBAz1u4x_sP"
      },
      "execution_count": null,
      "outputs": []
    },
    {
      "cell_type": "code",
      "source": [
        "\n",
        "class Dot:\n",
        "\n",
        "    def __init__(self, x, y):\n",
        "        self.x = x\n",
        "        self.y = y\n",
        "\n",
        "    def __eq__(self, next):\n",
        "        # return False\n",
        "        return self.x == next.x and self.y == next.y\n",
        "\n",
        "a = Dot(1, 1)\n",
        "b = Dot(1, 2)\n",
        "\n",
        "a == b # '=='기호는 a에 __eq__를 실행합니다!"
      ],
      "metadata": {
        "colab": {
          "base_uri": "https://localhost:8080/"
        },
        "id": "CmvpGdItxO_U",
        "outputId": "dbe85c0f-939f-462e-e07a-2ce59adefa65"
      },
      "execution_count": null,
      "outputs": [
        {
          "output_type": "execute_result",
          "data": {
            "text/plain": [
              "False"
            ]
          },
          "metadata": {},
          "execution_count": 40
        }
      ]
    },
    {
      "cell_type": "code",
      "source": [
        "# dir(l) # __add__가 있기 때문에 +가 되는 자료형이라는 것을 알 수 있습니다.\n"
      ],
      "metadata": {
        "id": "5nABgPDVzWAp"
      },
      "execution_count": null,
      "outputs": []
    },
    {
      "cell_type": "code",
      "source": [
        "def hello():\n",
        "    pass\n",
        "\n",
        "print(type(hello))"
      ],
      "metadata": {
        "colab": {
          "base_uri": "https://localhost:8080/"
        },
        "id": "xm0z1VrVz3ki",
        "outputId": "372b261b-351e-43f2-a5f7-9c0697bf8a66"
      },
      "execution_count": null,
      "outputs": [
        {
          "output_type": "stream",
          "name": "stdout",
          "text": [
            "<class 'function'>\n"
          ]
        }
      ]
    },
    {
      "cell_type": "code",
      "source": [
        "class Dot:\n",
        "\n",
        "    def __init__(self, x, y):\n",
        "        self.x = x\n",
        "        self.y = y\n",
        "\n",
        "    def __str__(self):\n",
        "        # return f'<{self.x}, {self.y}>'\n",
        "        return 'hello world'\n",
        "\n",
        "a = Dot(1, 1)\n",
        "b = Dot(2, 2)\n",
        "\n",
        "print(a) # print는 a의 __str__을 실행합니다.\n",
        "print(b) # print는 a의 __str__을 실행합니다."
      ],
      "metadata": {
        "colab": {
          "base_uri": "https://localhost:8080/"
        },
        "id": "TPM4lBIS1N-U",
        "outputId": "771eb983-08a0-4a01-f6c5-94c47a8fb1b7"
      },
      "execution_count": null,
      "outputs": [
        {
          "output_type": "stream",
          "name": "stdout",
          "text": [
            "hello world\n",
            "hello world\n"
          ]
        }
      ]
    },
    {
      "cell_type": "code",
      "source": [
        "\n",
        "a = 10\n",
        "# a는 무엇이죠?\n",
        "# a는 int 클래스의 인스턴스 입니다.\n",
        "\n",
        "print(a)\n",
        "# 출력되는 결과는 무엇이죠?\n",
        "# a 인스턴스의 __str__를 실행시킨 결과(__str__ 메서드의 return)입니다.\n",
        "# 그 return 값은 10입니다."
      ],
      "metadata": {
        "id": "uoZCYcB53YJT"
      },
      "execution_count": null,
      "outputs": []
    },
    {
      "cell_type": "code",
      "source": [
        "## 문제 1: 간단한 Book 클래스 만들기\n",
        "# 책을 표현하는 Book 클래스를 만들어보세요. 책은 제목, 저자, 페이지 수를 가지며, 책 정보를 출력하는 기능이 있어야 합니다.\n",
        "\n",
        "\n",
        "# Book 클래스를 구현하세요\n",
        "# 요구사항:\n",
        "# 1. 제목(title), 저자(author), 페이지 수(pages)를 속성으로 가짐\n",
        "# 2. __str__ 메서드를 구현하여 책 정보를 \"제목 (저자, 페이지수 쪽)\" 형식으로 출력\n",
        "# 3. book1과 book2를 비교했을 때 페이지 수가 많은 책이 \"더 큰\" 책이 되도록 __gt__ 메서드 구현\n",
        "\n",
        "# 예시 실행 코드\n",
        "\n",
        "class Book:\n",
        "\n",
        "    def __init__(self, x, y, c):\n",
        "        self.x = x\n",
        "        self.y = y\n",
        "        self.c = c\n",
        "\n",
        "    def __str__(self):\n",
        "        return f\"{self.x} ({self.y}, {self.c})\"\n",
        "\n",
        "    def __gt__(self):\n",
        "\n",
        "\n",
        "\n",
        "\n",
        "book1 = Book(\"파이썬 기초\", \"김코딩\", 200)\n",
        "book2 = Book(\"자바 기초\", \"이자바\", 300)\n",
        "\n",
        "print(book1)  # 출력 예상: 파이썬 기초 (김코딩, 200 쪽)"
      ],
      "metadata": {
        "colab": {
          "base_uri": "https://localhost:8080/"
        },
        "id": "AINs4rQw3YLY",
        "outputId": "96a40db3-b794-4217-cf34-edcfe21fc1d3"
      },
      "execution_count": null,
      "outputs": [
        {
          "output_type": "stream",
          "name": "stdout",
          "text": [
            "파이썬 기초 (김코딩, 200)\n"
          ]
        }
      ]
    },
    {
      "cell_type": "code",
      "source": [
        "# ---------------------------------------------\n",
        "## 문제 2: 계산기 클래스 만들기\n",
        "# 사칙연산을 수행할 수 있는 Calculator 클래스를 만들어보세요.\n",
        "\n",
        "# Calculator 클래스를 구현하세요\n",
        "# 요구사항:\n",
        "# 1. 덧셈, 뺄셈, 곱셈, 나눗셈 기능 구현\n",
        "# 2. 계산 기록을 저장하는 기능 추가\n",
        "# 3. 마지막 계산 결과를 기억하고 있어야 함\n",
        "\n",
        "\n",
        "class Calculator:\n",
        "\n",
        "    def __init__(self, x, y):\n",
        "        self.x = x\n",
        "        self.y = y\n",
        "\n",
        "    def __int__(self):\n",
        "        return self.x + self.y\n",
        "\n",
        "\n",
        "calc = Calculator(1 ,2)\n",
        "\n",
        "print(calc)\n",
        "\n",
        "\n",
        "# 예시 실행 코드\n",
        "\n",
        "print(calc.add(5, 3))  # 출력 예상: 8\n",
        "print(calc.subtract(10, 7))  # 출력 예상: 3\n",
        "print(calc.multiply(4, 2))  # 출력 예상: 8\n",
        "print(calc.divide(9, 3))  # 출력 예상: 3.0\n",
        "print(calc.get_history())  # 출력 예상: ['5 + 3 = 8', '10 - 7 = 3', '4 * 2 = 8', '9 / 3 = 3.0']\n",
        "print(calc.get_last_result())  # 출력 예상: 3.0\n"
      ],
      "metadata": {
        "colab": {
          "base_uri": "https://localhost:8080/",
          "height": 106
        },
        "id": "_lu8Pd583YNI",
        "outputId": "ea8ca606-41ca-473b-89ea-64b52d0f3d36"
      },
      "execution_count": null,
      "outputs": [
        {
          "output_type": "error",
          "ename": "SyntaxError",
          "evalue": "cannot assign to function call here. Maybe you meant '==' instead of '='? (<ipython-input-95-8f356e9ae109>, line 15)",
          "traceback": [
            "\u001b[0;36m  File \u001b[0;32m\"<ipython-input-95-8f356e9ae109>\"\u001b[0;36m, line \u001b[0;32m15\u001b[0m\n\u001b[0;31m    self.add(x) = x\u001b[0m\n\u001b[0m    ^\u001b[0m\n\u001b[0;31mSyntaxError\u001b[0m\u001b[0;31m:\u001b[0m cannot assign to function call here. Maybe you meant '==' instead of '='?\n"
          ]
        }
      ]
    },
    {
      "cell_type": "code",
      "source": [
        "# ---------------------------------------------\n",
        "## 문제 3: 간단한 학생 성적 관리 클래스 만들기\n",
        "# 학생들의 성적을 관리하는 GradeBook 클래스를 만들어보세요.\n",
        "\n",
        "# GradeBook 클래스를 구현하세요\n",
        "# 요구사항:\n",
        "# 1. 학생 이름과 점수를 추가하는 기능\n",
        "# 2. 전체 학생 목록과 점수를 출력하는 기능\n",
        "# 3. 최고 점수와 해당 학생 이름을 반환하는 기능\n",
        "# 4. 평균 점수를 계산하는 기능\n",
        "\n",
        "# 예시 실행 코드\n",
        "gradebook = GradeBook()\n",
        "gradebook.add_student(\"김철수\", 85)\n",
        "gradebook.add_student(\"이영희\", 92)\n",
        "gradebook.add_student(\"박민수\", 78)\n",
        "gradebook.add_student(\"정지원\", 95)\n",
        "\n",
        "gradebook.print_grades()  # 모든 학생의 이름과 점수 출력\n",
        "print(f\"최고 점수: {gradebook.get_highest_grade()}\")  # 출력 예상: 최고 점수: ('정지원', 95)\n",
        "print(f\"평균 점수: {gradebook.get_average()}\")  # 출력 예상: 평균 점수: 87.5"
      ],
      "metadata": {
        "colab": {
          "base_uri": "https://localhost:8080/",
          "height": 211
        },
        "id": "0_Q2Ol4x3YPP",
        "outputId": "92c8f77d-3c1b-4c70-ff7d-9e9ddb216639"
      },
      "execution_count": null,
      "outputs": [
        {
          "output_type": "error",
          "ename": "NameError",
          "evalue": "name 'GradeBook' is not defined",
          "traceback": [
            "\u001b[0;31m---------------------------------------------------------------------------\u001b[0m",
            "\u001b[0;31mNameError\u001b[0m                                 Traceback (most recent call last)",
            "\u001b[0;32m<ipython-input-96-2c6041b6dbf8>\u001b[0m in \u001b[0;36m<cell line: 0>\u001b[0;34m()\u001b[0m\n\u001b[1;32m     11\u001b[0m \u001b[0;34m\u001b[0m\u001b[0m\n\u001b[1;32m     12\u001b[0m \u001b[0;31m# 예시 실행 코드\u001b[0m\u001b[0;34m\u001b[0m\u001b[0;34m\u001b[0m\u001b[0m\n\u001b[0;32m---> 13\u001b[0;31m \u001b[0mgradebook\u001b[0m \u001b[0;34m=\u001b[0m \u001b[0mGradeBook\u001b[0m\u001b[0;34m(\u001b[0m\u001b[0;34m)\u001b[0m\u001b[0;34m\u001b[0m\u001b[0;34m\u001b[0m\u001b[0m\n\u001b[0m\u001b[1;32m     14\u001b[0m \u001b[0mgradebook\u001b[0m\u001b[0;34m.\u001b[0m\u001b[0madd_student\u001b[0m\u001b[0;34m(\u001b[0m\u001b[0;34m\"김철수\"\u001b[0m\u001b[0;34m,\u001b[0m \u001b[0;36m85\u001b[0m\u001b[0;34m)\u001b[0m\u001b[0;34m\u001b[0m\u001b[0;34m\u001b[0m\u001b[0m\n\u001b[1;32m     15\u001b[0m \u001b[0mgradebook\u001b[0m\u001b[0;34m.\u001b[0m\u001b[0madd_student\u001b[0m\u001b[0;34m(\u001b[0m\u001b[0;34m\"이영희\"\u001b[0m\u001b[0;34m,\u001b[0m \u001b[0;36m92\u001b[0m\u001b[0;34m)\u001b[0m\u001b[0;34m\u001b[0m\u001b[0;34m\u001b[0m\u001b[0m\n",
            "\u001b[0;31mNameError\u001b[0m: name 'GradeBook' is not defined"
          ]
        }
      ]
    },
    {
      "cell_type": "code",
      "source": [
        "\n",
        "## 문제 1: 간단한 Book 클래스 만들기\n",
        "# 책을 표현하는 Book 클래스를 만들어보세요. 책은 제목, 저자, 페이지 수를 가지며, 책 정보를 출력하는 기능이 있어야 합니다.\n",
        "\n",
        "\n",
        "# Book 클래스를 구현하세요\n",
        "# 요구사항:\n",
        "# 1. 제목(title), 저자(author), 페이지 수(pages)를 속성으로 가짐\n",
        "# 2. __str__ 메서드를 구현하여 책 정보를 \"제목 (저자, 페이지수 쪽)\" 형식으로 출력\n",
        "# 3. book1과 book2를 비교했을 때 페이지 수가 많은 책이 \"더 큰\" 책이 되도록 __gt__ 메서드 구현\n",
        "\n",
        "#\n",
        "class Book:\n",
        "    def __init__(self, title, author, pages):\n",
        "        # 아래와 같은 코드를 보일러플레이트 코드라고 합니다. 매번 반복적으로 써야 하는 코드이죠.\n",
        "        self.title = title\n",
        "        self.author = author\n",
        "        self.pages = pages\n",
        "\n",
        "    def __str__(self):\n",
        "        return f'{self.title} ({self.author}, {self.pages} 쪽)'\n",
        "\n",
        "    def __gt__(self, next):\n",
        "        return self.pages > next.pages\n",
        "\n",
        "# 예시 실행 코드\n",
        "book1 = Book(\"파이썬 기초\", \"김코딩\", 200)\n",
        "book2 = Book(\"자바 기초\", \"이자바\", 300)\n",
        "\n",
        "print(book1)  # 출력 예상: 파이썬 기초 (김코딩, 200 쪽)\n",
        "print(book2 > book1)  # 출력 예상: True (300 > 200)\n"
      ],
      "metadata": {
        "colab": {
          "base_uri": "https://localhost:8080/"
        },
        "id": "s3id1fhoPGWU",
        "outputId": "b598d832-fc7b-4b78-e4f2-1d86029fb5a5"
      },
      "execution_count": null,
      "outputs": [
        {
          "output_type": "stream",
          "name": "stdout",
          "text": [
            "파이썬 기초 (김코딩, 200 쪽)\n",
            "True\n"
          ]
        }
      ]
    },
    {
      "cell_type": "code",
      "source": [
        "\n",
        "# ---------------------------------------------\n",
        "## 문제 2: 계산기 클래스 만들기\n",
        "# 사칙연산을 수행할 수 있는 Calculator 클래스를 만들어보세요.\n",
        "\n",
        "# Calculator 클래스를 구현하세요\n",
        "# 요구사항:\n",
        "# 1. 덧셈, 뺄셈, 곱셈, 나눗셈 기능 구현\n",
        "# 2. 계산 기록을 저장하는 기능 추가\n",
        "# 3. 마지막 계산 결과를 기억하고 있어야 함\n",
        "\n",
        "# 문제가 있는 문제입니다.\n",
        "# 앞에서 book은 확실히 데이터가 찍어낼 필요가 있는 데이터\n",
        "# 이러한 계산기는 그냥 함수로 구현하시면 됩니다.\n",
        "# 굳이 class로 '찍어낼 필요'가 있진 않아요.\n",
        "\n",
        "class Calculator:\n",
        "    def __init__(self):\n",
        "        self.history = []\n",
        "\n",
        "    def add(self, a, b):\n",
        "        self.history.append(f'{a} + {b} = {a + b}')\n",
        "        return a + b\n",
        "\n",
        "    def subtract(self, a, b):\n",
        "        self.history.append(f'{a} - {b} = {a - b}')\n",
        "        return a - b\n",
        "\n",
        "    def multiply(self, a, b):\n",
        "        self.history.append(f'{a} * {b} = {a * b}')\n",
        "        return a * b\n",
        "\n",
        "    def divide(self, a, b):\n",
        "        self.history.append(f'{a} / {b} = {a / b}')\n",
        "        return a / b\n",
        "\n",
        "    def get_history(self):\n",
        "        return self.history\n",
        "\n",
        "    def get_last_result(self):\n",
        "        return self.history[-1]\n",
        "\n",
        "# 예시 실행 코드\n",
        "calc = Calculator()\n",
        "print(calc.add(5, 3))  # 출력 예상: 8\n",
        "print(calc.subtract(10, 7))  # 출력 예상: 3\n",
        "print(calc.multiply(4, 2))  # 출력 예상: 8\n",
        "print(calc.divide(9, 3))  # 출력 예상: 3.0\n",
        "print(calc.get_history())  # 출력 예상: ['5 + 3 = 8', '10 - 7 = 3', '4 * 2 = 8', '9 / 3 = 3.0']\n",
        "print(calc.get_last_result())  # 출력 예상: 3.0\n"
      ],
      "metadata": {
        "colab": {
          "base_uri": "https://localhost:8080/"
        },
        "id": "S7ZOn1dPPGZL",
        "outputId": "7f6fa56d-1caf-4d44-ccfd-abae48dd497d"
      },
      "execution_count": null,
      "outputs": [
        {
          "output_type": "stream",
          "name": "stdout",
          "text": [
            "8\n",
            "3\n",
            "8\n",
            "3.0\n",
            "['5 + 3 = 8', '10 - 7 = 3', '4 * 2 = 8', '9 / 3 = 3.0']\n",
            "9 / 3 = 3.0\n"
          ]
        }
      ]
    },
    {
      "cell_type": "code",
      "source": [
        "\n",
        "# ---------------------------------------------\n",
        "## 문제 3: 간단한 학생 성적 관리 클래스 만들기\n",
        "# 학생들의 성적을 관리하는 GradeBook 클래스를 만들어보세요.\n",
        "\n",
        "# GradeBook 클래스를 구현하세요\n",
        "# 요구사항:\n",
        "# 1. 학생 이름과 점수를 추가하는 기능\n",
        "# 2. 전체 학생 목록과 점수를 출력하는 기능\n",
        "# 3. 최고 점수와 해당 학생 이름을 반환하는 기능\n",
        "# 4. 평균 점수를 계산하는 기능\n",
        "\n",
        "class GradeBook:\n",
        "    def __init__(self):\n",
        "        self.students = []\n",
        "\n",
        "    def add_student(self, name, score):\n",
        "        self.students.append((name, score))\n",
        "\n",
        "    def print_grades(self):\n",
        "        return self.students\n",
        "\n",
        "    def get_highest_grade(self):\n",
        "        def f(x):\n",
        "            return x[1]\n",
        "        return sorted(self.students, key=f, reverse=True)[0]\n",
        "\n",
        "    def get_average(self):\n",
        "        def f(x):\n",
        "            return x[1]\n",
        "        return sum(map(f, self.students)) / len(self.students)\n",
        "\n",
        "# 예시 실행 코드\n",
        "gradebook = GradeBook()\n",
        "gradebook.add_student(\"김철수\", 85)\n",
        "gradebook.add_student(\"이영희\", 92)\n",
        "gradebook.add_student(\"박민수\", 78)\n",
        "gradebook.add_student(\"정지원\", 95)\n",
        "\n",
        "gradebook.print_grades()  # 모든 학생의 이름과 점수 출력\n",
        "print(f\"최고 점수: {gradebook.get_highest_grade()}\")  # 출력 예상: 최고 점수: ('정지원', 95)\n",
        "print(f\"평균 점수: {gradebook.get_average()}\")  # 출력 예상: 평균 점수: 87.5\n"
      ],
      "metadata": {
        "colab": {
          "base_uri": "https://localhost:8080/"
        },
        "id": "iUxnkAMaU-fO",
        "outputId": "4e0e24bf-a769-4cd2-f060-1c98c33fb071"
      },
      "execution_count": null,
      "outputs": [
        {
          "output_type": "stream",
          "name": "stdout",
          "text": [
            "최고 점수: ('정지원', 95)\n",
            "평균 점수: 87.5\n"
          ]
        }
      ]
    },
    {
      "cell_type": "code",
      "source": [
        "\n",
        "# ---------------------------------------------\n",
        "## 나아가기\n",
        "## 실무라면 어떻게 하는 것이 좋았을까요?\n",
        "#  >> class로 변환할 수 있는 것은 모두 클래스로 변경!\n",
        "\n",
        "class Student:\n",
        "    def __init__(self, name, score, phone='000-0000-0000', email=''):\n",
        "        self.name = name\n",
        "        self.score = score\n",
        "        self.phone = phone\n",
        "        self.email = email\n",
        "\n",
        "    def __str__(self): # print를 하면 출력해주는 문자열\n",
        "        return f'{self.name}'\n",
        "\n",
        "    def __repr__(self): # 이 객체를 대표하는 문자열, print를 안하고 출력하면 이 문자열을 출력합니다.\n",
        "        return f'{self.name}'\n",
        "\n",
        "class GradeBook:\n",
        "    def __init__(self):\n",
        "        self.students = []\n",
        "\n",
        "    def add_student(self, name, score):\n",
        "        self.students.append(Student(name, score))\n",
        "\n",
        "    def print_grades(self):\n",
        "        return self.students\n",
        "\n",
        "# 예시 실행 코드\n",
        "gradebook = GradeBook()\n",
        "gradebook.add_student(\"김철수\", 85)\n",
        "gradebook.add_student(\"이영희\", 92)\n",
        "gradebook.add_student(\"박민수\", 78)\n",
        "gradebook.add_student(\"정지원\", 95)\n",
        "\n",
        "gradebook.print_grades()\n",
        "\n",
        "data = gradebook.print_grades()\n",
        "data[0].score\n"
      ],
      "metadata": {
        "id": "Lgekc_Slaw_o"
      },
      "execution_count": null,
      "outputs": []
    },
    {
      "cell_type": "code",
      "source": [
        "\n",
        "# ---------------------------------------------\n",
        "## 나아가기\n",
        "## 실무라면 어떻게 하는 것이 좋았을까요?\n",
        "# => class로 변환할 수 있는 것은 모두 클래스로 변경했을 것입니다.\n",
        "\n",
        "class Student:\n",
        "    def __init__(self, name, score, phone, email):\n",
        "        self.name = name\n",
        "        self.score = score\n",
        "        self.phone = phone\n",
        "        self.email = email\n",
        "\n",
        "    def __str__(self): # print를 하면 출력해주는 문자열\n",
        "        return f'{self.name}'\n",
        "\n",
        "    def __repr__(self): # 이 객체를 대표하는 문자열, print를 안하고 출력하면 이 문자열을 출력합니다.\n",
        "        return f'{self.name}'\n",
        "\n",
        "class GradeBook:\n",
        "    def __init__(self):\n",
        "        self.students = []\n",
        "\n",
        "    def add_student(self, name, score, phone='000-0000-0000', email=''):\n",
        "        self.students.append(Student(name, score, phone, email))\n",
        "\n",
        "    def print_grades(self):\n",
        "        return self.students\n",
        "\n",
        "# 예시 실행 코드\n",
        "gradebook = GradeBook()\n",
        "gradebook.add_student(\"김철수\", 85, '010-5044-2903')\n",
        "gradebook.add_student(\"이영희\", 92)\n",
        "gradebook.add_student(\"박민수\", 78)\n",
        "gradebook.add_student(\"정지원\", 95)\n",
        "\n",
        "gradebook.print_grades()\n",
        "\n",
        "data = gradebook.print_grades()\n",
        "data[0].score\n",
        "data[0].phone\n"
      ],
      "metadata": {
        "colab": {
          "base_uri": "https://localhost:8080/",
          "height": 35
        },
        "id": "Xgdef4lYPGbq",
        "outputId": "d3c1e2c3-7b4e-4d73-8b93-3e642406b222"
      },
      "execution_count": null,
      "outputs": [
        {
          "output_type": "execute_result",
          "data": {
            "text/plain": [
              "'010-5044-2903'"
            ],
            "application/vnd.google.colaboratory.intrinsic+json": {
              "type": "string"
            }
          },
          "metadata": {},
          "execution_count": 104
        }
      ]
    },
    {
      "cell_type": "code",
      "source": [
        "#lambda\n",
        "# > 이름이 없는 함수\n",
        "# 함수는 재사용하려고 사용\n",
        "# 이름이 없는 함수인 lambda는 재사용이 목적이 아니라 함수 기능 자체에 목적"
      ],
      "metadata": {
        "id": "DWERdeCEbX3q"
      },
      "execution_count": null,
      "outputs": []
    },
    {
      "cell_type": "code",
      "source": [
        "# lamda가 자주 사용되는 곳은 어딘가요?\n",
        "\n",
        "# map\n",
        "# filter\n",
        "# sorted\n",
        "#여기에 많이 사용된다\n",
        "\n",
        "# 다만, 고급 프로그래머는 시도 때도 없이 lambda를 씁니다\n",
        "# 그리고, 한줄로만 코딩을 하려는 사람이 있다 > 권하지 않는다\n",
        "# 가독성은 중요하다! 근데 lambda를 너무 겹쳐서 쓰면 가독성이 떨어진다."
      ],
      "metadata": {
        "colab": {
          "base_uri": "https://localhost:8080/"
        },
        "id": "QJvyw4u1bbbj",
        "outputId": "81831fbc-c1cb-4cc3-9bd5-e7718f922cd9"
      },
      "execution_count": null,
      "outputs": [
        {
          "output_type": "execute_result",
          "data": {
            "text/plain": [
              "<function sorted(iterable, /, *, key=None, reverse=False)>"
            ]
          },
          "metadata": {},
          "execution_count": 105
        }
      ]
    },
    {
      "cell_type": "code",
      "source": [
        "def f(x):\n",
        "    return x**2\n",
        "\n",
        "list(map(f,[1,2,3,4]))"
      ],
      "metadata": {
        "colab": {
          "base_uri": "https://localhost:8080/"
        },
        "id": "goFajBJubbeB",
        "outputId": "8d2646e1-b3e3-4cb6-e6de-319591f59633"
      },
      "execution_count": null,
      "outputs": [
        {
          "output_type": "execute_result",
          "data": {
            "text/plain": [
              "[1, 4, 9, 16]"
            ]
          },
          "metadata": {},
          "execution_count": 106
        }
      ]
    },
    {
      "cell_type": "code",
      "source": [
        "list(map(lambda x: x** 2,[1,2,3,4]))"
      ],
      "metadata": {
        "colab": {
          "base_uri": "https://localhost:8080/"
        },
        "id": "_RPytm3pbbfw",
        "outputId": "c100cf50-3b25-430e-945c-8c31799258e2"
      },
      "execution_count": null,
      "outputs": [
        {
          "output_type": "execute_result",
          "data": {
            "text/plain": [
              "[1, 4, 9, 16]"
            ]
          },
          "metadata": {},
          "execution_count": 108
        }
      ]
    },
    {
      "cell_type": "code",
      "source": [
        "# 위의 두 개는 같다!"
      ],
      "metadata": {
        "id": "O8S8uXBdbX6K"
      },
      "execution_count": null,
      "outputs": []
    },
    {
      "cell_type": "code",
      "source": [],
      "metadata": {
        "id": "W8a47LhNfDtj"
      },
      "execution_count": null,
      "outputs": []
    },
    {
      "cell_type": "code",
      "source": [
        "\n",
        "# [2, 5, 3, 7, 5, 3, 4, 1, 2, 3]에서 4 이상인 값을 모두 출력하세요. lambda를 통해 구현하세요.\n",
        "\n",
        "list(filter(lambda x: x >= 4, [2, 5, 3, 7, 5, 3, 4, 1, 2, 3]))\n"
      ],
      "metadata": {
        "colab": {
          "base_uri": "https://localhost:8080/"
        },
        "id": "fiKDYLqkdEU_",
        "outputId": "608edd84-90b9-4a66-9ba9-69fd02f7203a"
      },
      "execution_count": null,
      "outputs": [
        {
          "output_type": "execute_result",
          "data": {
            "text/plain": [
              "[5, 7, 5, 4]"
            ]
          },
          "metadata": {},
          "execution_count": 123
        }
      ]
    },
    {
      "cell_type": "markdown",
      "source": [
        "# 상속\n",
        "\n",
        "# 견고한 파이썬 10.5\n"
      ],
      "metadata": {
        "id": "2HFhKyLwhKae"
      }
    },
    {
      "cell_type": "code",
      "source": [
        "\n",
        "# 국내 학생\n",
        "\n",
        "class Student:\n",
        "    def __init__(self, name, score, phone, email):\n",
        "        self.name = name\n",
        "        self.score = score\n",
        "        self.phone = phone\n",
        "        self.email = email\n",
        "\n",
        "    def __repr__(self):\n",
        "        return self.name\n",
        "\n",
        "# 외국학생이 들어왔습니다!? 1 / 10000 명이 들어왔어요.\n",
        "# 이 한 명을 위해 이 class를 바꾸는 것이 바람직할까요?\n",
        "# 그래서 이렇게 하고 싶은겁니다. Student에 있는 것을 그대로 사용하고\n",
        "# 국적만 추가해주는 다른 class를 만드는 것입니다.\n",
        "\n",
        "class ForeignStudent(Student):\n",
        "    def __init__(self, name, score, phone, email, country):\n",
        "        super().__init__(name, score, phone, email)\n",
        "        self.country = country\n",
        "\n",
        "# 그럼 이제 학생들 관리할 때 아래와 같이 관리할 수 있을 겁니다.\n",
        "\n",
        "data = [\n",
        "    Student(\"김민준\", 85, \"010-1234-5678\", \"minjun@example.kr\"),\n",
        "    Student(\"이서연\", 92, \"010-2345-6789\", \"seoyeon@example.kr\"),\n",
        "    Student(\"박지훈\", 78, \"010-3456-7890\", \"jihoon@example.kr\"),\n",
        "    Student(\"최수아\", 88, \"010-4567-8901\", \"sua@example.kr\"),\n",
        "    Student(\"정도현\", 95, \"010-5678-9012\", \"dohyun@example.kr\"),\n",
        "    Student(\"강하은\", 82, \"010-6789-0123\", \"haeun@example.kr\"),\n",
        "    Student(\"윤지우\", 90, \"010-7890-1234\", \"jiwoo@example.kr\"),\n",
        "    Student(\"임서진\", 79, \"010-8901-2345\", \"seojin@example.kr\"),\n",
        "    ForeignStudent(\"Emma Wilson\", 87, \"010-9012-3456\", \"emma@example.com\", \"USA\"),\n",
        "    Student(\"한유진\", 93, \"010-0123-4567\", \"yujin@example.kr\")\n",
        "]\n",
        "\n",
        "data\n",
        "\n",
        "# for i in data:\n",
        "#     print(i.score)\n"
      ],
      "metadata": {
        "colab": {
          "base_uri": "https://localhost:8080/"
        },
        "id": "z4vYh1z3dEXG",
        "outputId": "9b3f3928-fd4b-4dc0-ebd1-5428775a9c11"
      },
      "execution_count": null,
      "outputs": [
        {
          "output_type": "execute_result",
          "data": {
            "text/plain": [
              "[김민준, 이서연, 박지훈, 최수아, 정도현, 강하은, 윤지우, 임서진, Emma Wilson, 한유진]"
            ]
          },
          "metadata": {},
          "execution_count": 127
        }
      ]
    },
    {
      "cell_type": "code",
      "source": [
        "class Student:\n",
        "    def __init__(self, name, score, phone, email):\n",
        "        self.name = name\n",
        "        self.score = score\n",
        "        self.phone = phone\n",
        "        self.email = email\n",
        "\n",
        "    def __repr__(self):\n",
        "        return self. name\n",
        "\n",
        "class ForeignStudent(Student):\n",
        "    def __init__(self, name, score, phone, email, country):\n",
        "        super().__init__(name, score, phone, email)\n",
        "        self.country = country\n",
        "\n",
        "data = [\n",
        "    Student(\"김민준\", 85, \"010-1234-5678\", \"minjun@example.kr\"),\n",
        "    Student(\"이서연\", 92, \"010-2345-6789\", \"seoyeon@example.kr\"),\n",
        "    Student(\"박지훈\", 78, \"010-3456-7890\", \"jihoon@example.kr\"),\n",
        "    Student(\"최수아\", 88, \"010-4567-8901\", \"sua@example.kr\"),\n",
        "    Student(\"정도현\", 95, \"010-5678-9012\", \"dohyun@example.kr\"),\n",
        "    Student(\"강하은\", 82, \"010-6789-0123\", \"haeun@example.kr\"),\n",
        "    Student(\"윤지우\", 90, \"010-7890-1234\", \"jiwoo@example.kr\"),\n",
        "    Student(\"임서진\", 79, \"010-8901-2345\", \"seojin@example.kr\"),\n",
        "    ForeignStudent(\"Emma Wilson\", 87, \"010-9012-3456\", \"emma@example.com\", \"USA\"),\n",
        "    Student(\"한유진\", 93, \"010-0123-4567\", \"yujin@example.kr\")\n",
        "]\n",
        "\n",
        "data"
      ],
      "metadata": {
        "colab": {
          "base_uri": "https://localhost:8080/"
        },
        "id": "V9tx4cSrhTh0",
        "outputId": "ea1e52fd-c327-4780-ebdb-d852103f4f1f"
      },
      "execution_count": null,
      "outputs": [
        {
          "output_type": "execute_result",
          "data": {
            "text/plain": [
              "[김민준, 이서연, 박지훈, 최수아, 정도현, 강하은, 윤지우, 임서진, Emma Wilson, 한유진]"
            ]
          },
          "metadata": {},
          "execution_count": 128
        }
      ]
    },
    {
      "cell_type": "code",
      "source": [
        "\n",
        "class A:\n",
        "    num = 100\n",
        "    def move(self):\n",
        "        print('움직여요!')\n",
        "\n",
        "class B(A):\n",
        "    pass\n",
        "\n",
        "class C(B):\n",
        "    pass\n",
        "\n",
        "a = A()\n",
        "b = B()\n",
        "c = C()\n",
        "\n",
        "a.num\n",
        "b.num\n",
        "c.num\n"
      ],
      "metadata": {
        "colab": {
          "base_uri": "https://localhost:8080/"
        },
        "id": "l1ITQK2ihTkP",
        "outputId": "99a36ef1-6f78-4e3b-8b56-9db3e7442dfb"
      },
      "execution_count": null,
      "outputs": [
        {
          "output_type": "stream",
          "name": "stdout",
          "text": [
            "움직여요\n",
            "움직여요\n",
            "움직여요\n"
          ]
        }
      ]
    },
    {
      "cell_type": "markdown",
      "source": [
        "# 메서드 오버라이딩 중요!!!!!"
      ],
      "metadata": {
        "id": "bWsLAyzso6kf"
      }
    },
    {
      "cell_type": "code",
      "source": [
        "만든 메서드 위에 메서드로 덮어쓰는 것!!!\n",
        "+ 연산을 *로 바꿀 수도 있다.."
      ],
      "metadata": {
        "id": "JTsmbs_ZhTmZ"
      },
      "execution_count": null,
      "outputs": []
    },
    {
      "cell_type": "code",
      "source": [
        "\n",
        "class A:\n",
        "    def move(self):\n",
        "        print('출발')\n",
        "\n",
        "\n",
        "class B(A):\n",
        "    def move(self):\n",
        "        print('덮어썼지롱!')\n",
        "\n",
        "\n",
        "b = B()\n",
        "b.move()\n"
      ],
      "metadata": {
        "colab": {
          "base_uri": "https://localhost:8080/"
        },
        "id": "Yd_NC-LxdEbA",
        "outputId": "2e04217c-a69d-44d6-d593-53f0c18cd142"
      },
      "execution_count": null,
      "outputs": [
        {
          "output_type": "stream",
          "name": "stdout",
          "text": [
            "덮어썼지롱!\n"
          ]
        }
      ]
    },
    {
      "cell_type": "markdown",
      "source": [
        "# 비공개 속성"
      ],
      "metadata": {
        "id": "3ifHeM4prz_E"
      }
    },
    {
      "cell_type": "code",
      "source": [
        "#보안이 필요한 서비스에서 코드를 숨길 수 있게해주는 기능!\n",
        "# 변수 밑에 __ 붙이면 된다!\n",
        "\n",
        "# __c 이렇게"
      ],
      "metadata": {
        "id": "qXpXCGkury6j"
      },
      "execution_count": null,
      "outputs": []
    },
    {
      "cell_type": "code",
      "source": [],
      "metadata": {
        "id": "aJHYfGLqry9B"
      },
      "execution_count": null,
      "outputs": []
    },
    {
      "cell_type": "code",
      "source": [],
      "metadata": {
        "id": "eKd8Sx-1ry_-"
      },
      "execution_count": null,
      "outputs": []
    },
    {
      "cell_type": "markdown",
      "source": [],
      "metadata": {
        "id": "dvb9v9TimJUa"
      }
    }
  ]
}