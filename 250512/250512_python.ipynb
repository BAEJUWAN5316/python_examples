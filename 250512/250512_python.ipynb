{
  "nbformat": 4,
  "nbformat_minor": 0,
  "metadata": {
    "colab": {
      "provenance": [],
      "toc_visible": true,
      "authorship_tag": "ABX9TyNJp3/BmqOE5LYW3LwajsH8",
      "include_colab_link": true
    },
    "kernelspec": {
      "name": "python3",
      "display_name": "Python 3"
    },
    "language_info": {
      "name": "python"
    }
  },
  "cells": [
    {
      "cell_type": "markdown",
      "metadata": {
        "id": "view-in-github",
        "colab_type": "text"
      },
      "source": [
        "<a href=\"https://colab.research.google.com/github/BAEJUWAN5316/python_examples/blob/master/250512/250512_python.ipynb\" target=\"_parent\"><img src=\"https://colab.research.google.com/assets/colab-badge.svg\" alt=\"Open In Colab\"/></a>"
      ]
    },
    {
      "cell_type": "markdown",
      "source": [],
      "metadata": {
        "id": "RFwg8KT7FVuA"
      }
    },
    {
      "cell_type": "markdown",
      "source": [
        "* colab에 좋은 점 : 시각화가 잘 되어 있고, 설치가 필요 없고, 학습을 빠르게 할 수 있다.\n",
        "\n",
        "* .py에 좋은점 : 실무에서는 colab으로 개발하는 것이 아닙니다! .py로 만들어서 개발해야 합니다!"
      ],
      "metadata": {
        "id": "fAphkeBNZT79"
      }
    },
    {
      "cell_type": "markdown",
      "source": [
        "# 250512 시작\n",
        "\n",
        "```\n",
        "여기는 코드로 표현\n",
        "```\n",
        "# colab\n",
        "\n",
        "- google id만 있으면 ram을 12G, disk를 100G나 되는 원격 컴퓨터를 무료로 준다!\n",
        "- 여기에는 Python 환경이 모두 설정이 되어 있어서 별도의 설정이 필요 없다!\n",
        "- google drive가 자동 연동되어서 별도로 다운로드 해서 저장할 필요가 없다!\n",
        "\n",
        "- Ctrl + Enter : 현재 셀 실행\n",
        "- Alt + Enter : 현재 셀 실행 + 아래 셀 하나 **만들기**"
      ],
      "metadata": {
        "id": "j9xLosi0FW9L"
      }
    },
    {
      "cell_type": "markdown",
      "source": [
        "# range"
      ],
      "metadata": {
        "id": "a52LINaiQa5m"
      }
    },
    {
      "cell_type": "code",
      "source": [
        "I = [10, 20, 30, 40]\n",
        "I # 이렇게 마지막 라인에 한하여 print를 안해도 출력이 됩니다.\n"
      ],
      "metadata": {
        "colab": {
          "base_uri": "https://localhost:8080/"
        },
        "id": "12Tyu4CFFVeX",
        "outputId": "79d2347d-ef26-433a-9ce4-25e89221d8f1"
      },
      "execution_count": null,
      "outputs": [
        {
          "output_type": "execute_result",
          "data": {
            "text/plain": [
              "[10, 20, 30, 40]"
            ]
          },
          "metadata": {},
          "execution_count": 4
        }
      ]
    },
    {
      "cell_type": "code",
      "source": [
        "range(0, 10)\n",
        "#[0, 1, 2, 3, 4, 5, 6, 7, 8, 9] 아니 왜 이렇게 안 나오지?"
      ],
      "metadata": {
        "colab": {
          "base_uri": "https://localhost:8080/"
        },
        "id": "KqXkS73RJ_zv",
        "outputId": "03c19189-7ed5-443f-b6e9-4fbf2a5d7057"
      },
      "execution_count": null,
      "outputs": [
        {
          "output_type": "execute_result",
          "data": {
            "text/plain": [
              "range(0, 10)"
            ]
          },
          "metadata": {},
          "execution_count": 5
        }
      ]
    },
    {
      "cell_type": "code",
      "source": [
        "# range()는 python2.x 에서는 list였습니다!"
      ],
      "metadata": {
        "id": "COXjwWLrKmw9"
      },
      "execution_count": null,
      "outputs": []
    },
    {
      "cell_type": "code",
      "source": [
        "type(range(0,10)) # 왜 range라는 타입일까요?"
      ],
      "metadata": {
        "colab": {
          "base_uri": "https://localhost:8080/"
        },
        "id": "92ZaKrnwLFAg",
        "outputId": "8aeb3b32-4698-471f-df20-7c501ae920dc"
      },
      "execution_count": null,
      "outputs": [
        {
          "output_type": "execute_result",
          "data": {
            "text/plain": [
              "range"
            ]
          },
          "metadata": {},
          "execution_count": 8
        }
      ]
    },
    {
      "cell_type": "code",
      "source": [
        "# 파이썬은 속도를 올리기 위한 작업을 매 버전마다 해왔습니다\n",
        "# 그래서 최종 목표는 c의 속도를 따라잡는 것입니다.\n",
        "# range(10000000000000000) 이렇게 데이터를 생각한다고 생각해보세요.\n",
        "# 0 ~ 10000000000000000의 숫자를 모두 메모리에 올려야 합니다.\n",
        "# xrange()라는 것을 만들어서 이를 해결했습니다.\n",
        "# xrange는 숫자를 생성하지 않고 start, stop, step 값으로 호출을 할 때 하나씩 생성을 하는 방식을 신설\n",
        "# xrange가 3.xx버전으로 오면서 range가 된 것입니다."
      ],
      "metadata": {
        "id": "KsDyTRSfKApt"
      },
      "execution_count": null,
      "outputs": []
    },
    {
      "cell_type": "code",
      "source": [
        "while True:\n",
        "    data1 = input(\"숫자를 넣어주세요 : \")\n",
        "    if data1 == \"1\":\n",
        "        print(\"히호\")\n",
        "    elif data1 == \"5\":\n",
        "        break\n",
        "    else:\n",
        "        print(\"오히호\")"
      ],
      "metadata": {
        "colab": {
          "base_uri": "https://localhost:8080/"
        },
        "id": "p7YV9QtcKAsN",
        "outputId": "8041e8bd-2ab7-416a-8720-c8124b2c709f"
      },
      "execution_count": null,
      "outputs": [
        {
          "name": "stdout",
          "output_type": "stream",
          "text": [
            "숫자를 넣어주세요 : 1\n",
            "히호\n",
            "숫자를 넣어주세요 : 2\n",
            "오히호\n",
            "숫자를 넣어주세요 : 3\n",
            "오히호\n",
            "숫자를 넣어주세요 : 5\n"
          ]
        }
      ]
    },
    {
      "cell_type": "code",
      "source": [
        "# range()의 인덱싱\n",
        "range(0,100)[3]"
      ],
      "metadata": {
        "colab": {
          "base_uri": "https://localhost:8080/"
        },
        "id": "S6doIe7SLf_u",
        "outputId": "6836bfe1-b209-493c-e305-bf1fc779f830"
      },
      "execution_count": null,
      "outputs": [
        {
          "output_type": "execute_result",
          "data": {
            "text/plain": [
              "3"
            ]
          },
          "metadata": {},
          "execution_count": 17
        }
      ]
    },
    {
      "cell_type": "code",
      "source": [
        "# range()의 슬라이싱\n",
        "range(100)[1:10]"
      ],
      "metadata": {
        "colab": {
          "base_uri": "https://localhost:8080/"
        },
        "id": "NOONoQl5LgG2",
        "outputId": "5f66b925-81c1-4fd2-c41a-dfb28128a0c4"
      },
      "execution_count": null,
      "outputs": [
        {
          "output_type": "execute_result",
          "data": {
            "text/plain": [
              "range(1, 10)"
            ]
          },
          "metadata": {},
          "execution_count": 18
        }
      ]
    },
    {
      "cell_type": "code",
      "source": [
        "# range의 step 음수 값\n",
        "list(range(100,9,-10))  # 100~9로 범위를 잡아야 마지막 10이 나온다"
      ],
      "metadata": {
        "colab": {
          "base_uri": "https://localhost:8080/"
        },
        "id": "5B6StNcqLgJO",
        "outputId": "3eb4b650-b3ad-47f3-afaf-dfbc02ff45ff"
      },
      "execution_count": null,
      "outputs": [
        {
          "output_type": "execute_result",
          "data": {
            "text/plain": [
              "[100, 90, 80, 70, 60, 50, 40, 30, 20, 10]"
            ]
          },
          "metadata": {},
          "execution_count": 21
        }
      ]
    },
    {
      "cell_type": "markdown",
      "source": [
        "# function"
      ],
      "metadata": {
        "id": "GMHPDqtrQkB3"
      }
    },
    {
      "cell_type": "code",
      "source": [
        "# funtion 이라는 것이 왜 필요했을까?\n",
        "# 첫번째 이유\n",
        "\n",
        "def hello():\n",
        "    x = 10 # 이 코드가 반복되니 이 코드의 이름을 hello라고 하고, 이 코드 자리에 hello를 놓자!\n",
        "    y = 20\n",
        "    print(x + y)\n",
        "\n",
        "hello()\n",
        "a = 10\n",
        "hello()\n",
        "b = 20\n",
        "hello()\n",
        "a + b\n",
        "hello()\n",
        "a - b\n",
        "hello()\n",
        "# >> 코드가 줄어들었다!\n"
      ],
      "metadata": {
        "colab": {
          "base_uri": "https://localhost:8080/"
        },
        "id": "3Dc7LUiC5I7o",
        "outputId": "6eaea3dc-ca22-40a4-e004-ccf67746a348"
      },
      "execution_count": null,
      "outputs": [
        {
          "output_type": "stream",
          "name": "stdout",
          "text": [
            "30\n",
            "30\n",
            "30\n",
            "30\n",
            "30\n"
          ]
        }
      ]
    },
    {
      "cell_type": "code",
      "source": [
        "# 두 번째 이유\n",
        "# 수만줄의 코드도 아래와 같이 함수로 쌓여있으면 '구조를 파악하기 쉽습니다.'\n",
        "\n",
        "땅파기()\n",
        "땅다지기()\n",
        "상하수도설치()\n",
        "벽돌쌓기()\n",
        "지붕올리기()\n",
        "내부인테리어()\n",
        "\n"
      ],
      "metadata": {
        "colab": {
          "base_uri": "https://localhost:8080/",
          "height": 221
        },
        "id": "ixNAMbvi6C1S",
        "outputId": "6841f253-0b14-44df-8e86-3163182f9515"
      },
      "execution_count": null,
      "outputs": [
        {
          "output_type": "error",
          "ename": "NameError",
          "evalue": "name '땅파기' is not defined",
          "traceback": [
            "\u001b[0;31m---------------------------------------------------------------------------\u001b[0m",
            "\u001b[0;31mNameError\u001b[0m                                 Traceback (most recent call last)",
            "\u001b[0;32m<ipython-input-74-c46ba8caa499>\u001b[0m in \u001b[0;36m<cell line: 0>\u001b[0;34m()\u001b[0m\n\u001b[1;32m      2\u001b[0m \u001b[0;31m# 수만줄의 코드도 아래와 같이 함수로 쌓여있으면 '구조를 파악하기 쉽습니다.'\u001b[0m\u001b[0;34m\u001b[0m\u001b[0;34m\u001b[0m\u001b[0m\n\u001b[1;32m      3\u001b[0m \u001b[0;34m\u001b[0m\u001b[0m\n\u001b[0;32m----> 4\u001b[0;31m \u001b[0m땅파기\u001b[0m\u001b[0;34m(\u001b[0m\u001b[0;34m)\u001b[0m\u001b[0;34m\u001b[0m\u001b[0;34m\u001b[0m\u001b[0m\n\u001b[0m\u001b[1;32m      5\u001b[0m \u001b[0m땅다지기\u001b[0m\u001b[0;34m(\u001b[0m\u001b[0;34m)\u001b[0m\u001b[0;34m\u001b[0m\u001b[0;34m\u001b[0m\u001b[0m\n\u001b[1;32m      6\u001b[0m \u001b[0m상하수도설치\u001b[0m\u001b[0;34m(\u001b[0m\u001b[0;34m)\u001b[0m\u001b[0;34m\u001b[0m\u001b[0;34m\u001b[0m\u001b[0m\n",
            "\u001b[0;31mNameError\u001b[0m: name '땅파기' is not defined"
          ]
        }
      ]
    },
    {
      "cell_type": "code",
      "source": [
        "# 세 번째 이유\n",
        "# 알지 않아도 되는 코드를 들여다 보지 않을 수 있어요.\n",
        "# 추상화 > 내부 구현을 숨기고 필요한 기능만 외부에 노출하는 것!\n",
        "# 여러분이 자동차를 운전할 때 자동차 페달을 밟는다 해서\n",
        "# 엔진을 뜯어볼 필요가 있나요?\n",
        "\n",
        "땅파기()\n",
        "땅다지기()\n",
        "상하수도설치()\n",
        "벽돌쌓기() # 내 과업은 벽돌 쌓기를 수정하는 것입니다.\n",
        "지붕올리기()\n",
        "내부인테리어()\n"
      ],
      "metadata": {
        "id": "LfoMY-YK6YHO"
      },
      "execution_count": null,
      "outputs": []
    },
    {
      "cell_type": "markdown",
      "source": [],
      "metadata": {
        "id": "7HDYPlE667gY"
      }
    },
    {
      "cell_type": "code",
      "source": [
        "def hello():\n",
        "    x = 10\n",
        "    y = 20\n",
        "    return x + y"
      ],
      "metadata": {
        "id": "4fJvW6jHLgLH"
      },
      "execution_count": null,
      "outputs": []
    },
    {
      "cell_type": "code",
      "source": [
        "# 파라미터와 아규먼트\n",
        "\n",
        "def xysum(x, y):  # 함수를 정의하는 부분 > 파라미터\n",
        "    return x + y\n",
        "\n",
        "xysum(10, 20) # 함수를 호출하는 부분 > 아규먼트"
      ],
      "metadata": {
        "colab": {
          "base_uri": "https://localhost:8080/"
        },
        "id": "ej6N4Ih57rx7",
        "outputId": "ddfa01e5-fe78-4c86-e5f7-137ddb912418"
      },
      "execution_count": null,
      "outputs": [
        {
          "output_type": "execute_result",
          "data": {
            "text/plain": [
              "30"
            ]
          },
          "metadata": {},
          "execution_count": 178
        }
      ]
    },
    {
      "cell_type": "code",
      "source": [
        "#파선아실(파라미터는 선언할 때, 아규먼트는 실행할 때)\n",
        "\n",
        "def xysum(x, y):  # 함수를 정의하는 부분\n",
        "    return x + y\n",
        "\n",
        "xysum(10, 20) # 함수를 호출하는 부분\n",
        "# 10과 20은 아규먼트!\n",
        "# x와 y는 변수가 아니라 파라미터 라고 해야한다!!\n",
        "# return은 호출한 곳에 값을 리턴해주는 것!"
      ],
      "metadata": {
        "colab": {
          "base_uri": "https://localhost:8080/"
        },
        "id": "d83WeeGF8WGp",
        "outputId": "f8b677ad-69bf-4023-a1fe-c7b80a900d39"
      },
      "execution_count": null,
      "outputs": [
        {
          "output_type": "execute_result",
          "data": {
            "text/plain": [
              "30"
            ]
          },
          "metadata": {},
          "execution_count": 77
        }
      ]
    },
    {
      "cell_type": "code",
      "source": [
        "def xysum(x, y):\n",
        "    return x + y # 나를 호출한 곳에 그대로 이 값을 넣어주세요\n",
        "\n",
        "result = xysum(10, 20) + xysum(30, 40) + xysum(50, 60)\n",
        "result\n",
        "\n",
        "# 프린트와 리턴은 다르다!!"
      ],
      "metadata": {
        "colab": {
          "base_uri": "https://localhost:8080/"
        },
        "id": "OFKQWC8A8-rg",
        "outputId": "568b8d69-bd4a-424e-b7dc-0b19b434ad96"
      },
      "execution_count": null,
      "outputs": [
        {
          "output_type": "execute_result",
          "data": {
            "text/plain": [
              "210"
            ]
          },
          "metadata": {},
          "execution_count": 79
        }
      ]
    },
    {
      "cell_type": "code",
      "source": [
        "def a(x, y):\n",
        "    z = x + y\n",
        "    return None\n",
        "\n",
        "print(a(10, 20))"
      ],
      "metadata": {
        "colab": {
          "base_uri": "https://localhost:8080/"
        },
        "id": "0U9AYvTd9rJy",
        "outputId": "6565bd11-e2fd-4c5b-b367-e537a749b7ef"
      },
      "execution_count": null,
      "outputs": [
        {
          "output_type": "stream",
          "name": "stdout",
          "text": [
            "None\n"
          ]
        }
      ]
    },
    {
      "cell_type": "code",
      "source": [
        "print(print(print('hello')))"
      ],
      "metadata": {
        "colab": {
          "base_uri": "https://localhost:8080/"
        },
        "id": "wHW7ZNH1-AZG",
        "outputId": "339fedd4-c1fd-4a0c-cbd1-e321d1b2bc6c"
      },
      "execution_count": null,
      "outputs": [
        {
          "output_type": "stream",
          "name": "stdout",
          "text": [
            "hello\n",
            "None\n",
            "None\n"
          ]
        }
      ]
    },
    {
      "cell_type": "code",
      "source": [
        "# 파라미터가 있는 함수\n",
        "def hello(a):\n",
        "    return a\n",
        "\n",
        "\n",
        "# 파라미터가 없는 함수\n",
        "def hello():\n",
        "    return 'hello world'\n"
      ],
      "metadata": {
        "id": "Icje9UXk_Dnd"
      },
      "execution_count": null,
      "outputs": []
    },
    {
      "cell_type": "code",
      "source": [
        "# 리턴값이 있는 함수\n",
        "def add(a, b):\n",
        "    return a + b\n",
        "\n",
        "\n",
        "# 리턴값이 없는 함수\n",
        "def add(a, b):\n",
        "    print(a + b)"
      ],
      "metadata": {
        "id": "TF0FaD-X_Ha3"
      },
      "execution_count": null,
      "outputs": []
    },
    {
      "cell_type": "code",
      "source": [
        "# 문제1 : 주식 그래프를 그리려고 한다. 주식 그래프는 2x + 15와 같은 형식으로 그려지고\n",
        "# x는 10이라구 주어졌을 때 y값이 얼마인지 구하는 함수를 만드세요\n",
        "\n",
        "def solution(x):\n",
        "    return 2*x + 15\n",
        "\n",
        "solution(10)"
      ],
      "metadata": {
        "colab": {
          "base_uri": "https://localhost:8080/"
        },
        "id": "JW_PeZC7_w-I",
        "outputId": "492ff5fc-51f1-4284-96cb-1619e39ae20b"
      },
      "execution_count": null,
      "outputs": [
        {
          "output_type": "execute_result",
          "data": {
            "text/plain": [
              "35"
            ]
          },
          "metadata": {},
          "execution_count": 98
        }
      ]
    },
    {
      "cell_type": "code",
      "source": [
        "# 문제2 : [10, 20, 30] + [1, 2, 3]이라고 했을 때 이 두 행렬의 요소별로 더하는 함수를 만드세요.\n",
        "\n",
        "\n",
        "def solution(a,b):\n",
        "    d = []\n",
        "    for num in range(len(a)):\n",
        "        c = a[num] + b[num]\n",
        "        d.append(c)\n",
        "    return print(d)\n",
        "\n",
        "solution([10, 20, 30], [1, 2, 3])\n",
        "\n",
        "# enumerate  > 두 함수에 값과 인덱스를 넣어준다!\n",
        "#for i , v in enumerate(a) >>> i에는 순회할 인덱스의 인덱스 위치를, v에는 순회할 인덱스의 값을!"
      ],
      "metadata": {
        "colab": {
          "base_uri": "https://localhost:8080/"
        },
        "id": "QmNGHe5BANVN",
        "outputId": "2fce5dc0-249a-46b6-c956-55236589aab9"
      },
      "execution_count": null,
      "outputs": [
        {
          "output_type": "stream",
          "name": "stdout",
          "text": [
            "[11, 22, 33]\n"
          ]
        }
      ]
    },
    {
      "cell_type": "code",
      "source": [
        "# 문제 2번 풀이\n",
        "# 관습적으로 안 쓰는 코드는 변수\"_\" 에 할당한다!\n",
        "\n",
        "# 문제2: [10, 20, 30] + [1, 2, 3]이라고 했을 때 이 두 행렬을 요소별로 더하는 함수를 만드세요.\n",
        "\n",
        "def solution(a, b):\n",
        "    for i, v in enumerate(a):\n",
        "        a[i] = v + b[i]\n",
        "    return a\n",
        "\n",
        "solution([10, 20, 30], [1, 2, 3])\n"
      ],
      "metadata": {
        "colab": {
          "base_uri": "https://localhost:8080/"
        },
        "id": "kPfgTHJJMiHN",
        "outputId": "b36822b3-34d5-404f-f6ab-0633b2df52ff"
      },
      "execution_count": null,
      "outputs": [
        {
          "output_type": "execute_result",
          "data": {
            "text/plain": [
              "[11, 22, 33]"
            ]
          },
          "metadata": {},
          "execution_count": 143
        }
      ]
    },
    {
      "cell_type": "code",
      "source": [
        "# 문제 2번의 우아한 풀이??\n",
        "# 우아한 풀이라는 건 고차함수를 여러개 사용하는 것!\n",
        "\n",
        "def solution(a, b):\n",
        "    return list(map(sum,(zip([10,20,30], [1,2,3]))))\n",
        "\n",
        "solution([10, 20, 30], [1, 2, 3])\n",
        "\n",
        "# 뭐 지금 알 필요는 없다.."
      ],
      "metadata": {
        "colab": {
          "base_uri": "https://localhost:8080/"
        },
        "id": "sbXjOCQlNh07",
        "outputId": "ff79a7bb-1eee-436b-cb0d-0bcb3270f819"
      },
      "execution_count": null,
      "outputs": [
        {
          "output_type": "execute_result",
          "data": {
            "text/plain": [
              "[11, 22, 33]"
            ]
          },
          "metadata": {},
          "execution_count": 144
        }
      ]
    },
    {
      "cell_type": "code",
      "source": [
        "# 문제3: 행렬(리스트의 리스트)의 모든 요소에 특정 숫자를 곱하는 함수를 만드세요.\n",
        "# 예: [1, 2, 3, 4] * 2 = [2, 4, 6, 8]\n",
        "\n",
        "\n",
        "def solution(matrix, multiplier):\n",
        "    list1 = []\n",
        "\n",
        "    for num1 in matrix:\n",
        "        num2 = num1 * multiplier\n",
        "        list1.append(num2)\n",
        "    return list1\n",
        "\n",
        "solution([1, 2, 3, 4], 2)"
      ],
      "metadata": {
        "colab": {
          "base_uri": "https://localhost:8080/"
        },
        "id": "NothTJQTCOuU",
        "outputId": "c7e3fb19-ca62-4c90-c72d-c6452e1e607a"
      },
      "execution_count": null,
      "outputs": [
        {
          "output_type": "execute_result",
          "data": {
            "text/plain": [
              "[2, 4, 6, 8]"
            ]
          },
          "metadata": {},
          "execution_count": 145
        }
      ]
    },
    {
      "cell_type": "code",
      "source": [
        "# 문제3 고급풀이\n",
        "\n",
        "def solution(matrix, multiplier):\n",
        "    return [num1 * multiplier for num1 in matrix]\n",
        "    # 리스트 컴프레션 이라고 append처럼 순회하며 리스트를 만들 때 쓰면 좋다!\n",
        "    # 근데 가독성은 안 좋아지므로 2중 이상은 쓰지 않도록 주의\n",
        "\n",
        "solution([1, 2, 3, 4], 2)\n"
      ],
      "metadata": {
        "colab": {
          "base_uri": "https://localhost:8080/"
        },
        "id": "KYblOLA2OtSz",
        "outputId": "9bbb9ad6-1f5b-4073-937d-7c12a6293975"
      },
      "execution_count": null,
      "outputs": [
        {
          "output_type": "execute_result",
          "data": {
            "text/plain": [
              "[2, 4, 6, 8]"
            ]
          },
          "metadata": {},
          "execution_count": 147
        }
      ]
    },
    {
      "cell_type": "code",
      "source": [
        "# 리스트 컴플레이션\n",
        "[i for i in range(1, 10, 2)]\n",
        "\n",
        "# 파이썬에서는 읽기 좋은 코드에 가치를 높게 평가합니다!"
      ],
      "metadata": {
        "colab": {
          "base_uri": "https://localhost:8080/"
        },
        "id": "GHnCG9G8Pgya",
        "outputId": "34548142-a772-4b93-ddb6-b856c4734968"
      },
      "execution_count": null,
      "outputs": [
        {
          "output_type": "execute_result",
          "data": {
            "text/plain": [
              "[1, 3, 5, 7, 9]"
            ]
          },
          "metadata": {},
          "execution_count": 148
        }
      ]
    },
    {
      "cell_type": "code",
      "source": [
        "# 문제4\n",
        "'''\n",
        "https://school.programmers.co.kr/learn/courses/30/lessons/181928\n",
        "프로그래머스라는 카카오 코딩테스트 보는 사이트다!\n",
        "'''\n",
        "\n",
        "def solution(num_list):\n",
        "    list1 = []\n",
        "    list2 = []\n",
        "\n",
        "    for a in num_list:\n",
        "        if a %2 == 0:\n",
        "            a = str(a)\n",
        "            a.append(list1)\n",
        "        elif a%2 != 0:\n",
        "            a = str(a)\n",
        "            a.append(list2)\n",
        "\n",
        "    join1 = \"\".join(list1)\n",
        "    join2 = \"\".join(list2)\n",
        "    join1 = int(join1)\n",
        "    join2 = int(join2)\n",
        "    return join1 + join2\n",
        "\n",
        "\n",
        "solution([3, 4, 5, 2, 1])\n"
      ],
      "metadata": {
        "colab": {
          "base_uri": "https://localhost:8080/",
          "height": 110
        },
        "id": "Xukg-tz6HWQZ",
        "outputId": "0af1f20b-928e-4e02-fd03-9970b711feb3"
      },
      "execution_count": null,
      "outputs": [
        {
          "output_type": "error",
          "ename": "SyntaxError",
          "evalue": "invalid syntax (<ipython-input-149-8c02df84b084>, line 2)",
          "traceback": [
            "\u001b[0;36m  File \u001b[0;32m\"<ipython-input-149-8c02df84b084>\"\u001b[0;36m, line \u001b[0;32m2\u001b[0m\n\u001b[0;31m    https://school.programmers.co.kr/learn/courses/30/lessons/181928\u001b[0m\n\u001b[0m          ^\u001b[0m\n\u001b[0;31mSyntaxError\u001b[0m\u001b[0;31m:\u001b[0m invalid syntax\n"
          ]
        }
      ]
    },
    {
      "cell_type": "code",
      "source": [
        "#문제 4 풀이\n",
        "\n",
        "def solution(num_list):\n",
        "    짝수 = ''\n",
        "    홀수 = ''\n",
        "    for i in num_list:\n",
        "        if i % 2 == 0:\n",
        "            짝수 += str(i)\n",
        "        else:\n",
        "            홀수 += str(i)\n",
        "    answer = int(짝수) + int(홀수)\n",
        "    return answer\n",
        "\n",
        "solution([3, 4, 5, 2, 1])"
      ],
      "metadata": {
        "colab": {
          "base_uri": "https://localhost:8080/"
        },
        "id": "C6raUzmvT3V2",
        "outputId": "05b35082-3ba4-49f9-f93b-7e31f1fd9335"
      },
      "execution_count": null,
      "outputs": [
        {
          "output_type": "execute_result",
          "data": {
            "text/plain": [
              "393"
            ]
          },
          "metadata": {},
          "execution_count": 154
        }
      ]
    },
    {
      "cell_type": "code",
      "source": [
        "# 파라미터에 기본값이 정해져 있는 경우!\n",
        "\n",
        "def add(x = 10, y = 20):\n",
        "    return x + y\n",
        "\n",
        "add()"
      ],
      "metadata": {
        "colab": {
          "base_uri": "https://localhost:8080/"
        },
        "id": "sag6O_4pUiuP",
        "outputId": "ee20d21a-a01a-4b0a-d7d2-6513e60f5937"
      },
      "execution_count": null,
      "outputs": [
        {
          "output_type": "execute_result",
          "data": {
            "text/plain": [
              "30"
            ]
          },
          "metadata": {},
          "execution_count": 155
        }
      ]
    },
    {
      "cell_type": "code",
      "source": [
        "# 지역변수 전역변수\n",
        "\n",
        "x = 10\n",
        "\n",
        "def hello():\n",
        "    print(x) # 밖에 있는 변수는 읽을 수는 있다!\n",
        "\n",
        "hello()"
      ],
      "metadata": {
        "colab": {
          "base_uri": "https://localhost:8080/"
        },
        "id": "RbKC84mtVtkg",
        "outputId": "a7ecde9b-a9ce-424a-b106-8b98a79293be"
      },
      "execution_count": null,
      "outputs": [
        {
          "output_type": "execute_result",
          "data": {
            "text/plain": [
              "30"
            ]
          },
          "metadata": {},
          "execution_count": 159
        }
      ]
    },
    {
      "cell_type": "code",
      "source": [
        "x = 10\n",
        "\n",
        "def hello():\n",
        "    x += 1 # 밖에 있는 변수를 수정할 수는 없다!\n",
        "\n",
        "hello()\n",
        "# 에러!"
      ],
      "metadata": {
        "colab": {
          "base_uri": "https://localhost:8080/",
          "height": 331
        },
        "id": "cfdH8swhWd1Y",
        "outputId": "4797e230-c9f1-4dd2-964a-277270fca63f"
      },
      "execution_count": null,
      "outputs": [
        {
          "output_type": "error",
          "ename": "UnboundLocalError",
          "evalue": "cannot access local variable 'x' where it is not associated with a value",
          "traceback": [
            "\u001b[0;31m---------------------------------------------------------------------------\u001b[0m",
            "\u001b[0;31mUnboundLocalError\u001b[0m                         Traceback (most recent call last)",
            "\u001b[0;32m<ipython-input-162-f67c13c4249f>\u001b[0m in \u001b[0;36m<cell line: 0>\u001b[0;34m()\u001b[0m\n\u001b[1;32m      4\u001b[0m     \u001b[0mx\u001b[0m \u001b[0;34m+=\u001b[0m \u001b[0;36m1\u001b[0m \u001b[0;31m# 밖에 있는 변수를 수정할 수는 없다!\u001b[0m\u001b[0;34m\u001b[0m\u001b[0;34m\u001b[0m\u001b[0m\n\u001b[1;32m      5\u001b[0m \u001b[0;34m\u001b[0m\u001b[0m\n\u001b[0;32m----> 6\u001b[0;31m \u001b[0mhello\u001b[0m\u001b[0;34m(\u001b[0m\u001b[0;34m)\u001b[0m\u001b[0;34m\u001b[0m\u001b[0;34m\u001b[0m\u001b[0m\n\u001b[0m\u001b[1;32m      7\u001b[0m \u001b[0;31m# 에러!\u001b[0m\u001b[0;34m\u001b[0m\u001b[0;34m\u001b[0m\u001b[0m\n",
            "\u001b[0;32m<ipython-input-162-f67c13c4249f>\u001b[0m in \u001b[0;36mhello\u001b[0;34m()\u001b[0m\n\u001b[1;32m      2\u001b[0m \u001b[0;34m\u001b[0m\u001b[0m\n\u001b[1;32m      3\u001b[0m \u001b[0;32mdef\u001b[0m \u001b[0mhello\u001b[0m\u001b[0;34m(\u001b[0m\u001b[0;34m)\u001b[0m\u001b[0;34m:\u001b[0m\u001b[0;34m\u001b[0m\u001b[0;34m\u001b[0m\u001b[0m\n\u001b[0;32m----> 4\u001b[0;31m     \u001b[0mx\u001b[0m \u001b[0;34m+=\u001b[0m \u001b[0;36m1\u001b[0m \u001b[0;31m# 밖에 있는 변수를 수정할 수는 없다!\u001b[0m\u001b[0;34m\u001b[0m\u001b[0;34m\u001b[0m\u001b[0m\n\u001b[0m\u001b[1;32m      5\u001b[0m \u001b[0;34m\u001b[0m\u001b[0m\n\u001b[1;32m      6\u001b[0m \u001b[0mhello\u001b[0m\u001b[0;34m(\u001b[0m\u001b[0;34m)\u001b[0m\u001b[0;34m\u001b[0m\u001b[0;34m\u001b[0m\u001b[0m\n",
            "\u001b[0;31mUnboundLocalError\u001b[0m: cannot access local variable 'x' where it is not associated with a value"
          ]
        }
      ]
    },
    {
      "cell_type": "code",
      "source": [
        "x = 10 # 전역변수라고 한다\n",
        "\n",
        "def hello():\n",
        "    x = 100 # 지역변수라고 하고 이 안에서 선언하는 건 가능!! 근데 전역변수와는 다른 함수라고 친다!\n",
        "\n",
        "# return을 안 쓰면 None이 반환! 그리고 None이 반환되고 나면 지역변수는 사라진다 휘발성!\n",
        "\n",
        "hello()\n",
        "print(x)"
      ],
      "metadata": {
        "colab": {
          "base_uri": "https://localhost:8080/"
        },
        "id": "bWP2jvJeWsh9",
        "outputId": "5e377a97-fe40-4892-dd93-8ff6ecee0ad2"
      },
      "execution_count": null,
      "outputs": [
        {
          "output_type": "stream",
          "name": "stdout",
          "text": [
            "10\n"
          ]
        }
      ]
    },
    {
      "cell_type": "code",
      "source": [
        "x = 10\n",
        "\n",
        "def hello(input_x):\n",
        "    input_x += 10\n",
        "    return input_x\n",
        "\n",
        "x = hello(x) # 초급자의 마음 : 이건 복잡하잖아?\n",
        "print(x)"
      ],
      "metadata": {
        "colab": {
          "base_uri": "https://localhost:8080/"
        },
        "id": "lzZqqnw-XhMY",
        "outputId": "73ed0ff2-4ef1-47bd-87aa-e615986b16f8"
      },
      "execution_count": null,
      "outputs": [
        {
          "output_type": "stream",
          "name": "stdout",
          "text": [
            "20\n"
          ]
        }
      ]
    },
    {
      "cell_type": "code",
      "source": [
        "# 초급자의 마음\n",
        "# >> 이건 아주 짧은 코드에서는 맞는 이야기지만\n",
        "# 실무에서는 깨끗한 코드, 구조화 되어있는 코드, 견고한 코드 등이 필요하므로 위로 사용!\n",
        "\n",
        "x = 10\n",
        "x += 10\n",
        "\n",
        "print(x)"
      ],
      "metadata": {
        "id": "y3O1q2YFXvbp"
      },
      "execution_count": null,
      "outputs": []
    },
    {
      "cell_type": "code",
      "source": [
        "# hello라는 것은 무엇일까?\n",
        "# print라는 것은 무엇일까?\n",
        "\n",
        "# hello든 print든 변수입니다! 함수의 이름은 변수입니다."
      ],
      "metadata": {
        "id": "cJt3UQIFQsWp"
      },
      "execution_count": null,
      "outputs": []
    },
    {
      "cell_type": "code",
      "source": [
        "# 대부분 아래 코드는 안 좋은 사례로 꼽힙니다.\n",
        "\n",
        "x = 10\n",
        "\n",
        "def hello():\n",
        "    global x # global을 쓰면 지역변수를 전역변수 처럼 쓸 수 있는데 그럼 지금 만든 보호장치를 없애버리는것!\n",
        "    x += 100\n",
        "\n",
        "hello()\n",
        "print(x)\n",
        "\n",
        "# 이건 아주 중대하게 전역변수를 바꿔야 할 때!"
      ],
      "metadata": {
        "colab": {
          "base_uri": "https://localhost:8080/"
        },
        "id": "uzPW8gMqYILj",
        "outputId": "788ba62b-e844-4afb-a9cd-878f9f36cf8d"
      },
      "execution_count": null,
      "outputs": [
        {
          "output_type": "stream",
          "name": "stdout",
          "text": [
            "110\n"
          ]
        }
      ]
    },
    {
      "cell_type": "code",
      "source": [
        "# locals()\n",
        "# globals()"
      ],
      "metadata": {
        "id": "aBC5g_M7YyKc"
      },
      "execution_count": null,
      "outputs": []
    },
    {
      "cell_type": "code",
      "source": [
        "def add(a, b):\n",
        "    z = a + b\n",
        "    print(locals())\n",
        "    return z\n",
        "\n",
        "add(10, 20)"
      ],
      "metadata": {
        "colab": {
          "base_uri": "https://localhost:8080/"
        },
        "id": "JIsWq5mQY8N9",
        "outputId": "ccae5764-ff3b-4c22-e6b1-a85229bed01a"
      },
      "execution_count": null,
      "outputs": [
        {
          "output_type": "stream",
          "name": "stdout",
          "text": [
            "{'a': 10, 'b': 20, 'z': 30}\n"
          ]
        },
        {
          "output_type": "execute_result",
          "data": {
            "text/plain": [
              "30"
            ]
          },
          "metadata": {},
          "execution_count": 176
        }
      ]
    },
    {
      "cell_type": "code",
      "source": [
        "a = print\n",
        "a(\"hello world\")"
      ],
      "metadata": {
        "colab": {
          "base_uri": "https://localhost:8080/"
        },
        "id": "PE42TMHgQPAp",
        "outputId": "ba67ad57-ef45-4e06-e599-62fc9baa5e99"
      },
      "execution_count": null,
      "outputs": [
        {
          "output_type": "stream",
          "name": "stdout",
          "text": [
            "hello world\n"
          ]
        }
      ]
    },
    {
      "cell_type": "code",
      "source": [
        "l = [a, a, a, a, a, a]\n",
        "l[0]('hello')"
      ],
      "metadata": {
        "colab": {
          "base_uri": "https://localhost:8080/"
        },
        "id": "rRPw-CeTQPDY",
        "outputId": "3ab433fe-730a-406c-992c-00ae29c15aab"
      },
      "execution_count": null,
      "outputs": [
        {
          "output_type": "stream",
          "name": "stdout",
          "text": [
            "hello\n"
          ]
        }
      ]
    },
    {
      "cell_type": "markdown",
      "source": [
        "# 변수"
      ],
      "metadata": {
        "id": "iG6VYyWSRziT"
      }
    },
    {
      "cell_type": "code",
      "source": [
        "a = 10\n",
        "b = a\n",
        "c = b\n",
        "\n",
        "c\n",
        "\n",
        "# 화살표는?\n",
        "# 1번 : c -> b -> a -> 10\n",
        "\n",
        "# 2번 : 근데 이게 정답\n",
        "# a -> 10\n",
        "# b -> 10\n",
        "# c -> 10"
      ],
      "metadata": {
        "colab": {
          "base_uri": "https://localhost:8080/"
        },
        "id": "CbJdlLqWQPFp",
        "outputId": "246af5a8-966c-48a8-af49-a803cf714a59"
      },
      "execution_count": null,
      "outputs": [
        {
          "output_type": "execute_result",
          "data": {
            "text/plain": [
              "10"
            ]
          },
          "metadata": {},
          "execution_count": 25
        }
      ]
    },
    {
      "cell_type": "code",
      "source": [
        "a = 10\n",
        "b = a\n",
        "c = b\n",
        "\n",
        "c"
      ],
      "metadata": {
        "colab": {
          "base_uri": "https://localhost:8080/"
        },
        "id": "HQ-ZvI82Rygz",
        "outputId": "0d484de5-214e-4374-c7df-ac4a6a296790"
      },
      "execution_count": null,
      "outputs": [
        {
          "output_type": "execute_result",
          "data": {
            "text/plain": [
              "10"
            ]
          },
          "metadata": {},
          "execution_count": 32
        }
      ]
    },
    {
      "cell_type": "code",
      "source": [
        "b = 100\n",
        "c = b\n",
        "c"
      ],
      "metadata": {
        "colab": {
          "base_uri": "https://localhost:8080/"
        },
        "id": "lvRwMlaBQPHx",
        "outputId": "d0c81ef5-3de6-413e-a523-08525de907f0"
      },
      "execution_count": null,
      "outputs": [
        {
          "output_type": "execute_result",
          "data": {
            "text/plain": [
              "100"
            ]
          },
          "metadata": {},
          "execution_count": 31
        }
      ]
    },
    {
      "cell_type": "markdown",
      "source": [
        "# type, dir, id\n",
        "\n",
        "- type은 앞으로도 자주 사용됩니다 왜냐하면\n",
        "우리가 앞으로 사용할 데이터 자료형은 기본 자료형이 아닌 경우가 많기 때문이에요.\n",
        "\n",
        "- dir은 여러분이 해당 자료형에 있는 속성들을 파악하기 좋습니다.\n",
        "\n",
        "- id는 해당 자료형이 무엇을 가리키고 있는지 확인하기 좋습니다."
      ],
      "metadata": {
        "id": "rnRfZpUBT_kY"
      }
    },
    {
      "cell_type": "code",
      "source": [
        "l = [10, 20, 30, 40]\n",
        "print(type(l)) #print와 print를 안하는 것은 왜 차이가 있죠?"
      ],
      "metadata": {
        "colab": {
          "base_uri": "https://localhost:8080/"
        },
        "id": "XSJvW0-QTg00",
        "outputId": "4da4edc7-30f5-4975-f189-7048c10afce5"
      },
      "execution_count": null,
      "outputs": [
        {
          "output_type": "stream",
          "name": "stdout",
          "text": [
            "<class 'list'>\n"
          ]
        }
      ]
    },
    {
      "cell_type": "code",
      "source": [
        "print(type(hello))"
      ],
      "metadata": {
        "colab": {
          "base_uri": "https://localhost:8080/"
        },
        "id": "9InDOYhmUHiJ",
        "outputId": "47c0e828-d70e-48db-e2f7-dadfac51a667"
      },
      "execution_count": null,
      "outputs": [
        {
          "output_type": "stream",
          "name": "stdout",
          "text": [
            "<class 'function'>\n"
          ]
        }
      ]
    },
    {
      "cell_type": "code",
      "source": [
        "a = 10\n",
        "print(type(a))"
      ],
      "metadata": {
        "colab": {
          "base_uri": "https://localhost:8080/"
        },
        "id": "NIND1OY2UHpD",
        "outputId": "a1dad420-8673-4d35-bb9c-4154a7b76fea"
      },
      "execution_count": null,
      "outputs": [
        {
          "output_type": "stream",
          "name": "stdout",
          "text": [
            "<class 'int'>\n"
          ]
        }
      ]
    },
    {
      "cell_type": "code",
      "source": [
        "print(a)"
      ],
      "metadata": {
        "colab": {
          "base_uri": "https://localhost:8080/"
        },
        "id": "0KemI5bLUHrq",
        "outputId": "85b9182a-186c-4a1a-dbb2-b298fb905161"
      },
      "execution_count": null,
      "outputs": [
        {
          "output_type": "stream",
          "name": "stdout",
          "text": [
            "10\n"
          ]
        }
      ]
    },
    {
      "cell_type": "code",
      "source": [
        "# 타입 확인이 이만큼 중요하다\n",
        "# 예 1) 눈으로 10으로 보인다고 해서 int형이라고 생각하지 마세요.\n",
        "import numpy as np\n",
        "\n",
        "data = np.array(10)\n",
        "print(data)\n",
        "print(type(data))"
      ],
      "metadata": {
        "colab": {
          "base_uri": "https://localhost:8080/"
        },
        "id": "xtyYVGIvQPJw",
        "outputId": "6911c91c-c0b7-4445-be3b-dd1cf508d0b6"
      },
      "execution_count": null,
      "outputs": [
        {
          "output_type": "stream",
          "name": "stdout",
          "text": [
            "10\n",
            "<class 'numpy.ndarray'>\n"
          ]
        }
      ]
    },
    {
      "cell_type": "code",
      "source": [
        "# 예 2) 타입을 확인해야 하는 이유는 아래와 같아요. 기본 연산이 다르기 때문이죠.\n",
        "print([1, 2, 3] + [4, 5, 6])\n",
        "print(np.array([1, 2, 3]) + np.array([4, 5, 6]))"
      ],
      "metadata": {
        "colab": {
          "base_uri": "https://localhost:8080/"
        },
        "id": "IOlhivYQQPMQ",
        "outputId": "168dbaf9-27b2-4b32-a77c-dda265ed1f5f"
      },
      "execution_count": null,
      "outputs": [
        {
          "output_type": "stream",
          "name": "stdout",
          "text": [
            "[1, 2, 3, 4, 5, 6]\n",
            "[5 7 9]\n"
          ]
        }
      ]
    },
    {
      "cell_type": "code",
      "source": [
        "l = [1, 2, 3, 4]\n",
        "dir(l) # 메서드 + 멤버\n",
        "\n",
        "# 이게 왜 중요할까? 코딩하다가 메서드 까먹을까봐??"
      ],
      "metadata": {
        "colab": {
          "base_uri": "https://localhost:8080/"
        },
        "id": "xRjGfqO2WgKN",
        "outputId": "c430eb39-7c49-4b45-b1f7-38323921360d"
      },
      "execution_count": null,
      "outputs": [
        {
          "output_type": "execute_result",
          "data": {
            "text/plain": [
              "['__add__',\n",
              " '__class__',\n",
              " '__class_getitem__',\n",
              " '__contains__',\n",
              " '__delattr__',\n",
              " '__delitem__',\n",
              " '__dir__',\n",
              " '__doc__',\n",
              " '__eq__',\n",
              " '__format__',\n",
              " '__ge__',\n",
              " '__getattribute__',\n",
              " '__getitem__',\n",
              " '__getstate__',\n",
              " '__gt__',\n",
              " '__hash__',\n",
              " '__iadd__',\n",
              " '__imul__',\n",
              " '__init__',\n",
              " '__init_subclass__',\n",
              " '__iter__',\n",
              " '__le__',\n",
              " '__len__',\n",
              " '__lt__',\n",
              " '__mul__',\n",
              " '__ne__',\n",
              " '__new__',\n",
              " '__reduce__',\n",
              " '__reduce_ex__',\n",
              " '__repr__',\n",
              " '__reversed__',\n",
              " '__rmul__',\n",
              " '__setattr__',\n",
              " '__setitem__',\n",
              " '__sizeof__',\n",
              " '__str__',\n",
              " '__subclasshook__',\n",
              " 'append',\n",
              " 'clear',\n",
              " 'copy',\n",
              " 'count',\n",
              " 'extend',\n",
              " 'index',\n",
              " 'insert',\n",
              " 'pop',\n",
              " 'remove',\n",
              " 'reverse',\n",
              " 'sort']"
            ]
          },
          "metadata": {},
          "execution_count": 46
        }
      ]
    },
    {
      "cell_type": "code",
      "source": [
        "# 이 빌트인 펑션이 왜 중요하냐면, 앞으로 여러분들이 만날 자료형들은\n",
        "# 새롭게 만나는 자료형들입니다.\n",
        "# 예를 들어, 아래 타입을 한 번 살펴보도록 하겠습니다.\n",
        "\n",
        "\n",
        "# dir을 하면 사용 가능한 메소드가 나온다!\n",
        "# >> dir을 하는 건 이런 연산이 가능한 자료형이겠구나! 하고 짐작이 가능하기 때문!\n",
        "# 원하는 메소드를 찾을 수도 있다!\n",
        "\n",
        "import numpy as np\n",
        "\n",
        "data = np. array([[10, 20, 30], [40, 50, 60]])\n",
        "dir(data)\n",
        "\n",
        "# 아래 목록만 봐도 어떤 자료형인지 짐작할 수 있고\n",
        "# 원하는 메서드를 바로 발견할 수도 있습니다.\n",
        "\n",
        "print(data.T)\n"
      ],
      "metadata": {
        "colab": {
          "base_uri": "https://localhost:8080/"
        },
        "id": "SbBGh1N_WgMt",
        "outputId": "be06ac07-4c74-40ff-98c9-583a127c1da8"
      },
      "execution_count": null,
      "outputs": [
        {
          "output_type": "stream",
          "name": "stdout",
          "text": [
            "[[10 40]\n",
            " [20 50]\n",
            " [30 60]]\n"
          ]
        }
      ]
    },
    {
      "cell_type": "code",
      "source": [
        "# id\n",
        "\n",
        "a = 10\n",
        "b = a\n",
        "c = b\n",
        "\n",
        "# 화살표는 어떻게 그렸죠?\n",
        "id(a), id(b), id(c)\n",
        "\n",
        "# id는 해당 변수가 가리키고 있는 최종 목적지"
      ],
      "metadata": {
        "colab": {
          "base_uri": "https://localhost:8080/"
        },
        "id": "V7TYnWf5dFw5",
        "outputId": "78a75557-eaa5-41f7-d1ae-dab9d4998465"
      },
      "execution_count": null,
      "outputs": [
        {
          "output_type": "execute_result",
          "data": {
            "text/plain": [
              "(10751144, 10751144, 10751144)"
            ]
          },
          "metadata": {},
          "execution_count": 53
        }
      ]
    },
    {
      "cell_type": "code",
      "source": [
        "a = 10\n",
        "b = 10\n",
        "\n",
        "id(a), id(b)\n",
        "# 다른 언어에서는 이 값이 다릅니다. 그럼 파이썬에서는 같은가? 아니요\n",
        "# 아니? 아래 같게 나왔는데요?\n",
        "# >>> 파이썬에서 메모리를 줄이기 위해 자주 쓸만한 값은 하나의 id로 나오게 한다!(-5 ~ 256 만 같은 값.)"
      ],
      "metadata": {
        "colab": {
          "base_uri": "https://localhost:8080/"
        },
        "id": "yaV3ZAgpdF_J",
        "outputId": "79407bef-4500-4857-95dd-c62f41bae5b9"
      },
      "execution_count": null,
      "outputs": [
        {
          "output_type": "execute_result",
          "data": {
            "text/plain": [
              "(10751144, 10751144)"
            ]
          },
          "metadata": {},
          "execution_count": 56
        }
      ]
    },
    {
      "cell_type": "code",
      "source": [
        "a = 10000\n",
        "b = 10000\n",
        "\n",
        "id(a), id(b)\n",
        "# 다르게 나왔네요?\n",
        "# 근데 이게 정상."
      ],
      "metadata": {
        "colab": {
          "base_uri": "https://localhost:8080/"
        },
        "id": "_gg8kMuPfBsc",
        "outputId": "ea7d6c19-090f-410a-ef5c-f5e9a98e3870"
      },
      "execution_count": null,
      "outputs": [
        {
          "output_type": "execute_result",
          "data": {
            "text/plain": [
              "(138931212929808, 138931212932848)"
            ]
          },
          "metadata": {},
          "execution_count": 57
        }
      ]
    },
    {
      "cell_type": "markdown",
      "source": [
        "# print와 print를 안 하는 것의 차이"
      ],
      "metadata": {
        "id": "gaquxLzOctak"
      }
    },
    {
      "cell_type": "code",
      "source": [
        "# 아직 class를 안 배웠지만, 이 차이를 위해 잠시 이 코드를 사용하겠습니다.\n",
        "\n",
        "class Customint:\n",
        "    def __repr__(self):\n",
        "        return \"hello\"\n",
        "\n",
        "    def __str__(self):\n",
        "        return \"hello world\""
      ],
      "metadata": {
        "id": "nvNCkPqyWgPF"
      },
      "execution_count": null,
      "outputs": []
    },
    {
      "cell_type": "code",
      "source": [
        "a = Customint()\n",
        "\n",
        "a"
      ],
      "metadata": {
        "colab": {
          "base_uri": "https://localhost:8080/"
        },
        "id": "HU4ZLsZbWgRG",
        "outputId": "4d24bd73-4b89-4b96-d9cc-353c67c278cb"
      },
      "execution_count": null,
      "outputs": [
        {
          "output_type": "execute_result",
          "data": {
            "text/plain": [
              "hello"
            ]
          },
          "metadata": {},
          "execution_count": 60
        }
      ]
    },
    {
      "cell_type": "code",
      "source": [
        "print(a)"
      ],
      "metadata": {
        "colab": {
          "base_uri": "https://localhost:8080/"
        },
        "id": "WhfAtnvhe8MV",
        "outputId": "b9a36d20-fe4f-40ac-ddb3-deaf251c2ba7"
      },
      "execution_count": null,
      "outputs": [
        {
          "output_type": "stream",
          "name": "stdout",
          "text": [
            "hello world\n"
          ]
        }
      ]
    },
    {
      "cell_type": "code",
      "source": [
        "# print -> 해당 인스턴스에 __str__ 호출\n",
        "# 그냥 출력 -> 해당 인스턴스에 repr 호출"
      ],
      "metadata": {
        "colab": {
          "base_uri": "https://localhost:8080/"
        },
        "id": "Uyl4TmYEe8Od",
        "outputId": "a237ce76-5793-490c-d0cd-0bbd5c15434e"
      },
      "execution_count": null,
      "outputs": [
        {
          "output_type": "execute_result",
          "data": {
            "text/plain": [
              "10"
            ]
          },
          "metadata": {},
          "execution_count": 62
        }
      ]
    },
    {
      "cell_type": "code",
      "source": [],
      "metadata": {
        "id": "uo6efaLUkw5C"
      },
      "execution_count": null,
      "outputs": []
    },
    {
      "cell_type": "code",
      "source": [
        "a = 10\n",
        "dir(a)\n",
        "# a.__repr__()  > 그냥 출력! 했을 때 실제 실행되는 함수\n",
        "# a.__str__()  > print로 출력!"
      ],
      "metadata": {
        "id": "kRKePJWae8Qd"
      },
      "execution_count": null,
      "outputs": []
    },
    {
      "cell_type": "markdown",
      "source": [
        "# python built-in functions\n",
        "* 링크 : https://docs.python.org/3/library/functions.html"
      ],
      "metadata": {
        "id": "VWZl_x78jv6u"
      }
    },
    {
      "cell_type": "code",
      "source": [
        "# 자주 사용하는 fucntions\n",
        "abs\n",
        "all\n",
        "any\n",
        "bin\n",
        "enumerate\n",
        "len\n",
        "format\n",
        "input\n",
        "range\n",
        "\n",
        "sorted\n",
        "reversed\n",
        "\n",
        "filter\n",
        "map\n",
        "zip\n",
        "\n",
        "# isinstance # class 파트에서 해드리겠습니다!\n",
        "# issubclass\n",
        "\n",
        "iter\n",
        "next\n",
        "\n",
        "locals\n",
        "globals\n",
        "\n",
        "max\n",
        "min\n",
        "sum\n"
      ],
      "metadata": {
        "id": "GGbnPS7De8UW"
      },
      "execution_count": null,
      "outputs": []
    },
    {
      "cell_type": "code",
      "source": [
        "format(100000000, ',')"
      ],
      "metadata": {
        "colab": {
          "base_uri": "https://localhost:8080/",
          "height": 35
        },
        "id": "3dlTl3ntlHyn",
        "outputId": "5ae20c43-231d-4a25-e5f1-3b4d7e65c18f"
      },
      "execution_count": null,
      "outputs": [
        {
          "output_type": "execute_result",
          "data": {
            "text/plain": [
              "'100,000,000'"
            ],
            "application/vnd.google.colaboratory.intrinsic+json": {
              "type": "string"
            }
          },
          "metadata": {},
          "execution_count": 63
        }
      ]
    },
    {
      "cell_type": "code",
      "source": [
        "# 자료형을 만드는 built-in functions\n",
        "# int\n",
        "# float\n",
        "# str\n",
        "# complex\n",
        "# list\n",
        "# tuple\n",
        "# dict\n",
        "# set"
      ],
      "metadata": {
        "id": "Oo-FwsGCWgTd"
      },
      "execution_count": null,
      "outputs": []
    },
    {
      "cell_type": "code",
      "source": [
        "abs(-10) # 절댓값으로 바꿔준다\n",
        "all([True, True, False]) # 안에 있는 값이 다 True여야 True 값을 반환\n",
        "any ([True, True, False]) # 하나라도 True면 True!\n",
        "bin(10) # 2진수로 바꿔줍니다. > 알고리즘 문제에서 아주 간혹 출제 됩니다."
      ],
      "metadata": {
        "id": "VDRBljozm8CV"
      },
      "execution_count": null,
      "outputs": []
    },
    {
      "cell_type": "code",
      "source": [
        "# enumerate\n",
        "# len\n",
        "# format\n",
        "# input\n",
        "# range"
      ],
      "metadata": {
        "colab": {
          "base_uri": "https://localhost:8080/",
          "height": 35
        },
        "id": "QbgqKhvImFYo",
        "outputId": "7700bc62-8bd9-41d6-a4bf-00d2b233c493"
      },
      "execution_count": null,
      "outputs": [
        {
          "output_type": "execute_result",
          "data": {
            "text/plain": [
              "'0b1010'"
            ],
            "application/vnd.google.colaboratory.intrinsic+json": {
              "type": "string"
            }
          },
          "metadata": {},
          "execution_count": 70
        }
      ]
    },
    {
      "cell_type": "markdown",
      "source": [
        "#반복문(while)[링크 텍스트](https://)"
      ],
      "metadata": {
        "id": "uGecFehw4cbt"
      }
    },
    {
      "cell_type": "code",
      "source": [],
      "metadata": {
        "id": "TA8ULeir4iKd"
      },
      "execution_count": null,
      "outputs": []
    },
    {
      "cell_type": "markdown",
      "source": [
        "#조건문(match)"
      ],
      "metadata": {
        "id": "RbJPHMga4fYe"
      }
    },
    {
      "cell_type": "code",
      "source": [],
      "metadata": {
        "id": "IQvng1YfmFb_"
      },
      "execution_count": null,
      "outputs": []
    },
    {
      "cell_type": "code",
      "source": [],
      "metadata": {
        "id": "FLXsvwVxmFpn"
      },
      "execution_count": null,
      "outputs": []
    },
    {
      "cell_type": "markdown",
      "source": [],
      "metadata": {
        "id": "91U8qY-NivPQ"
      }
    }
  ]
}